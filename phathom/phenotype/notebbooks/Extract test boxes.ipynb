{
 "cells": [
  {
   "cell_type": "code",
   "execution_count": 4,
   "metadata": {},
   "outputs": [],
   "source": [
    "import os\n",
    "import numpy as np\n",
    "from phathom import io\n",
    "from phathom import utils"
   ]
  },
  {
   "cell_type": "code",
   "execution_count": 2,
   "metadata": {},
   "outputs": [],
   "source": [
    "working_dir = '/media/jswaney/Drive/Justin/organoid_etango'"
   ]
  },
  {
   "cell_type": "code",
   "execution_count": 6,
   "metadata": {},
   "outputs": [],
   "source": [
    "z_arr_paths = ['syto16_clahe.zarr/1_1_1', \n",
    "               'sox2_clahe.zarr/1_1_1', \n",
    "               'tbr1.zarr']\n",
    "start = np.array((256, 2048, 2048))\n",
    "shape = np.array((256, 512, 512))\n",
    "\n",
    "boxes = []\n",
    "stop = start + shape\n",
    "for z_arr_path in z_arr_paths:\n",
    "    z_arr = io.zarr.open(os.path.join(working_dir, z_arr_path))\n",
    "    box = utils.extract_box(z_arr, start, stop)\n",
    "    boxes.append(box)"
   ]
  },
  {
   "cell_type": "code",
   "execution_count": 8,
   "metadata": {},
   "outputs": [],
   "source": [
    "new_paths = ['syto16_test.zarr',\n",
    "             'sox2_test.zarr',\n",
    "             'trb1_test.zarr']\n",
    "chunks = (64, 64, 64)\n",
    "\n",
    "for new_path, box in zip(new_paths, boxes):\n",
    "    path = os.path.join(working_dir, new_path)\n",
    "    new_z_arr = io.zarr.new_zarr(path, box.shape, chunks, box.dtype)\n",
    "    new_z_arr[:] = box"
   ]
  },
  {
   "cell_type": "code",
   "execution_count": null,
   "metadata": {},
   "outputs": [],
   "source": []
  }
 ],
 "metadata": {
  "kernelspec": {
   "display_name": "Python [conda env:phathom]",
   "language": "python",
   "name": "conda-env-phathom-py"
  },
  "language_info": {
   "codemirror_mode": {
    "name": "ipython",
    "version": 3
   },
   "file_extension": ".py",
   "mimetype": "text/x-python",
   "name": "python",
   "nbconvert_exporter": "python",
   "pygments_lexer": "ipython3",
   "version": "3.6.5"
  }
 },
 "nbformat": 4,
 "nbformat_minor": 2
}

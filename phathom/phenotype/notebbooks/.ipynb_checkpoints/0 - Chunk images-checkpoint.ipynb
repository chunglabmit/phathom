{
 "cells": [
  {
   "cell_type": "code",
   "execution_count": 3,
   "metadata": {},
   "outputs": [],
   "source": [
    "from phathom import io\n",
    "import os"
   ]
  },
  {
   "cell_type": "code",
   "execution_count": 4,
   "metadata": {},
   "outputs": [],
   "source": [
    "working_dir = '/media/jswaney/Drive/Justin/organoid_etango'"
   ]
  },
  {
   "cell_type": "code",
   "execution_count": 5,
   "metadata": {},
   "outputs": [],
   "source": [
    "syto16_img = io.tiff.imread(os.path.join(working_dir, 'syto16.tif'))"
   ]
  },
  {
   "cell_type": "code",
   "execution_count": 8,
   "metadata": {},
   "outputs": [],
   "source": [
    "syto16_zarr = io.zarr.new_zarr(os.path.join(working_dir, 'syto16.zarr'), \n",
    "                               syto16_img.shape,\n",
    "                               chunks=(64, 64, 64),\n",
    "                               dtype=syto16_img.dtype)"
   ]
  },
  {
   "cell_type": "code",
   "execution_count": 9,
   "metadata": {},
   "outputs": [],
   "source": [
    "syto16_zarr[:] = syto16_img"
   ]
  },
  {
   "cell_type": "code",
   "execution_count": 10,
   "metadata": {},
   "outputs": [],
   "source": [
    "del syto16_img"
   ]
  },
  {
   "cell_type": "code",
   "execution_count": null,
   "metadata": {},
   "outputs": [],
   "source": [
    "sox2_img = io.tiff.imread(os.path.join(working_dir, 'sox2.tif'))"
   ]
  },
  {
   "cell_type": "code",
   "execution_count": null,
   "metadata": {},
   "outputs": [],
   "source": [
    "sox2_zarr = io.zarr.new_zarr(os.path.join(working_dir, 'sox2.zarr'), \n",
    "                             sox2_img.shape,\n",
    "                             chunks=(64, 64, 64),\n",
    "                             dtype=sox2_img.dtype)"
   ]
  }
 ],
 "metadata": {
  "kernelspec": {
   "display_name": "Python [conda env:phathom]",
   "language": "python",
   "name": "conda-env-phathom-py"
  },
  "language_info": {
   "codemirror_mode": {
    "name": "ipython",
    "version": 3
   },
   "file_extension": ".py",
   "mimetype": "text/x-python",
   "name": "python",
   "nbconvert_exporter": "python",
   "pygments_lexer": "ipython3",
   "version": "3.6.5"
  }
 },
 "nbformat": 4,
 "nbformat_minor": 2
}

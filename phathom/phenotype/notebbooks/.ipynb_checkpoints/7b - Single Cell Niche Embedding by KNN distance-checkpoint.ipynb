{
 "cells": [
  {
   "cell_type": "code",
   "execution_count": 1,
   "metadata": {},
   "outputs": [],
   "source": [
    "import os\n",
    "import tifffile\n",
    "import numpy as np\n",
    "import multiprocessing as mp\n",
    "from tqdm import tqdm_notebook as tqdm\n",
    "import phathom.phenotype.mesh as mesh\n",
    "import phathom.phenotype.niche as niche\n",
    "import matplotlib.pyplot as plt"
   ]
  },
  {
   "cell_type": "code",
   "execution_count": 2,
   "metadata": {},
   "outputs": [],
   "source": [
    "working_dir = '/media/jswaney/SSD EVO 860/organoid_phenotyping/20181210_eF9_A34_2'"
   ]
  },
  {
   "cell_type": "markdown",
   "metadata": {},
   "source": [
    "# Load centers and cell-type labels"
   ]
  },
  {
   "cell_type": "code",
   "execution_count": 3,
   "metadata": {},
   "outputs": [
    {
     "data": {
      "text/plain": [
       "(1556799, 3)"
      ]
     },
     "execution_count": 3,
     "metadata": {},
     "output_type": "execute_result"
    }
   ],
   "source": [
    "centers_path = 'centers.npy'\n",
    "sox2_labels_path = 'sox2_labels.npy'\n",
    "tbr1_labels_path = 'tbr1_labels.npy'\n",
    "\n",
    "centers = np.load(os.path.join(working_dir, centers_path))\n",
    "sox2_labels = np.load(os.path.join(working_dir, sox2_labels_path))\n",
    "tbr1_labels = np.load(os.path.join(working_dir, tbr1_labels_path))\n",
    "dn_labels = ~np.logical_or(sox2_labels, tbr1_labels)\n",
    "\n",
    "centers.shape"
   ]
  },
  {
   "cell_type": "code",
   "execution_count": 4,
   "metadata": {},
   "outputs": [],
   "source": [
    "voxel_size = (2.052, 1.082, 1.082)\n",
    "\n",
    "centers_um = mesh.voxels_to_micron(centers, voxel_size)"
   ]
  },
  {
   "cell_type": "markdown",
   "metadata": {},
   "source": [
    "# Query k-neighbors for each cell type"
   ]
  },
  {
   "cell_type": "code",
   "execution_count": 5,
   "metadata": {},
   "outputs": [],
   "source": [
    "sox2_centers_um = centers_um[sox2_labels]\n",
    "tbr1_centers_um = centers_um[tbr1_labels]\n",
    "dn_centers_um = centers_um[dn_labels]"
   ]
  },
  {
   "cell_type": "code",
   "execution_count": null,
   "metadata": {},
   "outputs": [],
   "source": [
    "nbrs_sox2 = niche.fit_neighbors(sox2_centers_um)\n",
    "nbrs_tbr1 = niche.fit_neighbors(tbr1_centers_um)\n",
    "nbrs_dn = niche.fit_neighbors(dn_centers_um)"
   ]
  },
  {
   "cell_type": "code",
   "execution_count": null,
   "metadata": {},
   "outputs": [],
   "source": [
    "from joblib import dump, load"
   ]
  },
  {
   "cell_type": "code",
   "execution_count": null,
   "metadata": {},
   "outputs": [],
   "source": [
    "dump(nbrs_sox2, os.path.join(working_dir, 'nbrs_sox2.joblib')) \n",
    "dump(nbrs_tbr1, os.path.join(working_dir, 'nbrs_tbr1.joblib')) \n",
    "dump(nbrs_dn, os.path.join(working_dir, 'nbrs_dn.joblib')) "
   ]
  },
  {
   "cell_type": "code",
   "execution_count": 33,
   "metadata": {},
   "outputs": [
    {
     "data": {
      "text/plain": [
       "((1556799, 10), (1556799, 10))"
      ]
     },
     "execution_count": 33,
     "metadata": {},
     "output_type": "execute_result"
    }
   ],
   "source": [
    "k = 10\n",
    "\n",
    "sox2_distances, sox2_indices = niche.query_kneighbors(nbrs, centers_um, k)\n",
    "distances.shape, indices.shape"
   ]
  },
  {
   "cell_type": "code",
   "execution_count": 34,
   "metadata": {},
   "outputs": [
    {
     "data": {
      "text/plain": [
       "((1556799,), (1556799,))"
      ]
     },
     "execution_count": 34,
     "metadata": {},
     "output_type": "execute_result"
    }
   ],
   "source": [
    "sox2_counts = niche.neighborhood_counts(indices, sox2_labels)\n",
    "tbr1_counts = niche.neighborhood_counts(indices, tbr1_labels)\n",
    "sox2_counts.shape, tbr1_counts.shape"
   ]
  },
  {
   "cell_type": "code",
   "execution_count": 35,
   "metadata": {},
   "outputs": [
    {
     "data": {
      "image/png": "[encoded data removed]",
      "text/plain": [
       "<Figure size 432x288 with 1 Axes>"
      ]
     },
     "metadata": {
      "needs_background": "light"
     },
     "output_type": "display_data"
    },
    {
     "data": {
      "image/png": "[encoded data removed]",
      "text/plain": [
       "<Figure size 432x288 with 1 Axes>"
      ]
     },
     "metadata": {
      "needs_background": "light"
     },
     "output_type": "display_data"
    }
   ],
   "source": [
    "plt.hist(sox2_counts, bins=10)\n",
    "plt.show()\n",
    "\n",
    "plt.hist(tbr1_counts, bins=10)\n",
    "plt.show()"
   ]
  },
  {
   "cell_type": "code",
   "execution_count": 41,
   "metadata": {},
   "outputs": [
    {
     "data": {
      "application/vnd.jupyter.widget-view+json": {
       "model_id": "9654d259a6b747fba3f7fad5dc735a91",
       "version_major": 2,
       "version_minor": 0
      },
      "text/plain": [
       "HBox(children=(IntProgress(value=0, max=1556799), HTML(value='')))"
      ]
     },
     "metadata": {},
     "output_type": "display_data"
    },
    {
     "name": "stdout",
     "output_type": "stream",
     "text": [
      "\n"
     ]
    }
   ],
   "source": [
    "for dist, idx in tqdm(zip(distances, indices), total=len(distances)):\n",
    "    sox2_flag = sox2_labels[idx]\n",
    "#     tbr1_flag = tbr1_labels[idx]\n",
    "#     dn_flag = dn_labels[idx]\n",
    "    sox2_idx = idx[sox2_flag]\n",
    "    sox2_dist"
   ]
  },
  {
   "cell_type": "code",
   "execution_count": null,
   "metadata": {},
   "outputs": [],
   "source": []
  }
 ],
 "metadata": {
  "kernelspec": {
   "display_name": "Python 3",
   "language": "python",
   "name": "python3"
  },
  "language_info": {
   "codemirror_mode": {
    "name": "ipython",
    "version": 3
   },
   "file_extension": ".py",
   "mimetype": "text/x-python",
   "name": "python",
   "nbconvert_exporter": "python",
   "pygments_lexer": "ipython3",
   "version": "3.7.1"
  }
 },
 "nbformat": 4,
 "nbformat_minor": 2
}

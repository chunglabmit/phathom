{
 "cells": [
  {
   "cell_type": "code",
   "execution_count": 1,
   "metadata": {},
   "outputs": [],
   "source": [
    "import os"
   ]
  },
  {
   "cell_type": "code",
   "execution_count": 4,
   "metadata": {},
   "outputs": [],
   "source": [
    "working_dir = '/media/jswaney/Drive/Justin/kc_grant/2018-11-01'"
   ]
  },
  {
   "cell_type": "code",
   "execution_count": 5,
   "metadata": {},
   "outputs": [
    {
     "data": {
      "text/plain": [
       "['blobs_eTango177.json',\n",
       " 'blobs_eTango177_npy.json',\n",
       " 'blobs_eTango178.json',\n",
       " 'blobs_eTango178_som.json',\n",
       " 'cell-coordinates_eTango177_npy.json',\n",
       " 'cell-coordinates_eTango177_npy0.500000.json',\n",
       " 'cell-coordinates_eTango177_somatostatin.json',\n",
       " 'cell-coordinates_eTango177_somatostatin0.500000.json',\n",
       " 'cell-coordinates_eTango178_npy.json',\n",
       " 'cell-coordinates_eTango178_npy0.500000.json',\n",
       " 'cell-coordinates_eTango178_somatostatin.json',\n",
       " 'cell-coordinates_eTango178_somatostatin0.500000.json',\n",
       " 'eTango177.model',\n",
       " 'eTango177.model.backup',\n",
       " 'eTango177_npy.model',\n",
       " 'eTango178_npy_32.model',\n",
       " 'eTango178_npy_48.model',\n",
       " 'eTango178_som.model',\n",
       " 'gt',\n",
       " 'patches_eTango177.h5',\n",
       " 'patches_eTango177_npy.h5',\n",
       " 'patches_eTango178_npy.h5',\n",
       " 'patches_eTango178_som.h5',\n",
       " 'readme.txt',\n",
       " 'zcoords.npy']"
      ]
     },
     "execution_count": 5,
     "metadata": {},
     "output_type": "execute_result"
    }
   ],
   "source": [
    "os.listdir(working_dir)"
   ]
  },
  {
   "cell_type": "markdown",
   "metadata": {},
   "source": [
    "# Load in blobs, patches, rf results, and ground truth"
   ]
  },
  {
   "cell_type": "code",
   "execution_count": 7,
   "metadata": {},
   "outputs": [
    {
     "name": "stdout",
     "output_type": "stream",
     "text": [
      "Blob detector output (list of x, y, z):\n",
      "blobs_eTango177.json\n",
      "\n",
      "Patches for every blob:\n",
      "patches_eTango177.h5\n",
      "\n",
      "A PCA + random forest model + the GT used to train it\n",
      "(a pickle of a dictionary - \"x\", \"y\", \"z\" are the blob coordinates,\n",
      "\"marks\" are -1 for negative, 0 for not in GT set and 1 for positive.\n",
      "eTango177.model\n",
      "\n",
      "Data is in\n",
      "/media/share3/SmartSPIM_server/Nov_2018/2018_11_01/20181101_10_58_32_eTango#177_M04w_488LP55_561LP60_647Lp90/Ex_1_Em_1_destriped_stitched\n",
      "\n"
     ]
    }
   ],
   "source": [
    "with open(os.path.join(working_dir, 'readme.txt')) as f:\n",
    "    print(f.read())"
   ]
  },
  {
   "cell_type": "code",
   "execution_count": 9,
   "metadata": {},
   "outputs": [],
   "source": [
    "import numpy as np\n",
    "import h5py\n",
    "import json"
   ]
  },
  {
   "cell_type": "code",
   "execution_count": 58,
   "metadata": {},
   "outputs": [
    {
     "name": "stdout",
     "output_type": "stream",
     "text": [
      "Loaded 442251 blobs\n"
     ]
    }
   ],
   "source": [
    "blobs_path = 'blobs_eTango177_npy.json'\n",
    "\n",
    "with open(os.path.join(working_dir, blobs_path)) as f:\n",
    "    data = np.asarray(json.load(f))\n",
    "    \n",
    "print('Loaded {} blobs'.format(len(data)))"
   ]
  },
  {
   "cell_type": "code",
   "execution_count": 30,
   "metadata": {},
   "outputs": [
    {
     "name": "stdout",
     "output_type": "stream",
     "text": [
      "['patches', 'patches_xy', 'patches_xz', 'patches_yz', 'x', 'y', 'z']\n"
     ]
    }
   ],
   "source": [
    "patches_path = 'patches_eTango177_npy.h5'\n",
    "\n",
    "f = h5py.File(os.path.join(working_dir, patches_path), 'r')\n",
    "\n",
    "print(list(f.keys()))\n",
    "\n",
    "x = np.asarray(f['x'])\n",
    "y = np.asarray(f['y'])\n",
    "z = np.asarray(f['z'])"
   ]
  },
  {
   "cell_type": "code",
   "execution_count": 31,
   "metadata": {},
   "outputs": [
    {
     "name": "stdout",
     "output_type": "stream",
     "text": [
      "(442242,) (442242,) (442242,)\n"
     ]
    }
   ],
   "source": [
    "print(x.shape, y.shape, z.shape)"
   ]
  },
  {
   "cell_type": "code",
   "execution_count": 34,
   "metadata": {},
   "outputs": [],
   "source": [
    "a = np.asarray(f['patches'][0])"
   ]
  },
  {
   "cell_type": "code",
   "execution_count": 35,
   "metadata": {},
   "outputs": [],
   "source": [
    "b = np.asarray(f['patches_xy'][0])"
   ]
  },
  {
   "cell_type": "code",
   "execution_count": 38,
   "metadata": {},
   "outputs": [
    {
     "data": {
      "text/plain": [
       "True"
      ]
     },
     "execution_count": 38,
     "metadata": {},
     "output_type": "execute_result"
    }
   ],
   "source": [
    "np.allclose(a, b)"
   ]
  },
  {
   "cell_type": "code",
   "execution_count": 40,
   "metadata": {},
   "outputs": [
    {
     "data": {
      "text/plain": [
       "(442242, 31, 31)"
      ]
     },
     "execution_count": 40,
     "metadata": {},
     "output_type": "execute_result"
    }
   ],
   "source": [
    "patches_xy = np.asarray(f['patches_xy'])\n",
    "patches_xz = np.asarray(f['patches_xz'])\n",
    "patches_yz = np.asarray(f['patches_yz'])\n",
    "patches_xy.shape"
   ]
  },
  {
   "cell_type": "code",
   "execution_count": 41,
   "metadata": {},
   "outputs": [],
   "source": [
    "from phathom.utils import pickle_load"
   ]
  },
  {
   "cell_type": "code",
   "execution_count": 42,
   "metadata": {},
   "outputs": [
    {
     "name": "stderr",
     "output_type": "stream",
     "text": [
      "/home/jswaney/anaconda3/envs/phathom/lib/python3.6/site-packages/sklearn/base.py:251: UserWarning: Trying to unpickle estimator PCA from version 0.19.1 when using version 0.20.1. This might lead to breaking code or invalid results. Use at your own risk.\n",
      "  UserWarning)\n",
      "/home/jswaney/anaconda3/envs/phathom/lib/python3.6/site-packages/sklearn/base.py:251: UserWarning: Trying to unpickle estimator DecisionTreeClassifier from version 0.19.1 when using version 0.20.1. This might lead to breaking code or invalid results. Use at your own risk.\n",
      "  UserWarning)\n",
      "/home/jswaney/anaconda3/envs/phathom/lib/python3.6/site-packages/sklearn/base.py:251: UserWarning: Trying to unpickle estimator RandomForestClassifier from version 0.19.1 when using version 0.20.1. This might lead to breaking code or invalid results. Use at your own risk.\n",
      "  UserWarning)\n"
     ]
    }
   ],
   "source": [
    "rf_path = 'eTango177_npy.model'\n",
    "\n",
    "rf_dict = pickle_load(os.path.join(working_dir, rf_path))"
   ]
  },
  {
   "cell_type": "code",
   "execution_count": 43,
   "metadata": {},
   "outputs": [
    {
     "data": {
      "text/plain": [
       "dict_keys(['pca', 'classifier', 'marks', 'predictions', 'pred_probs', 'x', 'y', 'z'])"
      ]
     },
     "execution_count": 43,
     "metadata": {},
     "output_type": "execute_result"
    }
   ],
   "source": [
    "rf_dict.keys()"
   ]
  },
  {
   "cell_type": "code",
   "execution_count": 47,
   "metadata": {},
   "outputs": [],
   "source": [
    "labels_gt = rf_dict['marks']\n",
    "labels_rf = rf_dict['predictions']"
   ]
  },
  {
   "cell_type": "code",
   "execution_count": 48,
   "metadata": {},
   "outputs": [
    {
     "data": {
      "text/plain": [
       "((442242,), (442242,))"
      ]
     },
     "execution_count": 48,
     "metadata": {},
     "output_type": "execute_result"
    }
   ],
   "source": [
    "labels_gt.shape, labels_rf.shape"
   ]
  },
  {
   "cell_type": "markdown",
   "metadata": {},
   "source": [
    "# Calculate training accuracy of RF classifier"
   ]
  },
  {
   "cell_type": "code",
   "execution_count": 53,
   "metadata": {},
   "outputs": [],
   "source": [
    "loc = np.where(labels_gt != 0)[0]"
   ]
  },
  {
   "cell_type": "code",
   "execution_count": 67,
   "metadata": {},
   "outputs": [
    {
     "data": {
      "text/plain": [
       "(364,)"
      ]
     },
     "execution_count": 67,
     "metadata": {},
     "output_type": "execute_result"
    }
   ],
   "source": [
    "correct_flags = ((labels_rf[loc]==1) == (labels_gt[loc]==1))\n",
    "correct_flags.shape"
   ]
  },
  {
   "cell_type": "code",
   "execution_count": 68,
   "metadata": {},
   "outputs": [
    {
     "data": {
      "text/plain": [
       "(0, -1)"
      ]
     },
     "execution_count": 68,
     "metadata": {},
     "output_type": "execute_result"
    }
   ],
   "source": [
    "labels_rf.min(), labels_gt.min()"
   ]
  },
  {
   "cell_type": "code",
   "execution_count": 69,
   "metadata": {},
   "outputs": [
    {
     "data": {
      "text/plain": [
       "1.0"
      ]
     },
     "execution_count": 69,
     "metadata": {},
     "output_type": "execute_result"
    }
   ],
   "source": [
    "correct_flags.mean()"
   ]
  },
  {
   "cell_type": "code",
   "execution_count": null,
   "metadata": {},
   "outputs": [],
   "source": []
  },
  {
   "cell_type": "code",
   "execution_count": null,
   "metadata": {},
   "outputs": [],
   "source": []
  },
  {
   "cell_type": "markdown",
   "metadata": {},
   "source": []
  },
  {
   "cell_type": "code",
   "execution_count": null,
   "metadata": {},
   "outputs": [],
   "source": []
  }
 ],
 "metadata": {
  "kernelspec": {
   "display_name": "Python 3",
   "language": "python",
   "name": "python3"
  },
  "language_info": {
   "codemirror_mode": {
    "name": "ipython",
    "version": 3
   },
   "file_extension": ".py",
   "mimetype": "text/x-python",
   "name": "python",
   "nbconvert_exporter": "python",
   "pygments_lexer": "ipython3",
   "version": "3.6.0"
  }
 },
 "nbformat": 4,
 "nbformat_minor": 2
}

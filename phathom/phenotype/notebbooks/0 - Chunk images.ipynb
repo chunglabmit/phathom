{
 "cells": [
  {
   "cell_type": "code",
   "execution_count": 32,
   "metadata": {},
   "outputs": [],
   "source": [
    "from phathom import io\n",
    "import os"
   ]
  },
  {
   "cell_type": "code",
   "execution_count": 33,
   "metadata": {},
   "outputs": [],
   "source": [
    "working_dir = '/media/jswaney/Drive/Justin/organoid_etango_small'"
   ]
  },
  {
   "cell_type": "code",
   "execution_count": 34,
   "metadata": {},
   "outputs": [],
   "source": [
    "syto16_img = io.tiff.imread(os.path.join(working_dir, 'syto16.tif'))"
   ]
  },
  {
   "cell_type": "code",
   "execution_count": 35,
   "metadata": {},
   "outputs": [],
   "source": [
    "syto16_zarr = io.zarr.new_zarr(os.path.join(working_dir, 'syto16.zarr'), \n",
    "                               syto16_img.shape,\n",
    "                               chunks=(64, 64, 64),\n",
    "                               dtype=syto16_img.dtype)"
   ]
  },
  {
   "cell_type": "code",
   "execution_count": 36,
   "metadata": {},
   "outputs": [],
   "source": [
    "syto16_zarr[:] = syto16_img"
   ]
  },
  {
   "cell_type": "code",
   "execution_count": 37,
   "metadata": {},
   "outputs": [],
   "source": [
    "del syto16_img"
   ]
  },
  {
   "cell_type": "code",
   "execution_count": 38,
   "metadata": {},
   "outputs": [],
   "source": [
    "sox2_img = io.tiff.imread(os.path.join(working_dir, 'sox2.tif'))"
   ]
  },
  {
   "cell_type": "code",
   "execution_count": 39,
   "metadata": {},
   "outputs": [],
   "source": [
    "sox2_zarr = io.zarr.new_zarr(os.path.join(working_dir, 'sox2.zarr'), \n",
    "                             sox2_img.shape,\n",
    "                             chunks=(64, 64, 64),\n",
    "                             dtype=sox2_img.dtype)"
   ]
  },
  {
   "cell_type": "code",
   "execution_count": 40,
   "metadata": {},
   "outputs": [],
   "source": [
    "sox2_zarr[:] = sox2_img"
   ]
  },
  {
   "cell_type": "code",
   "execution_count": 41,
   "metadata": {},
   "outputs": [],
   "source": [
    "del sox2_img"
   ]
  },
  {
   "cell_type": "code",
   "execution_count": 42,
   "metadata": {},
   "outputs": [],
   "source": [
    "tbr1_img = io.tiff.imread(os.path.join(working_dir, 'tbr1.tif'))"
   ]
  },
  {
   "cell_type": "code",
   "execution_count": 43,
   "metadata": {},
   "outputs": [],
   "source": [
    "tbr1_zarr = io.zarr.new_zarr(os.path.join(working_dir, 'tbr1.zarr'), \n",
    "                             tbr1_img.shape,\n",
    "                             chunks=(64, 64, 64),\n",
    "                             dtype=tbr1_img.dtype)"
   ]
  },
  {
   "cell_type": "code",
   "execution_count": 44,
   "metadata": {},
   "outputs": [],
   "source": [
    "tbr1_zarr[:] = tbr1_img"
   ]
  },
  {
   "cell_type": "code",
   "execution_count": 45,
   "metadata": {},
   "outputs": [],
   "source": [
    "del tbr1_img"
   ]
  },
  {
   "cell_type": "markdown",
   "metadata": {},
   "source": [
    "Move these chunked arrays to subfolder called `1_1_1` as first mipmap level"
   ]
  },
  {
   "cell_type": "code",
   "execution_count": 16,
   "metadata": {},
   "outputs": [],
   "source": [
    "import zarr\n",
    "from precomputed_tif import ZarrStack"
   ]
  },
  {
   "cell_type": "code",
   "execution_count": 18,
   "metadata": {},
   "outputs": [],
   "source": [
    "src_path = 'syto16.zarr/1_1_1'\n",
    "dest_path = 'syto16.zarr'\n",
    "\n",
    "src = zarr.NestedDirectoryStore(os.path.join(working_dir, src_path))\n",
    "dest = os.path.join(working_dir, dest_path)\n",
    "syto16_stack = ZarrStack(src, dest)"
   ]
  },
  {
   "cell_type": "code",
   "execution_count": 19,
   "metadata": {},
   "outputs": [],
   "source": [
    "src_path = 'sox2.zarr/1_1_1'\n",
    "dest_path = 'sox2.zarr'\n",
    "\n",
    "src = zarr.NestedDirectoryStore(os.path.join(working_dir, src_path))\n",
    "dest = os.path.join(working_dir, dest_path)\n",
    "sox2_stack = ZarrStack(src, dest)"
   ]
  },
  {
   "cell_type": "code",
   "execution_count": 20,
   "metadata": {},
   "outputs": [
    {
     "name": "stderr",
     "output_type": "stream",
     "text": [
      "100%|██████████| 6125/6125 [22:40<00:00,  4.50it/s]\n",
      "100%|██████████| 6125/6125 [23:18<00:00,  4.38it/s]\n",
      "100%|██████████| 972/972 [01:58<00:00,  8.18it/s]\n",
      "100%|██████████| 972/972 [00:42<00:00, 22.94it/s]\n",
      "100%|██████████| 162/162 [00:05<00:00, 28.01it/s]\n",
      "100%|██████████| 162/162 [00:05<00:00, 29.99it/s]\n"
     ]
    }
   ],
   "source": [
    "n_levels = 4\n",
    "\n",
    "syto16_stack.write_info_file(n_levels)\n",
    "sox2_stack.write_info_file(n_levels)\n",
    "\n",
    "for level in range(2, n_levels+1):\n",
    "    syto16_stack.write_level_n(level)\n",
    "    sox2_stack.write_level_n(level)"
   ]
  },
  {
   "cell_type": "code",
   "execution_count": 30,
   "metadata": {},
   "outputs": [],
   "source": [
    "syto16_8x = zarr.open(os.path.join(working_dir, 'syto16.zarr/4_4_4'))"
   ]
  },
  {
   "cell_type": "code",
   "execution_count": 31,
   "metadata": {},
   "outputs": [
    {
     "data": {
      "text/plain": [
       "0"
      ]
     },
     "execution_count": 31,
     "metadata": {},
     "output_type": "execute_result"
    }
   ],
   "source": [
    "img = syto16_8x[:]\n",
    "img.max()"
   ]
  },
  {
   "cell_type": "code",
   "execution_count": 24,
   "metadata": {},
   "outputs": [],
   "source": [
    "import matplotlib.pyplot as plt"
   ]
  },
  {
   "cell_type": "code",
   "execution_count": 28,
   "metadata": {},
   "outputs": [
    {
     "data": {
      "image/png": "[encoded data removed]",
      "text/plain": [
       "<Figure size 432x288 with 1 Axes>"
      ]
     },
     "metadata": {},
     "output_type": "display_data"
    }
   ],
   "source": [
    "plt.imshow(img[20], clim=[0, 1])\n",
    "plt.show()"
   ]
  },
  {
   "cell_type": "code",
   "execution_count": null,
   "metadata": {},
   "outputs": [],
   "source": []
  }
 ],
 "metadata": {
  "kernelspec": {
   "display_name": "Python [conda env:phathom]",
   "language": "python",
   "name": "conda-env-phathom-py"
  },
  "language_info": {
   "codemirror_mode": {
    "name": "ipython",
    "version": 3
   },
   "file_extension": ".py",
   "mimetype": "text/x-python",
   "name": "python",
   "nbconvert_exporter": "python",
   "pygments_lexer": "ipython3",
   "version": "3.6.5"
  }
 },
 "nbformat": 4,
 "nbformat_minor": 2
}

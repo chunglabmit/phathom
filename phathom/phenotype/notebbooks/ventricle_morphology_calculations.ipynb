{
 "cells": [
  {
   "cell_type": "code",
   "execution_count": 20,
   "metadata": {},
   "outputs": [],
   "source": [
    "import tifffile \n",
    "import os\n",
    "import numpy as np\n",
    "from phathom import utils"
   ]
  },
  {
   "cell_type": "code",
   "execution_count": 21,
   "metadata": {
    "scrolled": true
   },
   "outputs": [],
   "source": [
    "# working_dir = '/media/jswaney/SSD EVO 860/organoid_phenotyping/20181206_eF9_A34_1'\n",
    "working_dir = '/media/jswaney/SSD EVO 860/organoid_phenotyping/20181210_eF9_A34_2'"
   ]
  },
  {
   "cell_type": "code",
   "execution_count": 22,
   "metadata": {},
   "outputs": [
    {
     "data": {
      "text/plain": [
       "(646, 619, 638)"
      ]
     },
     "execution_count": 22,
     "metadata": {},
     "output_type": "execute_result"
    }
   ],
   "source": [
    "# ventricle_seg = tifffile.imread(os.path.join(working_dir, 'syto16_4x_downsampled_vzseg_smoothed_binary.tif'))\n",
    "ventricle_seg = tifffile.imread(os.path.join(working_dir, 'sox2_4x_downsampled_vzseg_binary_smooth1.tif'))\n",
    "ventricle_seg.shape"
   ]
  },
  {
   "cell_type": "code",
   "execution_count": 23,
   "metadata": {},
   "outputs": [
    {
     "data": {
      "text/plain": [
       "(2.052, 4.0034, 4.0034)"
      ]
     },
     "execution_count": 23,
     "metadata": {},
     "output_type": "execute_result"
    }
   ],
   "source": [
    "# xy_down = 4\n",
    "xy_down = 3.7\n",
    "\n",
    "voxel_size = utils.read_voxel_size(os.path.join(working_dir, 'voxel_size.csv'))\n",
    "voxel_size = (voxel_size[0],) + tuple([xy_down * d for d in voxel_size[1:]])\n",
    "voxel_size"
   ]
  },
  {
   "cell_type": "code",
   "execution_count": 24,
   "metadata": {},
   "outputs": [
    {
     "data": {
      "text/plain": [
       "32.887838121120005"
      ]
     },
     "execution_count": 24,
     "metadata": {},
     "output_type": "execute_result"
    }
   ],
   "source": [
    "voxel_volume = np.asarray(voxel_size).prod()\n",
    "voxel_volume"
   ]
  },
  {
   "cell_type": "code",
   "execution_count": 25,
   "metadata": {},
   "outputs": [],
   "source": [
    "from scipy.ndimage import label"
   ]
  },
  {
   "cell_type": "code",
   "execution_count": 26,
   "metadata": {},
   "outputs": [
    {
     "data": {
      "text/plain": [
       "40"
      ]
     },
     "execution_count": 26,
     "metadata": {},
     "output_type": "execute_result"
    }
   ],
   "source": [
    "lbls, nb_ventricles = label(ventricle_seg)\n",
    "nb_ventricles"
   ]
  },
  {
   "cell_type": "markdown",
   "metadata": {},
   "source": [
    "# Custom measurements with scipy"
   ]
  },
  {
   "cell_type": "code",
   "execution_count": 84,
   "metadata": {},
   "outputs": [],
   "source": [
    "from scipy.ndimage import find_objects"
   ]
  },
  {
   "cell_type": "code",
   "execution_count": 20,
   "metadata": {},
   "outputs": [
    {
     "data": {
      "text/plain": [
       "62"
      ]
     },
     "execution_count": 20,
     "metadata": {},
     "output_type": "execute_result"
    }
   ],
   "source": [
    "bboxes = find_objects(lbls)\n",
    "len(bboxes)"
   ]
  },
  {
   "cell_type": "code",
   "execution_count": 24,
   "metadata": {},
   "outputs": [
    {
     "data": {
      "text/plain": [
       "(3008,)"
      ]
     },
     "execution_count": 24,
     "metadata": {},
     "output_type": "execute_result"
    }
   ],
   "source": [
    "for i, bbox in enumerate(bboxes):\n",
    "    roi = lbls[bbox]\n",
    "    loc = np.where(roi == i+1)\n",
    "    mask = (roi[loc] > 0)\n",
    "    # ..."
   ]
  },
  {
   "cell_type": "markdown",
   "metadata": {},
   "source": [
    "# Simple measurements with skimage"
   ]
  },
  {
   "cell_type": "code",
   "execution_count": 27,
   "metadata": {},
   "outputs": [],
   "source": [
    "from skimage.measure import regionprops"
   ]
  },
  {
   "cell_type": "code",
   "execution_count": 28,
   "metadata": {},
   "outputs": [],
   "source": [
    "props = regionprops(lbls)\n",
    "\n",
    "vol_voxels = [p.area for p in props]\n",
    "vol_um3 = [v * voxel_volume for v in vol_voxels]\n",
    "eq_diams = [p.equivalent_diameter for p in props]\n",
    "centroids = [p.centroid for p in props]\n",
    "euler_nums = [p.euler_number for p in props]\n",
    "extents = [p.extent for p in props]\n",
    "minor_lengths = [p.minor_axis_length for p in props]\n",
    "major_lengths = [p.major_axis_length for p in props]\n",
    "axis_ratio = [major / minor for major, minor in zip(major_lengths, minor_lengths)]\n",
    "# solidity = [p.solidity for p in props]  # Sometimes this errors out"
   ]
  },
  {
   "cell_type": "markdown",
   "metadata": {},
   "source": [
    "# Make table and plots"
   ]
  },
  {
   "cell_type": "code",
   "execution_count": 29,
   "metadata": {},
   "outputs": [],
   "source": [
    "import matplotlib.pyplot as plt\n",
    "import pandas as pd"
   ]
  },
  {
   "cell_type": "code",
   "execution_count": 30,
   "metadata": {},
   "outputs": [],
   "source": [
    "data = {'vol_vx': vol_voxels,\n",
    "        'vol_um3': vol_um3,\n",
    "        'eq_diam': eq_diams,\n",
    "        'euler_num': euler_nums,\n",
    "        'extent': extents,\n",
    "        'minor_axis': minor_lengths,\n",
    "        'major_axis': major_lengths,\n",
    "        'axis_ratio': axis_ratio}"
   ]
  },
  {
   "cell_type": "code",
   "execution_count": 31,
   "metadata": {},
   "outputs": [
    {
     "data": {
      "text/html": [
       "<div>\n",
       "<style scoped>\n",
       "    .dataframe tbody tr th:only-of-type {\n",
       "        vertical-align: middle;\n",
       "    }\n",
       "\n",
       "    .dataframe tbody tr th {\n",
       "        vertical-align: top;\n",
       "    }\n",
       "\n",
       "    .dataframe thead th {\n",
       "        text-align: right;\n",
       "    }\n",
       "</style>\n",
       "<table border=\"1\" class=\"dataframe\">\n",
       "  <thead>\n",
       "    <tr style=\"text-align: right;\">\n",
       "      <th></th>\n",
       "      <th>vol_vx</th>\n",
       "      <th>vol_um3</th>\n",
       "      <th>eq_diam</th>\n",
       "      <th>euler_num</th>\n",
       "      <th>extent</th>\n",
       "      <th>minor_axis</th>\n",
       "      <th>major_axis</th>\n",
       "      <th>axis_ratio</th>\n",
       "    </tr>\n",
       "  </thead>\n",
       "  <tbody>\n",
       "    <tr>\n",
       "      <th>0</th>\n",
       "      <td>51214</td>\n",
       "      <td>1.684318e+06</td>\n",
       "      <td>46.074789</td>\n",
       "      <td>1</td>\n",
       "      <td>0.145909</td>\n",
       "      <td>59.436482</td>\n",
       "      <td>104.778804</td>\n",
       "      <td>1.762870</td>\n",
       "    </tr>\n",
       "    <tr>\n",
       "      <th>1</th>\n",
       "      <td>2608</td>\n",
       "      <td>8.577148e+04</td>\n",
       "      <td>17.077973</td>\n",
       "      <td>1</td>\n",
       "      <td>0.475219</td>\n",
       "      <td>16.785247</td>\n",
       "      <td>29.530708</td>\n",
       "      <td>1.759325</td>\n",
       "    </tr>\n",
       "    <tr>\n",
       "      <th>2</th>\n",
       "      <td>377848</td>\n",
       "      <td>1.242660e+07</td>\n",
       "      <td>89.695950</td>\n",
       "      <td>1</td>\n",
       "      <td>0.247852</td>\n",
       "      <td>119.580703</td>\n",
       "      <td>206.602514</td>\n",
       "      <td>1.727725</td>\n",
       "    </tr>\n",
       "    <tr>\n",
       "      <th>3</th>\n",
       "      <td>65491</td>\n",
       "      <td>2.153857e+06</td>\n",
       "      <td>50.010477</td>\n",
       "      <td>1</td>\n",
       "      <td>0.167533</td>\n",
       "      <td>62.938739</td>\n",
       "      <td>122.353679</td>\n",
       "      <td>1.944012</td>\n",
       "    </tr>\n",
       "    <tr>\n",
       "      <th>4</th>\n",
       "      <td>229606</td>\n",
       "      <td>7.551245e+06</td>\n",
       "      <td>75.973395</td>\n",
       "      <td>1</td>\n",
       "      <td>0.126970</td>\n",
       "      <td>103.741398</td>\n",
       "      <td>160.662517</td>\n",
       "      <td>1.548683</td>\n",
       "    </tr>\n",
       "  </tbody>\n",
       "</table>\n",
       "</div>"
      ],
      "text/plain": [
       "   vol_vx       vol_um3    eq_diam  euler_num    extent  minor_axis  \\\n",
       "0   51214  1.684318e+06  46.074789          1  0.145909   59.436482   \n",
       "1    2608  8.577148e+04  17.077973          1  0.475219   16.785247   \n",
       "2  377848  1.242660e+07  89.695950          1  0.247852  119.580703   \n",
       "3   65491  2.153857e+06  50.010477          1  0.167533   62.938739   \n",
       "4  229606  7.551245e+06  75.973395          1  0.126970  103.741398   \n",
       "\n",
       "   major_axis  axis_ratio  \n",
       "0  104.778804    1.762870  \n",
       "1   29.530708    1.759325  \n",
       "2  206.602514    1.727725  \n",
       "3  122.353679    1.944012  \n",
       "4  160.662517    1.548683  "
      ]
     },
     "execution_count": 31,
     "metadata": {},
     "output_type": "execute_result"
    }
   ],
   "source": [
    "df = pd.DataFrame.from_dict(data)\n",
    "df.head()"
   ]
  },
  {
   "cell_type": "code",
   "execution_count": 32,
   "metadata": {},
   "outputs": [
    {
     "data": {
      "image/png": "[encoded data removed]",
      "text/plain": [
       "<Figure size 432x288 with 1 Axes>"
      ]
     },
     "metadata": {
      "needs_background": "light"
     },
     "output_type": "display_data"
    }
   ],
   "source": [
    "plt.hist(df['vol_um3'], bins=22)\n",
    "plt.xlabel('Volume (um3)')\n",
    "plt.show()"
   ]
  },
  {
   "cell_type": "code",
   "execution_count": 33,
   "metadata": {},
   "outputs": [
    {
     "data": {
      "image/png": "[encoded data removed]",
      "text/plain": [
       "<Figure size 432x288 with 1 Axes>"
      ]
     },
     "metadata": {
      "needs_background": "light"
     },
     "output_type": "display_data"
    }
   ],
   "source": [
    "plt.hist(df['major_axis'] / df['minor_axis'], bins=22)\n",
    "plt.xlabel('Axis ratio')\n",
    "plt.show()"
   ]
  },
  {
   "cell_type": "code",
   "execution_count": 34,
   "metadata": {},
   "outputs": [],
   "source": [
    "df.to_excel(os.path.join(working_dir, 'A34_2_ventricle_features.xlsx'))"
   ]
  },
  {
   "cell_type": "code",
   "execution_count": null,
   "metadata": {},
   "outputs": [],
   "source": []
  }
 ],
 "metadata": {
  "kernelspec": {
   "display_name": "Python 3",
   "language": "python",
   "name": "python3"
  },
  "language_info": {
   "codemirror_mode": {
    "name": "ipython",
    "version": 3
   },
   "file_extension": ".py",
   "mimetype": "text/x-python",
   "name": "python",
   "nbconvert_exporter": "python",
   "pygments_lexer": "ipython3",
   "version": "3.7.1"
  }
 },
 "nbformat": 4,
 "nbformat_minor": 2
}

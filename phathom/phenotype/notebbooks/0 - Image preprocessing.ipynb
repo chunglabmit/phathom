{
 "cells": [
  {
   "cell_type": "code",
   "execution_count": 1,
   "metadata": {},
   "outputs": [],
   "source": [
    "import os\n",
    "from tqdm import tqdm_notebook as tqdm\n",
    "import phathom.preprocess.filtering as filtering"
   ]
  },
  {
   "cell_type": "code",
   "execution_count": 2,
   "metadata": {},
   "outputs": [],
   "source": [
    "working_dir = '/media/jswaney/Drive/Justin/organoid_etango/'"
   ]
  },
  {
   "cell_type": "code",
   "execution_count": null,
   "metadata": {},
   "outputs": [
    {
     "data": {
      "text/plain": [
       "HBox(children=(IntProgress(value=0, max=1), HTML(value='')))"
      ]
     },
     "metadata": {},
     "output_type": "display_data"
    }
   ],
   "source": [
    "folders = ['tbr1']\n",
    "suffix = '_clahe'\n",
    "threshold = None\n",
    "nb_workers = None\n",
    "kernel_size = 127\n",
    "clip_limit = 0.005\n",
    "\n",
    "for folder in tqdm(folders):\n",
    "    path_to_tifs = os.path.join(working_dir, folder)\n",
    "    output_path = os.path.join(working_dir, folder + suffix)\n",
    "    filtering.preprocess_batch(path_to_tifs, \n",
    "                               output_path, \n",
    "                               threshold,\n",
    "                               kernel_size,\n",
    "                               clip_limit,\n",
    "                               nb_workers)"
   ]
  },
  {
   "cell_type": "code",
   "execution_count": null,
   "metadata": {},
   "outputs": [],
   "source": [
    "\n"
   ]
  }
 ],
 "metadata": {
  "kernelspec": {
   "display_name": "Python [conda env:phathom]",
   "language": "python",
   "name": "conda-env-phathom-py"
  },
  "language_info": {
   "codemirror_mode": {
    "name": "ipython",
    "version": 3
   },
   "file_extension": ".py",
   "mimetype": "text/x-python",
   "name": "python",
   "nbconvert_exporter": "python",
   "pygments_lexer": "ipython3",
   "version": "3.6.5"
  }
 },
 "nbformat": 4,
 "nbformat_minor": 2
}

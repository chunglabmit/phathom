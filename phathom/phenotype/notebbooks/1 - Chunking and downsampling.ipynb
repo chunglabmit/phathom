{
 "cells": [
  {
   "cell_type": "code",
   "execution_count": 2,
   "metadata": {},
   "outputs": [],
   "source": [
    "import os\n",
    "import numpy as np\n",
    "from tqdm import tqdm_notebook as tqdm\n",
    "from phathom import io\n",
    "from phathom.io import conversion\n",
    "from phathom import utils"
   ]
  },
  {
   "cell_type": "code",
   "execution_count": 3,
   "metadata": {},
   "outputs": [],
   "source": [
    "working_dir = '/media/jswaney/Drive/Justin/organoid_etango'"
   ]
  },
  {
   "cell_type": "markdown",
   "metadata": {},
   "source": [
    "# 3D tiff to zarr"
   ]
  },
  {
   "cell_type": "code",
   "execution_count": null,
   "metadata": {},
   "outputs": [],
   "source": [
    "paths = ['syto16.tif', 'sox2.tif', 'tbr1.tif']\n",
    "chunks = (64, 64, 64)\n",
    "\n",
    "for path in tqdm(paths):\n",
    "    img = io.tiff.imread(os.path.join(working_dir, path))\n",
    "    baio.zarr.new_zarrh.split()[0]\n",
    "    z_arr = io.zarr.new_zarr(os.path.join(working_dir, basename+'.zarr'), \n",
    "                             img.shape,\n",
    "                             chunks=chunks,\n",
    "                             dtype=img.dtype))\n",
    "    z_arr[:] = img\n",
    "    del img"
   ]
  },
  {
   "cell_type": "markdown",
   "metadata": {},
   "source": [
    "# 2D tiffs to zarr"
   ]
  },
  {
   "cell_type": "code",
   "execution_count": 13,
   "metadata": {},
   "outputs": [
    {
     "data": {
      "application/vnd.jupyter.widget-view+json": {
       "model_id": "0401e794adf04f74ba465189441e4c2b",
       "version_major": 2,
       "version_minor": 0
      },
      "text/plain": [
       "HBox(children=(IntProgress(value=0, max=1), HTML(value='')))"
      ]
     },
     "metadata": {},
     "output_type": "display_data"
    },
    {
     "name": "stdout",
     "output_type": "stream",
     "text": [
      "\n"
     ]
    }
   ],
   "source": [
    "folders = [#'syto16_clahe', \n",
    "           #'sox2_clahe', \n",
    "           'tbr1']\n",
    "suffix = '.zarr'\n",
    "chunks = (64, 64, 64)\n",
    "\n",
    "for folder in tqdm(folders):\n",
    "    tif_dir = os.path.join(working_dir, folder)\n",
    "    zarr_path = os.path.join(working_dir, folder + suffix)\n",
    "    conversion.tifs_to_zarr(tif_dir, \n",
    "                        zarr_path, \n",
    "                        chunks, \n",
    "                        in_memory=False, \n",
    "                        nb_workers=2)"
   ]
  },
  {
   "cell_type": "markdown",
   "metadata": {},
   "source": [
    "Move these chunked arrays to subfolder called `1_1_1` as first mipmap level"
   ]
  },
  {
   "cell_type": "code",
   "execution_count": 4,
   "metadata": {},
   "outputs": [],
   "source": [
    "import zarr\n",
    "from precomputed_tif import ZarrStack"
   ]
  },
  {
   "cell_type": "code",
   "execution_count": null,
   "metadata": {},
   "outputs": [],
   "source": [
    "src_paths = ['syto16_clahe.zarr/1_1_1', \n",
    "             'sox2_clahe.zarr/1_1_1', \n",
    "             'tbr1_clahe.zarr/1_1_1']\n",
    "dest_paths = ['syto16_clahe.zarr', \n",
    "             'sox2_clahe.zarr', \n",
    "             'tbr1_clahe.zarr']\n",
    "n_levels = 4\n",
    "\n",
    "for src_path, dest_path in tqdm(zip(src_paths, dest_paths)):\n",
    "    src = zarr.NestedDirectoryStore(os.path.join(working_dir, src_path))\n",
    "    dest = os.path.join(working_dir, dest_path)\n",
    "    stack = ZarrStack(src, dest)\n",
    "    stack.write_info_file(n_levels)\n",
    "    for level in range(2, n_levels+1):\n",
    "        stack.write_level_n(level)"
   ]
  },
  {
   "cell_type": "code",
   "execution_count": 6,
   "metadata": {},
   "outputs": [
    {
     "name": "stderr",
     "output_type": "stream",
     "text": [
      "100%|██████████| 6125/6125 [26:21<00:00,  3.87it/s]\n",
      "100%|██████████| 6125/6125 [27:52<00:00,  3.66it/s]\n",
      "100%|██████████| 972/972 [01:14<00:00, 13.02it/s]\n",
      "100%|██████████| 972/972 [01:17<00:00, 12.59it/s]\n",
      "100%|██████████| 162/162 [00:11<00:00, 14.50it/s]\n",
      "100%|██████████| 162/162 [00:09<00:00, 17.08it/s]\n"
     ]
    }
   ],
   "source": [
    "n_levels = 4\n",
    "\n",
    "syto16_stack.write_info_file(n_levels)\n",
    "sox2_stack.write_info_file(n_levels)\n",
    "\n",
    "for level in range(2, n_levels+1):\n",
    "    syto16_stack.write_level_n(level)\n",
    "    sox2_stack.write_level_n(level)"
   ]
  },
  {
   "cell_type": "markdown",
   "metadata": {},
   "source": [
    "# downsample 2D tiffs"
   ]
  },
  {
   "cell_type": "markdown",
   "metadata": {},
   "source": [
    "Used for graph-cuts based ventricle detection"
   ]
  },
  {
   "cell_type": "code",
   "execution_count": null,
   "metadata": {},
   "outputs": [],
   "source": [
    "input_dirs = ['syto16_clahe', 'sox2_clahe', 'tbr1_clahe']\n",
    "suffix = ['_4x']\n",
    "factors = (4, 4)\n",
    "\n",
    "for input_dir in tqdm(input_dirs):\n",
    "    output_dir = input_dir + suffix\n",
    "    conversion.downscale_tif_batch(input_dir, factors, output_dir)"
   ]
  },
  {
   "cell_type": "markdown",
   "metadata": {},
   "source": [
    "# Extract small image to test"
   ]
  },
  {
   "cell_type": "code",
   "execution_count": 7,
   "metadata": {},
   "outputs": [],
   "source": [
    "z_arr_paths = ['syto16_clahe.zarr/1_1_1', \n",
    "               'sox2.zarr/1_1_1', \n",
    "               'tbr1.zarr']\n",
    "start = np.array((256, 2048, 2048))\n",
    "shape = np.array((256, 512, 512))\n",
    "\n",
    "boxes = []\n",
    "stop = start + shape\n",
    "for z_arr_path in z_arr_paths:\n",
    "    z_arr = io.zarr.open(os.path.join(working_dir, z_arr_path))\n",
    "    box = utils.extract_box(z_arr, start, stop)\n",
    "    boxes.append(box)"
   ]
  },
  {
   "cell_type": "code",
   "execution_count": 8,
   "metadata": {},
   "outputs": [],
   "source": [
    "new_paths = ['syto16_test2.zarr',\n",
    "             'sox2_test2.zarr',\n",
    "             'trb1_test2.zarr']\n",
    "chunks = (64, 64, 64)\n",
    "\n",
    "for new_path, box in zip(new_paths, boxes):\n",
    "    path = os.path.join(working_dir, new_path)\n",
    "    new_z_arr = io.zarr.new_zarr(path, box.shape, chunks, box.dtype)\n",
    "    new_z_arr[:] = box"
   ]
  },
  {
   "cell_type": "code",
   "execution_count": null,
   "metadata": {},
   "outputs": [],
   "source": []
  }
 ],
 "metadata": {
  "kernelspec": {
   "display_name": "Python [conda env:phathom]",
   "language": "python",
   "name": "conda-env-phathom-py"
  },
  "language_info": {
   "codemirror_mode": {
    "name": "ipython",
    "version": 3
   },
   "file_extension": ".py",
   "mimetype": "text/x-python",
   "name": "python",
   "nbconvert_exporter": "python",
   "pygments_lexer": "ipython3",
   "version": "3.6.5"
  }
 },
 "nbformat": 4,
 "nbformat_minor": 2
}

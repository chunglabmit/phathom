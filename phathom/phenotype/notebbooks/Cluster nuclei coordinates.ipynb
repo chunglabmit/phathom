{
 "cells": [
  {
   "cell_type": "code",
   "execution_count": 2,
   "metadata": {},
   "outputs": [],
   "source": [
    "import os\n",
    "import numpy as np\n",
    "from sklearn.cluster import KMeans\n",
    "from mayavi import mlab\n",
    "from phathom.phenotype.mesh import randomly_sample"
   ]
  },
  {
   "cell_type": "code",
   "execution_count": 3,
   "metadata": {},
   "outputs": [],
   "source": [
    "working_dir = '/media/jswaney/SSD EVO 860/organoid_phenotyping/20181206_eF9_A34_1'"
   ]
  },
  {
   "cell_type": "code",
   "execution_count": 4,
   "metadata": {},
   "outputs": [
    {
     "data": {
      "text/plain": [
       "(2421822, 3)"
      ]
     },
     "execution_count": 4,
     "metadata": {},
     "output_type": "execute_result"
    }
   ],
   "source": [
    "centers = np.load(os.path.join(working_dir, 'centers.npy'))\n",
    "centers.shape"
   ]
  },
  {
   "cell_type": "code",
   "execution_count": 14,
   "metadata": {},
   "outputs": [],
   "source": [
    "sox2_labels_path = 'sox2_labels.npy'\n",
    "tbr1_labels_path = 'tbr1_labels.npy'\n",
    "\n",
    "sox2_labels = np.load(os.path.join(working_dir, sox2_labels_path))\n",
    "tbr1_labels = np.load(os.path.join(working_dir, tbr1_labels_path))"
   ]
  },
  {
   "cell_type": "code",
   "execution_count": 5,
   "metadata": {},
   "outputs": [
    {
     "data": {
      "text/plain": [
       "(2421822, 3)"
      ]
     },
     "execution_count": 5,
     "metadata": {},
     "output_type": "execute_result"
    }
   ],
   "source": [
    "voxel_size = np.array((2.052, 1.082, 1.082))\n",
    "\n",
    "centers_um = centers * voxel_size\n",
    "centers_um.shape"
   ]
  },
  {
   "cell_type": "markdown",
   "metadata": {},
   "source": [
    "# KMeans on nuclei centroids"
   ]
  },
  {
   "cell_type": "code",
   "execution_count": 6,
   "metadata": {},
   "outputs": [
    {
     "data": {
      "text/plain": [
       "array([2, 2, 2, ..., 1, 1, 1], dtype=int32)"
      ]
     },
     "execution_count": 6,
     "metadata": {},
     "output_type": "execute_result"
    }
   ],
   "source": [
    "n_clusters = 3\n",
    "\n",
    "kmeans = KMeans(n_clusters=n_clusters, random_state=0).fit(centers_um)\n",
    "labels = kmeans.labels_\n",
    "centroids = kmeans.cluster_centers_\n",
    "labels"
   ]
  },
  {
   "cell_type": "code",
   "execution_count": 7,
   "metadata": {},
   "outputs": [
    {
     "data": {
      "text/plain": [
       "803309"
      ]
     },
     "execution_count": 7,
     "metadata": {},
     "output_type": "execute_result"
    }
   ],
   "source": [
    "# Extract indices for each cluster\n",
    "indices = [np.where(labels == c)[0] for c in range(n_clusters)]\n",
    "len(indices[0]) "
   ]
  },
  {
   "cell_type": "code",
   "execution_count": 10,
   "metadata": {},
   "outputs": [
    {
     "data": {
      "text/plain": [
       "(3, 10000)"
      ]
     },
     "execution_count": 10,
     "metadata": {},
     "output_type": "execute_result"
    }
   ],
   "source": [
    "n = 10000\n",
    "\n",
    "samples = np.asarray([randomly_sample(n, idx)[0] for idx in indices])\n",
    "samples.shape"
   ]
  },
  {
   "cell_type": "code",
   "execution_count": 13,
   "metadata": {},
   "outputs": [],
   "source": [
    "# Plot the random samples\n",
    "scale_factor = 25\n",
    "\n",
    "np.random.seed(1)\n",
    "for c in range(n_clusters):\n",
    "    idx = samples[c]\n",
    "    coords = centers_um[idx]\n",
    "    mlab.points3d(coords[:, 0], \n",
    "                  coords[:, 1], \n",
    "                  coords[:, 2], \n",
    "                  scale_factor=scale_factor, \n",
    "                  color=tuple(np.random.random(3)))\n",
    "mlab.show()"
   ]
  },
  {
   "cell_type": "code",
   "execution_count": 32,
   "metadata": {},
   "outputs": [
    {
     "data": {
      "text/plain": [
       "(0.037659244861324326, 0.0010135773904080825, 0.7403490197774311)"
      ]
     },
     "execution_count": 32,
     "metadata": {},
     "output_type": "execute_result"
    }
   ],
   "source": [
    "tuple(np.random.random(3))"
   ]
  },
  {
   "cell_type": "markdown",
   "metadata": {},
   "source": [
    "# 3D render of cell types in whole org"
   ]
  },
  {
   "cell_type": "code",
   "execution_count": 15,
   "metadata": {},
   "outputs": [
    {
     "data": {
      "text/plain": [
       "(2421822,)"
      ]
     },
     "execution_count": 15,
     "metadata": {},
     "output_type": "execute_result"
    }
   ],
   "source": [
    "dn_labels = ~np.logical_or(sox2_labels, tbr1_labels)\n",
    "dn_labels.shape"
   ]
  },
  {
   "cell_type": "code",
   "execution_count": 17,
   "metadata": {},
   "outputs": [
    {
     "data": {
      "text/plain": [
       "((622435, 3), (131008, 3), (1693543, 3))"
      ]
     },
     "execution_count": 17,
     "metadata": {},
     "output_type": "execute_result"
    }
   ],
   "source": [
    "centers_sox2 = centers_um[np.where(sox2_labels)]\n",
    "centers_tbr1 = centers_um[np.where(tbr1_labels)]\n",
    "centers_dn = centers_um[np.where(dn_labels)]\n",
    "centers_sox2.shape, centers_tbr1.shape, centers_dn.shape"
   ]
  },
  {
   "cell_type": "code",
   "execution_count": 47,
   "metadata": {},
   "outputs": [],
   "source": [
    "(samples_sox2,) = randomly_sample(20000, centers_sox2)\n",
    "(samples_tbr1,) = randomly_sample(10000, centers_tbr1)\n",
    "(samples_dn,) = randomly_sample(20000, centers_dn)"
   ]
  },
  {
   "cell_type": "code",
   "execution_count": null,
   "metadata": {},
   "outputs": [],
   "source": [
    "# Plot the random samples\n",
    "scale_factor = 15\n",
    "\n",
    "mlab.points3d(samples_sox2[:, 0], \n",
    "              samples_sox2[:, 1], \n",
    "              samples_sox2[:, 2], \n",
    "              scale_factor=scale_factor, \n",
    "              color=(1, 0, 0))\n",
    "\n",
    "mlab.points3d(samples_tbr1[:, 0], \n",
    "              samples_tbr1[:, 1], \n",
    "              samples_tbr1[:, 2], \n",
    "              scale_factor=scale_factor, \n",
    "              color=(0, 0.95, 0))\n",
    "\n",
    "mlab.points3d(samples_dn[:, 0], \n",
    "              samples_dn[:, 1], \n",
    "              samples_dn[:, 2], \n",
    "              scale_factor=scale_factor, \n",
    "              color=(0, 0, 0.9))\n",
    "    \n",
    "mlab.show()"
   ]
  },
  {
   "cell_type": "code",
   "execution_count": null,
   "metadata": {},
   "outputs": [],
   "source": []
  }
 ],
 "metadata": {
  "kernelspec": {
   "display_name": "Python 3",
   "language": "python",
   "name": "python3"
  },
  "language_info": {
   "codemirror_mode": {
    "name": "ipython",
    "version": 3
   },
   "file_extension": ".py",
   "mimetype": "text/x-python",
   "name": "python",
   "nbconvert_exporter": "python",
   "pygments_lexer": "ipython3",
   "version": "3.7.1"
  }
 },
 "nbformat": 4,
 "nbformat_minor": 2
}

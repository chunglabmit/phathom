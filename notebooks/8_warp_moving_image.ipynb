{
 "cells": [
  {
   "cell_type": "markdown",
   "metadata": {},
   "source": [
    "# Step 8: Warp the moving image"
   ]
  },
  {
   "cell_type": "code",
   "execution_count": 1,
   "metadata": {},
   "outputs": [],
   "source": [
    "import os\n",
    "import zarr\n",
    "from precomputed_tif.zarr_stack import ZarrStack\n",
    "from phathom import io\n",
    "from phathom.registration import registration\n",
    "from phathom.utils import pickle_load"
   ]
  },
  {
   "cell_type": "code",
   "execution_count": 2,
   "metadata": {},
   "outputs": [],
   "source": [
    "working_dir = '/home/jswaney/coregistration'"
   ]
  },
  {
   "cell_type": "code",
   "execution_count": 3,
   "metadata": {},
   "outputs": [],
   "source": [
    "# Open images\n",
    "fixed_zarr_path = 'fixed/zarr_stack/1_1_1'\n",
    "moving_zarr_path = 'moving/zarr_stack/1_1_1'\n",
    "\n",
    "fixed_img = io.zarr.open(os.path.join(working_dir, fixed_zarr_path), \n",
    "                         mode='r')\n",
    "moving_img = io.zarr.open(os.path.join(working_dir, moving_zarr_path), \n",
    "                          mode='r')"
   ]
  },
  {
   "cell_type": "code",
   "execution_count": 4,
   "metadata": {},
   "outputs": [],
   "source": [
    "# Load the coordinate interpolator\n",
    "interpolator_path = 'interpolator.pkl'\n",
    "\n",
    "interpolator = pickle_load(os.path.join(working_dir, \n",
    "                                        interpolator_path))"
   ]
  },
  {
   "cell_type": "code",
   "execution_count": 5,
   "metadata": {},
   "outputs": [],
   "source": [
    "# Create a new zarr array for the registered image\n",
    "nonrigid_zarr_path = 'moving/registered/1_1_1'\n",
    "\n",
    "nonrigid_img = io.zarr.new_zarr(os.path.join(working_dir, \n",
    "                                             nonrigid_zarr_path),\n",
    "                                fixed_img.shape,\n",
    "                                fixed_img.chunks,\n",
    "                                fixed_img.dtype)"
   ]
  },
  {
   "cell_type": "code",
   "execution_count": null,
   "metadata": {},
   "outputs": [],
   "source": [
    "# Warp the entire moving image\n",
    "nb_workers = 8\n",
    "batch_size = None\n",
    "padding = 4\n",
    "\n",
    "registration.register(moving_img, \n",
    "                      nonrigid_img, \n",
    "                      interpolator, \n",
    "                      nb_workers, \n",
    "                      batch_size=batch_size, \n",
    "                      padding=padding)"
   ]
  },
  {
   "cell_type": "code",
   "execution_count": null,
   "metadata": {},
   "outputs": [],
   "source": [
    "# Make the mipmap stack for neuroglancer\n",
    "n_levels = 7\n",
    "reg_dest_path = 'moving/registered'\n",
    "reg_src_path = nonrigid_zarr_path  # written to 1_1_1 already\n",
    "\n",
    "reg_src = zarr.NestedDirectoryStore(os.path.join(working_dir, \n",
    "                                                 reg_src_path))\n",
    "reg_dest = os.path.join(working_dir, reg_dest_path)\n",
    "reg_stack = ZarrStack(reg_src, reg_dest)\n",
    "\n",
    "# Skip level 1\n",
    "reg_stack.write_info_file(n_levels)\n",
    "for level in range(2, n_levels+1):\n",
    "    reg_stack.write_level_n(level)"
   ]
  },
  {
   "cell_type": "code",
   "execution_count": null,
   "metadata": {},
   "outputs": [],
   "source": []
  },
  {
   "cell_type": "markdown",
   "metadata": {},
   "source": []
  }
 ],
 "metadata": {
  "kernelspec": {
   "display_name": "Python (phathom)",
   "language": "python",
   "name": "phathom"
  },
  "language_info": {
   "codemirror_mode": {
    "name": "ipython",
    "version": 3
   },
   "file_extension": ".py",
   "mimetype": "text/x-python",
   "name": "python",
   "nbconvert_exporter": "python",
   "pygments_lexer": "ipython3",
   "version": "3.5.0"
  }
 },
 "nbformat": 4,
 "nbformat_minor": 2
}

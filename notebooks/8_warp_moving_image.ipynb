{
 "cells": [
  {
   "cell_type": "markdown",
   "metadata": {},
   "source": [
    "# Step 8: Warp the moving image"
   ]
  },
  {
   "cell_type": "code",
   "execution_count": 1,
   "metadata": {},
   "outputs": [
    {
     "name": "stderr",
     "output_type": "stream",
     "text": [
      "/home/jswaney/anaconda3/envs/phathom/lib/python3.5/site-packages/h5py/__init__.py:36: FutureWarning: Conversion of the second argument of issubdtype from `float` to `np.floating` is deprecated. In future, it will be treated as `np.float64 == np.dtype(float).type`.\n",
      "  from ._conv import register_converters as _register_converters\n"
     ]
    }
   ],
   "source": [
    "import os\n",
    "import zarr\n",
    "from precomputed_tif.zarr_stack import ZarrStack\n",
    "from phathom import io\n",
    "import phathom.io.conversion as conversion\n",
    "from phathom.registration import registration\n",
    "from phathom.utils import pickle_load"
   ]
  },
  {
   "cell_type": "code",
   "execution_count": 2,
   "metadata": {},
   "outputs": [],
   "source": [
    "working_dir = '/home/jswaney/coregistration'\n",
    "working_dir = '/media/jswaney/Drive/Justin/whole_org'"
   ]
  },
  {
   "cell_type": "code",
   "execution_count": 3,
   "metadata": {},
   "outputs": [
    {
     "data": {
      "text/plain": [
       "(4506, 12374, 7337)"
      ]
     },
     "execution_count": 3,
     "metadata": {},
     "output_type": "execute_result"
    }
   ],
   "source": [
    "# Open images\n",
    "fixed_zarr_path = 'fixed/zarr_stack/1_1_1'\n",
    "moving_zarr_path = 'moving/zarr_stack/1_1_1'\n",
    "\n",
    "fixed_img = io.zarr.open(os.path.join(working_dir, fixed_zarr_path), \n",
    "                         mode='r')\n",
    "moving_img = io.zarr.open(os.path.join(working_dir, moving_zarr_path), \n",
    "                          mode='r')\n",
    "\n",
    "fixed_img.shape"
   ]
  },
  {
   "cell_type": "code",
   "execution_count": 4,
   "metadata": {},
   "outputs": [],
   "source": [
    "# Load the coordinate interpolator\n",
    "interpolator_path = 'map_interpolator.pkl'\n",
    "\n",
    "interpolator = pickle_load(os.path.join(working_dir, \n",
    "                                        interpolator_path))"
   ]
  },
  {
   "cell_type": "code",
   "execution_count": 5,
   "metadata": {},
   "outputs": [],
   "source": [
    "# Open zarr array for the registered image\n",
    "nonrigid_zarr_path = 'moving/registered/1_1_1'\n",
    "\n",
    "nonrigid_img = io.zarr.new_zarr(os.path.join(working_dir, \n",
    "                                             nonrigid_zarr_path),\n",
    "                                fixed_img.shape,\n",
    "                                fixed_img.chunks,\n",
    "                                fixed_img.dtype)"
   ]
  },
  {
   "cell_type": "code",
   "execution_count": null,
   "metadata": {},
   "outputs": [
    {
     "name": "stderr",
     "output_type": "stream",
     "text": [
      "2it [00:40, 20.26s/it]"
     ]
    }
   ],
   "source": [
    "# Warp the entire moving image\n",
    "nb_workers = 1\n",
    "batch_size = None\n",
    "padding = 4\n",
    "\n",
    "registration.register(moving_img, \n",
    "                      nonrigid_img, \n",
    "                      os.path.join(working_dir, interpolator_path), \n",
    "                      nb_workers, \n",
    "                      batch_size=batch_size, \n",
    "                      padding=padding)"
   ]
  },
  {
   "cell_type": "code",
   "execution_count": 4,
   "metadata": {},
   "outputs": [
    {
     "name": "stderr",
     "output_type": "stream",
     "text": [
      "100%|██████████| 4232/4232 [06:06<00:00, 11.55it/s]\n",
      "100%|██████████| 576/576 [00:29<00:00, 19.67it/s]\n",
      "100%|██████████| 72/72 [00:03<00:00, 22.08it/s]\n",
      "100%|██████████| 9/9 [00:00<00:00, 23.14it/s]\n"
     ]
    }
   ],
   "source": [
    "# Make the mipmap stack for neuroglancer\n",
    "n_levels = 5\n",
    "reg_dest_path = 'tubb3_zarr'\n",
    "reg_src_path = 'tubb3_zarr/1_1_1'\n",
    "\n",
    "reg_src = zarr.NestedDirectoryStore(os.path.join(working_dir, \n",
    "                                                 reg_src_path))\n",
    "reg_dest = os.path.join(working_dir, reg_dest_path)\n",
    "reg_stack = ZarrStack(reg_src, reg_dest)\n",
    "\n",
    "# Write info and downsampled mipmaps\n",
    "reg_stack.write_info_file(n_levels)\n",
    "for level in range(2, n_levels+1):\n",
    "    reg_stack.write_level_n(level)"
   ]
  },
  {
   "cell_type": "code",
   "execution_count": 4,
   "metadata": {},
   "outputs": [],
   "source": [
    "# Write out to individual tiffs\n",
    "zarr_path = 'fixed/zarr_stack/2_2_2'\n",
    "output_dir = 'fixed/tiffs_2x'\n",
    "nb_workers = 48\n",
    "compress = 1\n",
    "\n",
    "zarr_store = zarr.NestedDirectoryStore(os.path.join(working_dir, zarr_path))\n",
    "\n",
    "conversion.zarr_to_tifs(zarr_store, \n",
    "                        os.path.join(working_dir, output_dir),\n",
    "                        nb_workers=nb_workers, \n",
    "                        compress=compress)"
   ]
  },
  {
   "cell_type": "code",
   "execution_count": null,
   "metadata": {},
   "outputs": [],
   "source": []
  }
 ],
 "metadata": {
  "kernelspec": {
   "display_name": "Python [conda env:phathom]",
   "language": "python",
   "name": "conda-env-phathom-py"
  },
  "language_info": {
   "codemirror_mode": {
    "name": "ipython",
    "version": 3
   },
   "file_extension": ".py",
   "mimetype": "text/x-python",
   "name": "python",
   "nbconvert_exporter": "python",
   "pygments_lexer": "ipython3",
   "version": "3.5.5"
  }
 },
 "nbformat": 4,
 "nbformat_minor": 2
}

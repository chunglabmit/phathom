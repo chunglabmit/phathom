{
 "cells": [
  {
   "cell_type": "markdown",
   "metadata": {},
   "source": [
    "# Step 1: Break volume into chunks"
   ]
  },
  {
   "cell_type": "markdown",
   "metadata": {},
   "source": [
    "Should show mipmaps in neuroglancer..."
   ]
  },
  {
   "cell_type": "code",
   "execution_count": 6,
   "metadata": {},
   "outputs": [],
   "source": [
    "import os\n",
    "import precomputed_tif"
   ]
  },
  {
   "cell_type": "code",
   "execution_count": 5,
   "metadata": {
    "scrolled": true
   },
   "outputs": [
    {
     "name": "stdout",
     "output_type": "stream",
     "text": [
      "Help on class ZarrStack in module precomputed_tif.zarr_stack:\n",
      "\n",
      "class ZarrStack(builtins.object)\n",
      " |  Methods defined here:\n",
      " |  \n",
      " |  __init__(self, glob_expr, dest, compressor=None)\n",
      " |      :param glob_expr: the glob file expression for capturing the files in\n",
      " |      the stack, e.g. \"/path/to/img_*.tif*\"\n",
      " |      :param dest: the destination folder for zarr arrays\n",
      " |      :param compressor: numcodecs compressor to use on eachj chunk. Default\n",
      " |      is Zstd level 1 with bitshuffle\n",
      " |  \n",
      " |  n_x(self, level)\n",
      " |      The number of blocks in the X direction at the given level\n",
      " |      \n",
      " |      :param level: mipmap level, starting at 1\n",
      " |      :return: # of blocks in the X direction\n",
      " |  \n",
      " |  n_y(self, level)\n",
      " |      The number of blocks in the Y direction at the given level\n",
      " |      \n",
      " |      :param level: mipmap level, starting at 1\n",
      " |      :return: # of blocks in the Y direction\n",
      " |  \n",
      " |  n_z(self, level)\n",
      " |      The number of blocks in the Z direction at the given level\n",
      " |      \n",
      " |      :param level: mipmap level, starting at 1\n",
      " |      :return: # of blocks in the Z direction\n",
      " |  \n",
      " |  resolution(self, level)\n",
      " |      The pixel resolution at a given level\n",
      " |      \n",
      " |      :param level: 1 to N, the mipmap level\n",
      " |      :returns: the number of pixels at the base level per pixel at this\n",
      " |      level\n",
      " |  \n",
      " |  write_info_file(self, n_levels)\n",
      " |      Write the precomputed info file that defines the volume\n",
      " |      \n",
      " |      :param n_levels: the number of levels to be written\n",
      " |  \n",
      " |  write_level_1(self, silent=False)\n",
      " |      Write the first mipmap level, loading from tiff planes\n",
      " |  \n",
      " |  write_level_n(self, level, silent=False)\n",
      " |  \n",
      " |  x0(self, level)\n",
      " |      The starting X coordinates at a particular level\n",
      " |      \n",
      " |      :param level: 1 to N\n",
      " |      :return: an array of starting X coordinates\n",
      " |  \n",
      " |  x1(self, level)\n",
      " |      The ending X coordinates at a particular level\n",
      " |      \n",
      " |      :param level: the mipmap level (1 to N)\n",
      " |      :return: an array of ending X coordinates\n",
      " |  \n",
      " |  y0(self, level)\n",
      " |      The starting Y coordinates at a particular level\n",
      " |      \n",
      " |      :param level: 1 to N\n",
      " |      :return: an array of starting Y coordinates\n",
      " |  \n",
      " |  y1(self, level)\n",
      " |      The ending Y coordinates at a particular level\n",
      " |      \n",
      " |      :param level: the mipmap level (1 to N)\n",
      " |      :return: an array of ending Y coordinates\n",
      " |  \n",
      " |  z0(self, level)\n",
      " |      The starting Z coordinates at a particular level\n",
      " |      \n",
      " |      :param level: 1 to N\n",
      " |      :return: an array of starting Z coordinates\n",
      " |  \n",
      " |  z1(self, level)\n",
      " |      The ending Z coordinates at a particular level\n",
      " |      \n",
      " |      :param level: the mipmap level (1 to N)\n",
      " |      :return: an array of ending Z coordinates\n",
      " |  \n",
      " |  ----------------------------------------------------------------------\n",
      " |  Data descriptors defined here:\n",
      " |  \n",
      " |  __dict__\n",
      " |      dictionary for instance variables (if defined)\n",
      " |  \n",
      " |  __weakref__\n",
      " |      list of weak references to the object (if defined)\n",
      "\n"
     ]
    }
   ],
   "source": [
    "help(precomputed_tif.ZarrStack)"
   ]
  },
  {
   "cell_type": "code",
   "execution_count": null,
   "metadata": {},
   "outputs": [],
   "source": [
    "working_dir = '/home/jswaney/coregistration'\n"
   ]
  }
 ],
 "metadata": {
  "kernelspec": {
   "display_name": "Python (phathom)",
   "language": "python",
   "name": "phathom"
  },
  "language_info": {
   "codemirror_mode": {
    "name": "ipython",
    "version": 3
   },
   "file_extension": ".py",
   "mimetype": "text/x-python",
   "name": "python",
   "nbconvert_exporter": "python",
   "pygments_lexer": "ipython3",
   "version": "3.5.0"
  }
 },
 "nbformat": 4,
 "nbformat_minor": 2
}

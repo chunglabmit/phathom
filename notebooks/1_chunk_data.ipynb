{
 "cells": [
  {
   "cell_type": "markdown",
   "metadata": {},
   "source": [
    "# Step 1: Break volume into chunks"
   ]
  },
  {
   "cell_type": "markdown",
   "metadata": {},
   "source": [
    "Should show mipmaps in neuroglancer..."
   ]
  },
  {
   "cell_type": "code",
   "execution_count": 2,
   "metadata": {},
   "outputs": [],
   "source": [
    "import os\n",
    "import zarr\n",
    "from precomputed_tif import ZarrStack"
   ]
  },
  {
   "cell_type": "code",
   "execution_count": 3,
   "metadata": {},
   "outputs": [],
   "source": [
    "working_dir = '/media/jswaney/Drive/Justin/marmoset'"
   ]
  },
  {
   "cell_type": "code",
   "execution_count": 4,
   "metadata": {},
   "outputs": [],
   "source": [
    "fixed_src_path = 'round1/syto16.zarr/1_1_1'\n",
    "moving_src_path = 'round2/registered2/1_1_1'\n",
    "fixed_dest_path = 'round1/syto16.zarr'\n",
    "moving_dest_path = 'round2/registered2'\n",
    "\n",
    "# fixed_src = zarr.NestedDirectoryStore(os.path.join(working_dir, \n",
    "#                                                    fixed_src_path))\n",
    "moving_src = zarr.NestedDirectoryStore(os.path.join(working_dir, \n",
    "                                                    moving_src_path))\n",
    "\n",
    "# fixed_dest = os.path.join(working_dir, fixed_dest_path)\n",
    "moving_dest = os.path.join(working_dir, moving_dest_path)\n",
    "\n",
    "# fixed_stack = ZarrStack(fixed_src, fixed_dest)\n",
    "moving_stack = ZarrStack(moving_src, moving_dest)"
   ]
  },
  {
   "cell_type": "markdown",
   "metadata": {},
   "source": [
    "# Write the info files"
   ]
  },
  {
   "cell_type": "code",
   "execution_count": 5,
   "metadata": {},
   "outputs": [],
   "source": [
    "n_levels = 7\n",
    "\n",
    "# fixed_stack.write_info_file(n_levels)\n",
    "moving_stack.write_info_file(n_levels)"
   ]
  },
  {
   "cell_type": "markdown",
   "metadata": {},
   "source": [
    "# Create the first levels"
   ]
  },
  {
   "cell_type": "code",
   "execution_count": 5,
   "metadata": {},
   "outputs": [
    {
     "name": "stderr",
     "output_type": "stream",
     "text": [
      "100%|██████████| 71/71 [5:36:40<00:00, 284.52s/it]  \n",
      "100%|██████████| 64/64 [8:23:28<00:00, 472.00s/it]  \n"
     ]
    }
   ],
   "source": [
    "fixed_stack.write_level_1()\n",
    "moving_stack.write_level_1()"
   ]
  },
  {
   "cell_type": "markdown",
   "metadata": {},
   "source": [
    "# Create the higher levels"
   ]
  },
  {
   "cell_type": "code",
   "execution_count": 6,
   "metadata": {},
   "outputs": [
    {
     "name": "stderr",
     "output_type": "stream",
     "text": [
      "100%|██████████| 117363/117363 [3:40:12<00:00,  8.88it/s]  \n",
      "100%|██████████| 15660/15660 [23:36<00:00, 11.05it/s]  \n",
      "100%|██████████| 2160/2160 [00:53<00:00, 40.10it/s]\n",
      "100%|██████████| 288/288 [00:07<00:00, 40.19it/s]\n",
      "100%|██████████| 40/40 [00:00<00:00, 42.26it/s]\n",
      "100%|██████████| 6/6 [00:00<00:00, 40.17it/s]\n"
     ]
    }
   ],
   "source": [
    "for level in range(2, n_levels+1):\n",
    "#     fixed_stack.write_level_n(level)\n",
    "    moving_stack.write_level_n(level)"
   ]
  },
  {
   "cell_type": "markdown",
   "metadata": {},
   "source": [
    "# Add another level to existing stack (Optional)"
   ]
  },
  {
   "cell_type": "code",
   "execution_count": 5,
   "metadata": {},
   "outputs": [],
   "source": [
    "fixed_src_path = 'round1/syto16.zarr/1_1_1'\n",
    "fixed_dest_path = 'round1/syto16.zarr'\n",
    "moving_src_path = 'round2/syto16.zarr/1_1_1'\n",
    "moving_dest_path = 'round2/syto16.zarr'\n",
    "\n",
    "fixed_src = zarr.NestedDirectoryStore(os.path.join(working_dir, \n",
    "                                                   fixed_src_path))\n",
    "moving_src = zarr.NestedDirectoryStore(os.path.join(working_dir, \n",
    "                                                    moving_src_path))\n",
    "fixed_dest = os.path.join(working_dir, fixed_dest_path)\n",
    "moving_dest = os.path.join(working_dir, moving_dest_path)\n",
    "\n",
    "fixed_stack = ZarrStack(fixed_src, fixed_dest)\n",
    "moving_stack = ZarrStack(moving_src, moving_dest)"
   ]
  },
  {
   "cell_type": "code",
   "execution_count": 6,
   "metadata": {},
   "outputs": [],
   "source": [
    "n_levels = 6\n",
    "\n",
    "# fixed_stack.write_info_file(n_levels)\n",
    "moving_stack.write_info_file(n_levels)"
   ]
  },
  {
   "cell_type": "code",
   "execution_count": 7,
   "metadata": {},
   "outputs": [
    {
     "name": "stderr",
     "output_type": "stream",
     "text": [
      "100%|██████████| 9/9 [00:00<00:00, 78.75it/s]\n",
      "100%|██████████| 9/9 [00:00<00:00, 119.07it/s]\n"
     ]
    }
   ],
   "source": [
    "fixed_stack.write_level_n(5)\n",
    "moving_stack.write_level_n(5)"
   ]
  },
  {
   "cell_type": "code",
   "execution_count": 8,
   "metadata": {},
   "outputs": [
    {
     "name": "stderr",
     "output_type": "stream",
     "text": [
      "100%|██████████| 4/4 [00:00<00:00, 148.78it/s]\n",
      "100%|██████████| 4/4 [00:00<00:00, 160.10it/s]\n"
     ]
    }
   ],
   "source": [
    "fixed_stack.write_level_n(6)\n",
    "moving_stack.write_level_n(6)"
   ]
  },
  {
   "cell_type": "raw",
   "metadata": {},
   "source": [
    "fixed_stack.write_level_n(7)\n",
    "moving_stack.write_level_n(7)"
   ]
  },
  {
   "cell_type": "markdown",
   "metadata": {},
   "source": [
    "# Look at the data in neuroglancer"
   ]
  },
  {
   "cell_type": "code",
   "execution_count": 7,
   "metadata": {},
   "outputs": [],
   "source": [
    "import neuroglancer"
   ]
  },
  {
   "cell_type": "code",
   "execution_count": 8,
   "metadata": {},
   "outputs": [
    {
     "data": {
      "text/html": [
       "<a href=\"http://127.0.0.1:46059/v/07d90401382158557b7c67abfcdcbdb729899d98/\" target=\"_blank\">Viewer</a>"
      ],
      "text/plain": [
       "http://127.0.0.1:46059/v/07d90401382158557b7c67abfcdcbdb729899d98/"
      ]
     },
     "execution_count": 8,
     "metadata": {},
     "output_type": "execute_result"
    }
   ],
   "source": [
    "viewer = neuroglancer.Viewer()\n",
    "viewer"
   ]
  },
  {
   "cell_type": "code",
   "execution_count": null,
   "metadata": {},
   "outputs": [],
   "source": []
  }
 ],
 "metadata": {
  "kernelspec": {
   "display_name": "Python 3",
   "language": "python",
   "name": "python3"
  },
  "language_info": {
   "codemirror_mode": {
    "name": "ipython",
    "version": 3
   },
   "file_extension": ".py",
   "mimetype": "text/x-python",
   "name": "python",
   "nbconvert_exporter": "python",
   "pygments_lexer": "ipython3",
   "version": "3.6.0"
  }
 },
 "nbformat": 4,
 "nbformat_minor": 2
}

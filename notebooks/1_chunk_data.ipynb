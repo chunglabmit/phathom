{
 "cells": [
  {
   "cell_type": "markdown",
   "metadata": {},
   "source": [
    "# Step 1: Break volume into chunks"
   ]
  },
  {
   "cell_type": "markdown",
   "metadata": {},
   "source": [
    "Should show mipmaps in neuroglancer..."
   ]
  },
  {
   "cell_type": "code",
   "execution_count": 1,
   "metadata": {},
   "outputs": [],
   "source": [
    "import os\n",
    "import zarr\n",
    "from precomputed_tif import ZarrStack"
   ]
  },
  {
   "cell_type": "code",
   "execution_count": 2,
   "metadata": {},
   "outputs": [],
   "source": [
    "working_dir = '/home/jswaney/coregistration'\n",
    "working_dir = '/media/jswaney/Drive/Justin/coregistration/gabi_pv'\n",
    "# working_dir = '/media/jswaney/Drive/Justin/whole_org'"
   ]
  },
  {
   "cell_type": "code",
   "execution_count": 3,
   "metadata": {},
   "outputs": [],
   "source": [
    "fixed_src_path = 'syto16_zarrstack/1_1_1'\n",
    "moving_src_path = 'pvtdtomato_zarrstack/1_1_1'\n",
    "fixed_dest_path = 'syto16_zarrstack'\n",
    "moving_dest_path = 'pvtdtomato_zarrstack'\n",
    "\n",
    "fixed_src = zarr.NestedDirectoryStore(os.path.join(working_dir, \n",
    "                                                   fixed_src_path))\n",
    "moving_src = zarr.NestedDirectoryStore(os.path.join(working_dir, \n",
    "                                                    moving_src_path))\n",
    "fixed_dest = os.path.join(working_dir, fixed_dest_path)\n",
    "moving_dest = os.path.join(working_dir, moving_dest_path)\n",
    "\n",
    "fixed_stack = ZarrStack(fixed_src, fixed_dest)\n",
    "moving_stack = ZarrStack(moving_src, moving_dest)"
   ]
  },
  {
   "cell_type": "markdown",
   "metadata": {},
   "source": [
    "# Write the info files"
   ]
  },
  {
   "cell_type": "code",
   "execution_count": 4,
   "metadata": {},
   "outputs": [],
   "source": [
    "n_levels = 4\n",
    "\n",
    "fixed_stack.write_info_file(n_levels)\n",
    "moving_stack.write_info_file(n_levels)"
   ]
  },
  {
   "cell_type": "markdown",
   "metadata": {},
   "source": [
    "# Create the first levels"
   ]
  },
  {
   "cell_type": "code",
   "execution_count": 5,
   "metadata": {},
   "outputs": [
    {
     "name": "stderr",
     "output_type": "stream",
     "text": [
      "100%|██████████| 71/71 [5:36:40<00:00, 284.52s/it]  \n",
      "100%|██████████| 64/64 [8:23:28<00:00, 472.00s/it]  \n"
     ]
    }
   ],
   "source": [
    "fixed_stack.write_level_1()\n",
    "moving_stack.write_level_1()"
   ]
  },
  {
   "cell_type": "markdown",
   "metadata": {},
   "source": [
    "# Create the higher levels"
   ]
  },
  {
   "cell_type": "code",
   "execution_count": 5,
   "metadata": {},
   "outputs": [
    {
     "name": "stderr",
     "output_type": "stream",
     "text": [
      "100%|██████████| 5016/5016 [20:10<00:00,  4.14it/s]\n",
      "100%|██████████| 5016/5016 [10:01<00:00,  8.34it/s]\n",
      "100%|██████████| 638/638 [00:34<00:00, 18.45it/s]\n",
      "100%|██████████| 638/638 [00:39<00:00, 16.27it/s]\n",
      "100%|██████████| 165/165 [00:04<00:00, 36.26it/s]\n",
      "100%|██████████| 165/165 [00:04<00:00, 35.14it/s]\n"
     ]
    }
   ],
   "source": [
    "for level in range(2, n_levels+1):\n",
    "    fixed_stack.write_level_n(level)\n",
    "    moving_stack.write_level_n(level)"
   ]
  },
  {
   "cell_type": "markdown",
   "metadata": {},
   "source": [
    "# Add another level to existing stack (Optional)"
   ]
  },
  {
   "cell_type": "code",
   "execution_count": 6,
   "metadata": {},
   "outputs": [],
   "source": [
    "fixed_src_path = 'fixed/zarr_uint16'\n",
    "fixed_dest_path = 'fixed/zarr_stack'\n",
    "moving_src_path = 'moving/zarr_stack_registered/1_1_1'\n",
    "moving_dest_path = 'moving/zarr_stack_registered'\n",
    "\n",
    "fixed_src = zarr.NestedDirectoryStore(os.path.join(working_dir, \n",
    "                                                   fixed_src_path))\n",
    "moving_src = zarr.NestedDirectoryStore(os.path.join(working_dir, \n",
    "                                                    moving_src_path))\n",
    "fixed_dest = os.path.join(working_dir, fixed_dest_path)\n",
    "moving_dest = os.path.join(working_dir, moving_dest_path)\n",
    "\n",
    "fixed_stack = ZarrStack(fixed_src, fixed_dest)\n",
    "moving_stack = ZarrStack(moving_src, moving_dest)"
   ]
  },
  {
   "cell_type": "code",
   "execution_count": 7,
   "metadata": {},
   "outputs": [],
   "source": [
    "n_levels = 7\n",
    "\n",
    "# fixed_stack.write_info_file(n_levels)\n",
    "moving_stack.write_info_file(n_levels)"
   ]
  },
  {
   "cell_type": "code",
   "execution_count": 6,
   "metadata": {},
   "outputs": [
    {
     "name": "stderr",
     "output_type": "stream",
     "text": [
      "100%|██████████| 520/520 [00:10<00:00, 51.50it/s]\n",
      "100%|██████████| 416/416 [00:08<00:00, 46.49it/s]\n"
     ]
    }
   ],
   "source": [
    "fixed_stack.write_level_n(5)\n",
    "moving_stack.write_level_n(5)"
   ]
  },
  {
   "cell_type": "code",
   "execution_count": 7,
   "metadata": {},
   "outputs": [
    {
     "name": "stderr",
     "output_type": "stream",
     "text": [
      "100%|██████████| 84/84 [00:01<00:00, 62.47it/s]\n",
      "100%|██████████| 56/56 [00:01<00:00, 42.66it/s]\n"
     ]
    }
   ],
   "source": [
    "fixed_stack.write_level_n(6)\n",
    "moving_stack.write_level_n(6)"
   ]
  },
  {
   "cell_type": "code",
   "execution_count": 8,
   "metadata": {},
   "outputs": [
    {
     "name": "stderr",
     "output_type": "stream",
     "text": [
      "100%|██████████| 16/16 [00:00<00:00, 70.66it/s]\n",
      "100%|██████████| 8/8 [00:00<00:00, 43.27it/s]\n"
     ]
    }
   ],
   "source": [
    "fixed_stack.write_level_n(7)\n",
    "moving_stack.write_level_n(7)"
   ]
  },
  {
   "cell_type": "markdown",
   "metadata": {},
   "source": [
    "# Look at the data in neuroglancer"
   ]
  },
  {
   "cell_type": "code",
   "execution_count": 1,
   "metadata": {},
   "outputs": [],
   "source": [
    "import neuroglancer"
   ]
  },
  {
   "cell_type": "code",
   "execution_count": 2,
   "metadata": {},
   "outputs": [
    {
     "data": {
      "text/html": [
       "<a href=\"http://127.0.0.1:42027/v/16a94dc01d2b196d5e7a25da34367e8b0127437c/\" target=\"_blank\">Viewer</a>"
      ],
      "text/plain": [
       "http://127.0.0.1:42027/v/16a94dc01d2b196d5e7a25da34367e8b0127437c/"
      ]
     },
     "execution_count": 2,
     "metadata": {},
     "output_type": "execute_result"
    }
   ],
   "source": [
    "viewer = neuroglancer.Viewer()\n",
    "viewer"
   ]
  },
  {
   "cell_type": "code",
   "execution_count": null,
   "metadata": {},
   "outputs": [],
   "source": []
  }
 ],
 "metadata": {
  "kernelspec": {
   "display_name": "Python [conda env:phathom]",
   "language": "python",
   "name": "conda-env-phathom-py"
  },
  "language_info": {
   "codemirror_mode": {
    "name": "ipython",
    "version": 3
   },
   "file_extension": ".py",
   "mimetype": "text/x-python",
   "name": "python",
   "nbconvert_exporter": "python",
   "pygments_lexer": "ipython3",
   "version": "3.6.5"
  }
 },
 "nbformat": 4,
 "nbformat_minor": 2
}

{
 "cells": [
  {
   "cell_type": "markdown",
   "metadata": {},
   "source": [
    "# Step 1: Break volume into chunks"
   ]
  },
  {
   "cell_type": "markdown",
   "metadata": {},
   "source": [
    "Should show mipmaps in neuroglancer..."
   ]
  },
  {
   "cell_type": "code",
   "execution_count": 2,
   "metadata": {},
   "outputs": [],
   "source": [
    "import os\n",
    "import zarr\n",
    "from precomputed_tif import ZarrStack"
   ]
  },
  {
   "cell_type": "code",
   "execution_count": 4,
   "metadata": {},
   "outputs": [],
   "source": [
    "working_dir = '/home/jswaney/coregistration'"
   ]
  },
  {
   "cell_type": "code",
   "execution_count": 13,
   "metadata": {},
   "outputs": [],
   "source": [
    "fixed_src_path = 'fixed/zarr_uint16'\n",
    "moving_src_path = 'moving/zarr_uint16'\n",
    "fixed_dest_path = 'fixed/zarr_stack2'\n",
    "moving_dest_path = 'moving/zarr_stack2'\n",
    "\n",
    "fixed_src = zarr.NestedDirectoryStore(os.path.join(working_dir, \n",
    "                                                   fixed_src_path))\n",
    "moving_src = zarr.NestedDirectoryStore(os.path.join(working_dir, \n",
    "                                                    moving_src_path))\n",
    "fixed_dest = os.path.join(working_dir, fixed_dest_path)\n",
    "moving_dest = os.path.join(working_dir, moving_dest_path)\n",
    "\n",
    "fixed_stack = ZarrStack(fixed_src, fixed_dest)\n",
    "moving_stack = ZarrStack(moving_src, moving_dest)"
   ]
  },
  {
   "cell_type": "markdown",
   "metadata": {},
   "source": [
    "# Write the info files"
   ]
  },
  {
   "cell_type": "code",
   "execution_count": 15,
   "metadata": {},
   "outputs": [],
   "source": [
    "n_levels = 4\n",
    "\n",
    "fixed_stack.write_info_file(n_levels)\n",
    "moving_stack.write_info_file(n_levels)"
   ]
  },
  {
   "cell_type": "markdown",
   "metadata": {},
   "source": [
    "# Create the first levels"
   ]
  },
  {
   "cell_type": "code",
   "execution_count": null,
   "metadata": {},
   "outputs": [
    {
     "name": "stderr",
     "output_type": "stream",
     "text": [
      "\r",
      "  0%|          | 0/71 [00:00<?, ?it/s]"
     ]
    }
   ],
   "source": [
    "fixed_stack.write_level_1()\n",
    "moving_stack.write_level_1()"
   ]
  },
  {
   "cell_type": "markdown",
   "metadata": {},
   "source": [
    "# Create the higher levels"
   ]
  },
  {
   "cell_type": "code",
   "execution_count": 9,
   "metadata": {},
   "outputs": [
    {
     "name": "stderr",
     "output_type": "stream",
     "text": [
      "100%|██████████| 202536/202536 [1:17:39<00:00, 43.46it/s]\n",
      "100%|██████████| 25578/25578 [09:54<00:00, 43.04it/s]\n",
      "100%|██████████| 3375/3375 [01:13<00:00, 46.14it/s]\n",
      "100%|██████████| 520/520 [00:10<00:00, 49.38it/s]\n",
      "100%|██████████| 84/84 [00:02<00:00, 32.31it/s]\n",
      "100%|██████████| 16/16 [00:00<00:00, 70.44it/s]\n"
     ]
    }
   ],
   "source": [
    "for level in range(2, n_levels+1):\n",
    "#     fixed_stack.write_level_n(level)\n",
    "    moving_stack.write_level_n(level)"
   ]
  },
  {
   "cell_type": "markdown",
   "metadata": {},
   "source": [
    "# Add another level to existing stack (Optional)"
   ]
  },
  {
   "cell_type": "code",
   "execution_count": 6,
   "metadata": {},
   "outputs": [],
   "source": [
    "fixed_src_path = 'fixed/zarr_uint16'\n",
    "fixed_dest_path = 'fixed/zarr_stack'\n",
    "moving_src_path = 'moving/zarr_stack_registered/1_1_1'\n",
    "moving_dest_path = 'moving/zarr_stack_registered'\n",
    "\n",
    "fixed_src = zarr.NestedDirectoryStore(os.path.join(working_dir, \n",
    "                                                   fixed_src_path))\n",
    "moving_src = zarr.NestedDirectoryStore(os.path.join(working_dir, \n",
    "                                                    moving_src_path))\n",
    "fixed_dest = os.path.join(working_dir, fixed_dest_path)\n",
    "moving_dest = os.path.join(working_dir, moving_dest_path)\n",
    "\n",
    "fixed_stack = ZarrStack(fixed_src, fixed_dest)\n",
    "moving_stack = ZarrStack(moving_src, moving_dest)"
   ]
  },
  {
   "cell_type": "code",
   "execution_count": 7,
   "metadata": {},
   "outputs": [],
   "source": [
    "n_levels = 7\n",
    "\n",
    "# fixed_stack.write_info_file(n_levels)\n",
    "moving_stack.write_info_file(n_levels)"
   ]
  },
  {
   "cell_type": "code",
   "execution_count": 6,
   "metadata": {},
   "outputs": [
    {
     "name": "stderr",
     "output_type": "stream",
     "text": [
      "100%|██████████| 520/520 [00:10<00:00, 51.50it/s]\n",
      "100%|██████████| 416/416 [00:08<00:00, 46.49it/s]\n"
     ]
    }
   ],
   "source": [
    "fixed_stack.write_level_n(5)\n",
    "moving_stack.write_level_n(5)"
   ]
  },
  {
   "cell_type": "code",
   "execution_count": 7,
   "metadata": {},
   "outputs": [
    {
     "name": "stderr",
     "output_type": "stream",
     "text": [
      "100%|██████████| 84/84 [00:01<00:00, 62.47it/s]\n",
      "100%|██████████| 56/56 [00:01<00:00, 42.66it/s]\n"
     ]
    }
   ],
   "source": [
    "fixed_stack.write_level_n(6)\n",
    "moving_stack.write_level_n(6)"
   ]
  },
  {
   "cell_type": "code",
   "execution_count": 8,
   "metadata": {},
   "outputs": [
    {
     "name": "stderr",
     "output_type": "stream",
     "text": [
      "100%|██████████| 16/16 [00:00<00:00, 70.66it/s]\n",
      "100%|██████████| 8/8 [00:00<00:00, 43.27it/s]\n"
     ]
    }
   ],
   "source": [
    "fixed_stack.write_level_n(7)\n",
    "moving_stack.write_level_n(7)"
   ]
  },
  {
   "cell_type": "markdown",
   "metadata": {},
   "source": [
    "# Look at the data in neuroglancer"
   ]
  },
  {
   "cell_type": "code",
   "execution_count": 10,
   "metadata": {},
   "outputs": [],
   "source": [
    "import neuroglancer"
   ]
  },
  {
   "cell_type": "code",
   "execution_count": 11,
   "metadata": {},
   "outputs": [
    {
     "data": {
      "text/html": [
       "<a href=\"http://127.0.0.1:40163/v/aa0559ef0a875ed428f51025653ec5371e2b6928/\" target=\"_blank\">Viewer</a>"
      ],
      "text/plain": [
       "http://127.0.0.1:40163/v/aa0559ef0a875ed428f51025653ec5371e2b6928/"
      ]
     },
     "execution_count": 11,
     "metadata": {},
     "output_type": "execute_result"
    }
   ],
   "source": [
    "viewer = neuroglancer.Viewer()\n",
    "viewer"
   ]
  },
  {
   "cell_type": "code",
   "execution_count": null,
   "metadata": {},
   "outputs": [],
   "source": []
  }
 ],
 "metadata": {
  "kernelspec": {
   "display_name": "Python (phathom)",
   "language": "python",
   "name": "phathom"
  },
  "language_info": {
   "codemirror_mode": {
    "name": "ipython",
    "version": 3
   },
   "file_extension": ".py",
   "mimetype": "text/x-python",
   "name": "python",
   "nbconvert_exporter": "python",
   "pygments_lexer": "ipython3",
   "version": "3.5.0"
  }
 },
 "nbformat": 4,
 "nbformat_minor": 2
}

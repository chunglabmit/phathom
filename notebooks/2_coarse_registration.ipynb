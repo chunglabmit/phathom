{
 "cells": [
  {
   "cell_type": "markdown",
   "metadata": {},
   "source": [
    "# Step 2: Perform coarse rigid registration"
   ]
  },
  {
   "cell_type": "code",
   "execution_count": 1,
   "metadata": {},
   "outputs": [],
   "source": [
    "import neuroglancer\n",
    "from phathom import plotting\n",
    "import zarr\n",
    "import os\n",
    "import matplotlib.pyplot as plt\n",
    "import numpy as np\n",
    "from phathom.registration import coarse\n",
    "from phathom.utils import pickle_save"
   ]
  },
  {
   "cell_type": "code",
   "execution_count": 2,
   "metadata": {},
   "outputs": [
    {
     "data": {
      "text/html": [
       "<a href=\"http://127.0.0.1:33355/v/edf46912e91631385a155f474baf0fc27b4481b0/\" target=\"_blank\">Viewer</a>"
      ],
      "text/plain": [
       "http://127.0.0.1:33355/v/edf46912e91631385a155f474baf0fc27b4481b0/"
      ]
     },
     "execution_count": 2,
     "metadata": {},
     "output_type": "execute_result"
    }
   ],
   "source": [
    "viewer = neuroglancer.Viewer()\n",
    "viewer"
   ]
  },
  {
   "cell_type": "markdown",
   "metadata": {},
   "source": [
    "Use this in IPython to allow external viewing (from VM)\n",
    "```\n",
    "neuroglancer.set_server_bind_address(bind_address='192.168.158.128', bind_port=80)\n",
    "```"
   ]
  },
  {
   "cell_type": "code",
   "execution_count": 3,
   "metadata": {},
   "outputs": [],
   "source": [
    "working_dir = '/home/jswaney/coregistration'"
   ]
  },
  {
   "cell_type": "code",
   "execution_count": 4,
   "metadata": {},
   "outputs": [
    {
     "name": "stdout",
     "output_type": "stream",
     "text": [
      "Downsampled shapes: (71, 194, 115) (64, 194, 115)\n"
     ]
    }
   ],
   "source": [
    "fixed_path = 'fixed/zarr_stack/64_64_64'\n",
    "moving_path = 'moving/zarr_stack/64_64_64'\n",
    "\n",
    "fixed_store = zarr.NestedDirectoryStore(os.path.join(working_dir, \n",
    "                                                     fixed_path))\n",
    "moving_store = zarr.NestedDirectoryStore(os.path.join(working_dir,\n",
    "                                                      moving_path))\n",
    "\n",
    "fixed_down = zarr.load(fixed_store)\n",
    "moving_down = zarr.load(moving_store)\n",
    "\n",
    "print('Downsampled shapes:', fixed_down.shape, moving_down.shape)\n",
    "\n",
    "plotting.plot_both(fixed_down, moving_down, viewer, normalization=1000)"
   ]
  },
  {
   "cell_type": "markdown",
   "metadata": {},
   "source": [
    "# Set a threshold for tissue foreground"
   ]
  },
  {
   "cell_type": "code",
   "execution_count": 15,
   "metadata": {},
   "outputs": [
    {
     "data": {
      "image/png": "[encoded data removed]",
      "text/plain": [
       "<Figure size 432x288 with 1 Axes>"
      ]
     },
     "metadata": {},
     "output_type": "display_data"
    },
    {
     "name": "stderr",
     "output_type": "stream",
     "text": [
      "No handles with labels found to put in legend.\n"
     ]
    },
    {
     "data": {
      "image/png": "[encoded data removed]",
      "text/plain": [
       "<Figure size 864x576 with 1 Axes>"
      ]
     },
     "metadata": {},
     "output_type": "display_data"
    }
   ],
   "source": [
    "threshold = 250\n",
    "\n",
    "bins = 256\n",
    "xmax = 2e3\n",
    "ymax = 5e4\n",
    "\n",
    "plt.hist(fixed_down.ravel(), bins, alpha=0.5, label='fixed')\n",
    "plt.hist(moving_down.ravel(), bins, alpha=0.5, label='moving')\n",
    "plt.plot([threshold, threshold], [0, ymax], 'r-')\n",
    "plt.xlim([0, xmax])\n",
    "plt.ylim([0, ymax])\n",
    "plt.legend()\n",
    "plt.show()\n",
    "\n",
    "fixed_mask = (fixed_down > threshold)\n",
    "moving_mask = (moving_down > threshold)\n",
    "\n",
    "plt.figure(figsize=(12, 8))\n",
    "plt.imshow(fixed_mask[fixed_mask.shape[0] // 2], alpha=0.5, cmap='Reds')\n",
    "plt.imshow(moving_mask[moving_mask.shape[0] // 2], alpha=0.5, cmap='Greens')\n",
    "plt.legend()\n",
    "plt.show()"
   ]
  },
  {
   "cell_type": "code",
   "execution_count": 9,
   "metadata": {},
   "outputs": [
    {
     "name": "stdout",
     "output_type": "stream",
     "text": [
      "basinhopping step 0: f 0.528181\n",
      "basinhopping step 1: f 0.604992 trial_f 0.604992 accepted 1  lowest_f 0.528181\n",
      "basinhopping step 2: f 0.569272 trial_f 0.569272 accepted 1  lowest_f 0.528181\n",
      "basinhopping step 3: f 0.552324 trial_f 0.552324 accepted 1  lowest_f 0.528181\n",
      "basinhopping step 4: f 0.604443 trial_f 0.604443 accepted 1  lowest_f 0.528181\n",
      "adaptive stepsize: acceptance rate 0.800000 target 0.500000 new stepsize 1.11111 old stepsize 1\n",
      "basinhopping step 5: f 0.523507 trial_f 0.523507 accepted 1  lowest_f 0.523507\n",
      "found new global minimum on step 5 with function value 0.523507\n",
      "basinhopping step 6: f 0.579947 trial_f 0.579947 accepted 1  lowest_f 0.523507\n",
      "basinhopping step 7: f 0.547939 trial_f 0.547939 accepted 1  lowest_f 0.523507\n",
      "basinhopping step 8: f 0.517242 trial_f 0.517242 accepted 1  lowest_f 0.517242\n",
      "found new global minimum on step 8 with function value 0.517242\n",
      "basinhopping step 9: f 0.520123 trial_f 0.520123 accepted 1  lowest_f 0.517242\n",
      "adaptive stepsize: acceptance rate 0.900000 target 0.500000 new stepsize 1.23457 old stepsize 1.11111\n",
      "basinhopping step 10: f 0.65808 trial_f 0.65808 accepted 1  lowest_f 0.517242\n"
     ]
    }
   ],
   "source": [
    "optim_kwargs = {'niter': 10,\n",
    "                't0': np.zeros(3),\n",
    "                'theta0': np.zeros(3)}\n",
    "min_size = 10\n",
    "use_hull = False\n",
    "\n",
    "t_down, theta, center_down = coarse.coarse_registration(moving_down, \n",
    "                                                        fixed_down, \n",
    "                                                        threshold,\n",
    "                                                        optim_kwargs,\n",
    "                                                        min_size=min_size,\n",
    "                                                        use_hull=use_hull)"
   ]
  },
  {
   "cell_type": "markdown",
   "metadata": {},
   "source": [
    "# Warp downsampled image"
   ]
  },
  {
   "cell_type": "code",
   "execution_count": 10,
   "metadata": {},
   "outputs": [],
   "source": [
    "registered_down = coarse.rigid_warp(moving_down, \n",
    "                                    t_down, \n",
    "                                    theta, \n",
    "                                    center_down, \n",
    "                                    fixed_down.shape)\n",
    "\n",
    "plotting.plot_both(fixed_down, \n",
    "                   registered_down, \n",
    "                   viewer, \n",
    "                   normalization=2000)"
   ]
  },
  {
   "cell_type": "markdown",
   "metadata": {},
   "source": [
    "# Convert to fullres transformation"
   ]
  },
  {
   "cell_type": "code",
   "execution_count": 11,
   "metadata": {},
   "outputs": [
    {
     "name": "stdout",
     "output_type": "stream",
     "text": [
      "Original [   2.90338001 -370.8526147  -191.62759004] [1989.03848673 5334.33099033 3145.78665711]\n",
      "(4506, 12374, 7337)\n",
      "(71, 194, 115)\n"
     ]
    }
   ],
   "source": [
    "fixed_fullres_path = 'fixed/zarr_stack/1_1_1'\n",
    "moving_fullres_path = 'moving/zarr_stack/1_1_1'\n",
    "\n",
    "fixed_fullres_store = zarr.NestedDirectoryStore(os.path.join(working_dir, \n",
    "                                                             fixed_fullres_path))\n",
    "moving_fullres_store = zarr.NestedDirectoryStore(os.path.join(working_dir,\n",
    "                                                              moving_fullres_path))\n",
    "fixed_img = zarr.open(fixed_fullres_store, mode='r')\n",
    "moving_img = zarr.open(moving_fullres_store, mode='r')\n",
    "\n",
    "true_factors = np.array(fixed_img.shape) / np.array(fixed_down.shape)\n",
    "t, center = coarse._scale_rigid_params(t_down, \n",
    "                                       center_down, \n",
    "                                       true_factors)\n",
    "\n",
    "print('Fullres:', t, center)\n",
    "print(fixed_img.shape)\n",
    "print(fixed_down.shape)"
   ]
  },
  {
   "cell_type": "markdown",
   "metadata": {},
   "source": [
    "# Save the fullres transformation"
   ]
  },
  {
   "cell_type": "code",
   "execution_count": 12,
   "metadata": {},
   "outputs": [],
   "source": [
    "rigid_path = 'rigid_transformation.pkl'\n",
    "\n",
    "transformation_dict = {'t': t,\n",
    "                       'theta': theta,\n",
    "                       'center': center}\n",
    "\n",
    "pickle_save(os.path.join(working_dir, rigid_path), transformation_dict)"
   ]
  },
  {
   "cell_type": "code",
   "execution_count": null,
   "metadata": {},
   "outputs": [],
   "source": []
  }
 ],
 "metadata": {
  "kernelspec": {
   "display_name": "Python [conda env:phathom]",
   "language": "python",
   "name": "conda-env-phathom-py"
  },
  "language_info": {
   "codemirror_mode": {
    "name": "ipython",
    "version": 3
   },
   "file_extension": ".py",
   "mimetype": "text/x-python",
   "name": "python",
   "nbconvert_exporter": "python",
   "pygments_lexer": "ipython3",
   "version": "3.5.5"
  }
 },
 "nbformat": 4,
 "nbformat_minor": 2
}

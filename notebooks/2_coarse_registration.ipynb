{
 "cells": [
  {
   "cell_type": "markdown",
   "metadata": {},
   "source": [
    "# Step 2: Perform coarse rigid registration"
   ]
  },
  {
   "cell_type": "code",
   "execution_count": 16,
   "metadata": {},
   "outputs": [],
   "source": [
    "import neuroglancer\n",
    "from phathom import plotting\n",
    "import zarr\n",
    "import os\n",
    "import matplotlib.pyplot as plt\n",
    "import numpy as np\n",
    "from phathom.registration import coarse\n",
    "from phathom.utils import pickle_save\n",
    "import tifffile\n",
    "from phathom.utils import pickle_load, read_voxel_size"
   ]
  },
  {
   "cell_type": "code",
   "execution_count": 12,
   "metadata": {},
   "outputs": [
    {
     "data": {
      "text/html": [
       "<a href=\"http://127.0.0.1:35347/v/13836af5b4829136b6d1bfa13910f2c578afd65c/\" target=\"_blank\">Viewer</a>"
      ],
      "text/plain": [
       "http://127.0.0.1:35347/v/13836af5b4829136b6d1bfa13910f2c578afd65c/"
      ]
     },
     "execution_count": 12,
     "metadata": {},
     "output_type": "execute_result"
    }
   ],
   "source": [
    "viewer = neuroglancer.Viewer()\n",
    "viewer"
   ]
  },
  {
   "cell_type": "markdown",
   "metadata": {},
   "source": [
    "Use this in IPython to allow external viewing (from VM)\n",
    "```\n",
    "neuroglancer.set_server_bind_address(bind_address='192.168.158.128', bind_port=80)\n",
    "```"
   ]
  },
  {
   "cell_type": "code",
   "execution_count": 13,
   "metadata": {},
   "outputs": [],
   "source": [
    "working_dir = '/media/jswaney/Drive/Justin/marmoset'"
   ]
  },
  {
   "cell_type": "code",
   "execution_count": 20,
   "metadata": {},
   "outputs": [
    {
     "name": "stdout",
     "output_type": "stream",
     "text": [
      "Downsampled shapes: (57, 141, 114) (71, 141, 87)\n"
     ]
    }
   ],
   "source": [
    "fixed_path = 'round1/syto16.zarr/64_64_64'\n",
    "moving_path = 'round2/syto16.zarr/64_64_64'\n",
    "fixed_voxel_size = (1, 1, 2)\n",
    "moving_voxel_size = (1, 1, 2)\n",
    "downsample_factor = 64\n",
    "\n",
    "fixed_store = zarr.NestedDirectoryStore(os.path.join(working_dir, \n",
    "                                                     fixed_path))\n",
    "moving_store = zarr.NestedDirectoryStore(os.path.join(working_dir,\n",
    "                                                      moving_path))\n",
    "\n",
    "fixed_down = zarr.load(fixed_store)\n",
    "moving_down = zarr.load(moving_store)\n",
    "\n",
    "print('Downsampled shapes:', fixed_down.shape, moving_down.shape)\n",
    "\n",
    "plotting.plot_both(fixed_down, \n",
    "                   moving_down, \n",
    "                   viewer, \n",
    "                   normalization=4000,\n",
    "                   fixed_voxel_size=tuple(x*downsample_factor for x in fixed_voxel_size),\n",
    "                   moving_voxel_size=tuple(x*downsample_factor for x in fixed_voxel_size))"
   ]
  },
  {
   "cell_type": "markdown",
   "metadata": {},
   "source": [
    "# Set a threshold for tissue foreground"
   ]
  },
  {
   "cell_type": "code",
   "execution_count": 5,
   "metadata": {},
   "outputs": [
    {
     "data": {
      "image/png": "[encoded data removed]",
      "text/plain": [
       "<matplotlib.figure.Figure at 0x7fdd740b7c88>"
      ]
     },
     "metadata": {
      "needs_background": "light"
     },
     "output_type": "display_data"
    },
    {
     "name": "stderr",
     "output_type": "stream",
     "text": [
      "/home/jswaney/anaconda3/envs/phathom/lib/python3.6/site-packages/matplotlib/axes/_axes.py:545: UserWarning: No labelled objects found. Use label='...' kwarg on individual plots.\n",
      "  warnings.warn(\"No labelled objects found. \"\n"
     ]
    },
    {
     "data": {
      "image/png": "[encoded data removed]",
      "text/plain": [
       "<matplotlib.figure.Figure at 0x7fdd7409b278>"
      ]
     },
     "metadata": {
      "needs_background": "light"
     },
     "output_type": "display_data"
    }
   ],
   "source": [
    "thresh_fixed = 500\n",
    "thresh_moving = 1000\n",
    "\n",
    "bins = 256\n",
    "xmax = 2e3\n",
    "ymax = 10000\n",
    "\n",
    "plt.hist(fixed_down.ravel(), bins, alpha=0.5, label='fixed')\n",
    "plt.hist(moving_down.ravel(), bins, alpha=0.5, label='moving')\n",
    "plt.plot([thresh_fixed, thresh_fixed], [0, ymax], 'r-')\n",
    "plt.plot([thresh_moving, thresh_moving], [0, ymax], 'r-')\n",
    "plt.xlim([0, xmax])\n",
    "plt.ylim([0, ymax])\n",
    "plt.legend()\n",
    "plt.show()\n",
    "\n",
    "fixed_mask = (fixed_down > thresh_fixed)\n",
    "moving_mask = (moving_down > thresh_moving)\n",
    "\n",
    "plt.figure(figsize=(12, 8))\n",
    "plt.imshow(fixed_mask[fixed_mask.shape[0] // 2], alpha=0.5, cmap='Reds')\n",
    "plt.imshow(moving_mask[moving_mask.shape[0] // 2], alpha=0.5, cmap='Greens')\n",
    "plt.legend()\n",
    "plt.show()"
   ]
  },
  {
   "cell_type": "code",
   "execution_count": 6,
   "metadata": {},
   "outputs": [
    {
     "name": "stdout",
     "output_type": "stream",
     "text": [
      "basinhopping step 0: f 0.261566\n",
      "basinhopping step 1: f 0.26238 trial_f 0.26238 accepted 1  lowest_f 0.261566\n",
      "basinhopping step 2: f 0.263903 trial_f 0.263903 accepted 1  lowest_f 0.261566\n",
      "basinhopping step 3: f 0.261355 trial_f 0.261355 accepted 1  lowest_f 0.261355\n",
      "found new global minimum on step 3 with function value 0.261355\n",
      "basinhopping step 4: f 0.261447 trial_f 0.261447 accepted 1  lowest_f 0.261355\n",
      "adaptive stepsize: acceptance rate 0.800000 target 0.500000 new stepsize 0.111111 old stepsize 0.1\n",
      "basinhopping step 5: f 0.261702 trial_f 0.261702 accepted 1  lowest_f 0.261355\n",
      "basinhopping step 6: f 0.26138 trial_f 0.26138 accepted 1  lowest_f 0.261355\n",
      "basinhopping step 7: f 0.261704 trial_f 0.261704 accepted 1  lowest_f 0.261355\n",
      "basinhopping step 8: f 0.262038 trial_f 0.262038 accepted 1  lowest_f 0.261355\n",
      "basinhopping step 9: f 0.262774 trial_f 0.262774 accepted 1  lowest_f 0.261355\n",
      "adaptive stepsize: acceptance rate 0.900000 target 0.500000 new stepsize 0.123457 old stepsize 0.111111\n",
      "basinhopping step 10: f 0.264749 trial_f 0.264749 accepted 1  lowest_f 0.261355\n"
     ]
    }
   ],
   "source": [
    "optim_kwargs = {'niter': 10,\n",
    "                't0': np.array([-1, 5, -15]),\n",
    "                'theta0': np.array([-0.54, 0.29, -0.08]),\n",
    "                's0': 1}\n",
    "min_size = None\n",
    "use_hull = False\n",
    "\n",
    "threshold = [thresh_moving, thresh_fixed]\n",
    "\n",
    "t_down, theta, center_down, s = coarse.coarse_registration(moving_down, \n",
    "                                                        fixed_down, \n",
    "                                                        threshold,\n",
    "                                                        optim_kwargs,\n",
    "                                                        min_size=min_size,\n",
    "                                                        use_hull=use_hull)"
   ]
  },
  {
   "cell_type": "markdown",
   "metadata": {},
   "source": [
    "# Warp downsampled image"
   ]
  },
  {
   "cell_type": "code",
   "execution_count": 7,
   "metadata": {},
   "outputs": [
    {
     "data": {
      "text/plain": [
       "(1.0138872328878725,\n",
       " array([-0.56238193,  0.24496881, -0.07573708]),\n",
       " array([  2.01692891,   5.02418633, -14.16782721]))"
      ]
     },
     "execution_count": 7,
     "metadata": {},
     "output_type": "execute_result"
    }
   ],
   "source": [
    "s, theta, t_down"
   ]
  },
  {
   "cell_type": "code",
   "execution_count": 19,
   "metadata": {},
   "outputs": [
    {
     "name": "stderr",
     "output_type": "stream",
     "text": [
      "Exception in callback None()\n",
      "handle: <Handle cancelled>\n",
      "Traceback (most recent call last):\n",
      "  File \"/home/jswaney/anaconda3/envs/phathom/lib/python3.6/asyncio/events.py\", line 126, in _run\n",
      "    self._callback(*self._args)\n",
      "  File \"/home/jswaney/anaconda3/envs/phathom/lib/python3.6/site-packages/tornado/platform/asyncio.py\", line 122, in _handle_events\n",
      "    handler_func(fileobj, events)\n",
      "  File \"/home/jswaney/anaconda3/envs/phathom/lib/python3.6/site-packages/tornado/stack_context.py\", line 300, in null_wrapper\n",
      "    return fn(*args, **kwargs)\n",
      "  File \"/home/jswaney/anaconda3/envs/phathom/lib/python3.6/site-packages/tornado/iostream.py\", line 713, in _handle_events\n",
      "    self._handle_write()\n",
      "  File \"/home/jswaney/anaconda3/envs/phathom/lib/python3.6/site-packages/tornado/iostream.py\", line 1063, in _handle_write\n",
      "    self._write_buffer.advance(num_bytes)\n",
      "  File \"/home/jswaney/anaconda3/envs/phathom/lib/python3.6/site-packages/tornado/iostream.py\", line 184, in advance\n",
      "    assert 0 < size <= self._size\n",
      "AssertionError\n"
     ]
    }
   ],
   "source": [
    "registered_down = coarse.rigid_warp(moving_down, \n",
    "                                    t_down, \n",
    "                                    theta,\n",
    "                                    s,\n",
    "                                    center_down, \n",
    "                                    fixed_down.shape)\n",
    "\n",
    "plotting.plot_both(fixed_down, \n",
    "                   registered_down, \n",
    "                   viewer, \n",
    "                   normalization=3000,\n",
    "                   fixed_voxel_size=tuple(x*downsample_factor for x in fixed_voxel_size),\n",
    "                   moving_voxel_size=tuple(x*downsample_factor for x in fixed_voxel_size))"
   ]
  },
  {
   "cell_type": "markdown",
   "metadata": {},
   "source": [
    "# Convert to fullres transformation"
   ]
  },
  {
   "cell_type": "code",
   "execution_count": 9,
   "metadata": {},
   "outputs": [
    {
     "name": "stdout",
     "output_type": "stream",
     "text": [
      "Fullres: [ 127.38498407  321.40539529 -904.1310784 ] [ 2018.60540501  4194.25275517  2923.68065906]\n",
      "(3600, 9020, 7275)\n",
      "(57, 141, 114)\n"
     ]
    }
   ],
   "source": [
    "fixed_fullres_path = 'round1/syto16.zarr/1_1_1'\n",
    "moving_fullres_path = 'round2/syto16.zarr/1_1_1'\n",
    "\n",
    "fixed_fullres_store = zarr.NestedDirectoryStore(os.path.join(working_dir, \n",
    "                                                             fixed_fullres_path))\n",
    "moving_fullres_store = zarr.NestedDirectoryStore(os.path.join(working_dir,\n",
    "                                                              moving_fullres_path))\n",
    "fixed_img = zarr.open(fixed_fullres_store, mode='r')\n",
    "moving_img = zarr.open(moving_fullres_store, mode='r')\n",
    "\n",
    "true_factors = np.array(fixed_img.shape) / np.array(fixed_down.shape)\n",
    "t, center = coarse._scale_rigid_params(t_down, \n",
    "                                          center_down,\n",
    "                                          true_factors)\n",
    "\n",
    "print('Fullres:', t, center)\n",
    "print(fixed_img.shape)\n",
    "print(fixed_down.shape)"
   ]
  },
  {
   "cell_type": "markdown",
   "metadata": {},
   "source": [
    "# Save the fullres transformation"
   ]
  },
  {
   "cell_type": "code",
   "execution_count": 10,
   "metadata": {},
   "outputs": [],
   "source": [
    "rigid_path = 'rigid_transformation.pkl'\n",
    "\n",
    "transformation_dict = {'t': t,\n",
    "                       'theta': theta,\n",
    "                       'center': center,\n",
    "                       's': s}\n",
    "\n",
    "pickle_save(os.path.join(working_dir, rigid_path), transformation_dict)"
   ]
  },
  {
   "cell_type": "markdown",
   "metadata": {},
   "source": [
    "# Use Nuggt-align for get manual coarse alignment (optional)"
   ]
  },
  {
   "cell_type": "markdown",
   "metadata": {},
   "source": [
    "If coarse alignment based on a rigid transformation is not adequate, then we can use nuggt to manually provide correspondences for an affine alignment, which contains more degrees of freedom for better coarse alignment. For this, we need to run nuggt-align to get point correspondences--we need 3D tiffs to do this, so we'll save them from our ZarrStack here."
   ]
  },
  {
   "cell_type": "code",
   "execution_count": 5,
   "metadata": {},
   "outputs": [
    {
     "data": {
      "text/plain": [
       "(289, 1181, 1420)"
      ]
     },
     "execution_count": 5,
     "metadata": {},
     "output_type": "execute_result"
    }
   ],
   "source": [
    "fixed_path = 'round1/syto16.zarr/2_2_2'\n",
    "moving_path = 'round2/syto16.zarr/2_2_2'\n",
    "fixed_voxel_size = (1, 1, 2)\n",
    "moving_voxel_size = (1, 1, 2)\n",
    "downsample_factor = 2\n",
    "\n",
    "fixed_store = zarr.NestedDirectoryStore(os.path.join(working_dir, \n",
    "                                                     fixed_path))\n",
    "moving_store = zarr.NestedDirectoryStore(os.path.join(working_dir,\n",
    "                                                      moving_path))\n",
    "\n",
    "fixed_down = zarr.load(fixed_store)\n",
    "moving_down = zarr.load(moving_store)\n",
    "\n",
    "fixed_down.shape"
   ]
  },
  {
   "cell_type": "code",
   "execution_count": 8,
   "metadata": {},
   "outputs": [],
   "source": [
    "tifffile.imsave(os.path.join(working_dir, 'round1/syto16_2x.tif'), fixed_down, compress=1)\n",
    "tifffile.imsave(os.path.join(working_dir, 'round2/syto16_2x.tif'), moving_down, compress=1)"
   ]
  },
  {
   "cell_type": "markdown",
   "metadata": {},
   "source": [
    "Now we need to run `nuggt-align` with these tiffs to select corresponding points. Save the points file and read it here:"
   ]
  },
  {
   "cell_type": "code",
   "execution_count": null,
   "metadata": {},
   "outputs": [],
   "source": []
  }
 ],
 "metadata": {
  "kernelspec": {
   "display_name": "Python 3",
   "language": "python",
   "name": "python3"
  },
  "language_info": {
   "codemirror_mode": {
    "name": "ipython",
    "version": 3
   },
   "file_extension": ".py",
   "mimetype": "text/x-python",
   "name": "python",
   "nbconvert_exporter": "python",
   "pygments_lexer": "ipython3",
   "version": "3.6.0"
  }
 },
 "nbformat": 4,
 "nbformat_minor": 2
}

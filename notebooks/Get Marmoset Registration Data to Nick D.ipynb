{
 "cells": [
  {
   "cell_type": "code",
   "execution_count": 5,
   "metadata": {},
   "outputs": [],
   "source": [
    "import os\n",
    "from phathom import io\n",
    "from phathom.io import conversion"
   ]
  },
  {
   "cell_type": "code",
   "execution_count": 6,
   "metadata": {},
   "outputs": [
    {
     "data": {
      "text/plain": [
       "(['blobs.npy',\n",
       "  'blobs_coarse.npy',\n",
       "  'features.npy',\n",
       "  'match_idx.npy',\n",
       "  'syto16_clahe.tiffs'],\n",
       " ['blobs.npy',\n",
       "  'features.npy',\n",
       "  'match_idx.npy',\n",
       "  'registering 2 to 1',\n",
       "  'syto16_clahe.tiffs'],\n",
       " ['affine_keypts.npy',\n",
       "  'affine_transformation.pkl',\n",
       "  'fixed_keypts.npy',\n",
       "  'grid_interpolator.pkl',\n",
       "  'grid_values.npy',\n",
       "  'map_interpolator.pkl',\n",
       "  'moving_keypts.npy',\n",
       "  'nonrigid_keypts.npy',\n",
       "  'nonrigid_transformation.pkl',\n",
       "  'registered',\n",
       "  'registered2',\n",
       "  'rigid_transformation.pkl'])"
      ]
     },
     "execution_count": 6,
     "metadata": {},
     "output_type": "execute_result"
    }
   ],
   "source": [
    "working_dir = '/media/jswaney/Drive/Justin/eFLASH/marmoset'\n",
    "fixed_dir = os.path.join(working_dir, 'round1')\n",
    "before_dir = os.path.join(working_dir, 'round2')\n",
    "after_dir = os.path.join(working_dir, 'round2', 'registering 2 to 1')\n",
    "\n",
    "os.listdir(fixed_dir), os.listdir(before_dir), os.listdir(after_dir)"
   ]
  },
  {
   "cell_type": "code",
   "execution_count": 7,
   "metadata": {},
   "outputs": [],
   "source": [
    "output_dir = os.path.join(after_dir, 'registered2_tiffs')\n",
    "\n",
    "conversion.zarr_to_tifs(os.path.join(after_dir, 'registered2', '1_1_1'), \n",
    "                        output_dir, \n",
    "                        nb_workers=4, \n",
    "                        compress=3)"
   ]
  },
  {
   "cell_type": "code",
   "execution_count": null,
   "metadata": {},
   "outputs": [],
   "source": []
  }
 ],
 "metadata": {
  "kernelspec": {
   "display_name": "Python 3",
   "language": "python",
   "name": "python3"
  },
  "language_info": {
   "codemirror_mode": {
    "name": "ipython",
    "version": 3
   },
   "file_extension": ".py",
   "mimetype": "text/x-python",
   "name": "python",
   "nbconvert_exporter": "python",
   "pygments_lexer": "ipython3",
   "version": "3.7.1"
  }
 },
 "nbformat": 4,
 "nbformat_minor": 2
}

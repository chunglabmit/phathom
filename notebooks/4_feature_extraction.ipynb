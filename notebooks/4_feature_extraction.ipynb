{
 "cells": [
  {
   "cell_type": "markdown",
   "metadata": {},
   "source": [
    "# Step 4: Calculate geometric features"
   ]
  },
  {
   "cell_type": "code",
   "execution_count": null,
   "metadata": {},
   "outputs": [],
<<<<<<< HEAD
   "source": [
    "import os\n",
    "from phathom.registration.pcloud import geometric_features"
   ]
  },
  {
   "cell_type": "code",
   "execution_count": null,
   "metadata": {},
   "outputs": [],
   "source": [
    "working_dir = '/home/jswaney/coregistration/'"
   ]
  },
  {
   "cell_type": "code",
   "execution_count": null,
   "metadata": {},
   "outputs": [],
   "source": [
    "# Load blobs\n",
    "fixed_pts_path = project_path + 'fixed_blobs.npy'\n",
    "moving_pts_path = project_path + 'moving_blobs_1200.npy'\n",
    "\n",
    "fixed_pts = np.load(os.path.join(working_dir, fixed_pts_path))\n",
    "moving_pts = np.load(os.path.join(working_dir, moving_pts_path))"
   ]
  },
  {
   "cell_type": "code",
   "execution_count": null,
   "metadata": {},
   "outputs": [],
   "source": [
    "# Convert to micron\n",
    "voxel_size = (2.0, 1.6, 1.6)\n",
    "\n",
    "fixed_pts_um = np.asarray(voxel_size) * fixed_pts\n",
    "moving_pts_um = np.asarray(voxel_size) * moving_pts"
   ]
  },
  {
   "cell_type": "code",
   "execution_count": null,
   "metadata": {},
   "outputs": [],
   "source": [
    "# Calculate geometric features\n",
    "nb_workers = 48\n",
    "\n",
    "fixed_features = pcloud.geometric_features(fixed_pts_um, nb_workers)\n",
    "moving_features = pcloud.geometric_features(moving_pts_um, nb_workers)"
   ]
  },
  {
   "cell_type": "code",
   "execution_count": null,
   "metadata": {},
   "outputs": [],
   "source": [
    "# Save features\n",
    "fixed_features_path = project_path + 'fixed_features.npy'\n",
    "moving_features_path = project_path + 'moving_features.npy'\n",
    "\n",
    "np.save(fixed_features_path, fixed_features)\n",
    "np.save(moving_features_path, moving_features)"
   ]
=======
   "source": []
>>>>>>> refs/remotes/origin/master
  }
 ],
 "metadata": {
  "kernelspec": {
   "display_name": "Python (phathom)",
   "language": "python",
   "name": "phathom"
  },
  "language_info": {
   "codemirror_mode": {
    "name": "ipython",
    "version": 3
   },
   "file_extension": ".py",
   "mimetype": "text/x-python",
   "name": "python",
   "nbconvert_exporter": "python",
   "pygments_lexer": "ipython3",
   "version": "3.5.0"
  }
 },
 "nbformat": 4,
 "nbformat_minor": 2
}

{
 "cells": [
  {
   "cell_type": "markdown",
   "metadata": {},
   "source": [
    "# Step 4: Calculate geometric features"
   ]
  },
  {
   "cell_type": "code",
   "execution_count": 21,
   "metadata": {},
   "outputs": [],
   "source": [
    "import os\n",
    "import numpy as np\n",
    "from phathom.utils import read_voxel_size\n",
    "from phathom.registration.pcloud import geometric_features"
   ]
  },
  {
   "cell_type": "code",
   "execution_count": 22,
   "metadata": {},
   "outputs": [],
   "source": [
    "working_dir = '/home/jswaney/org_registration/'"
   ]
  },
  {
   "cell_type": "code",
   "execution_count": 23,
   "metadata": {},
   "outputs": [
    {
     "data": {
      "text/plain": [
       "(2.052, 1.082, 1.082)"
      ]
     },
     "execution_count": 23,
     "metadata": {},
     "output_type": "execute_result"
    }
   ],
   "source": [
    "voxel_size_path = 'voxel_size.txt'\n",
    "\n",
    "voxel_size = read_voxel_size(os.path.join(working_dir, voxel_size_path))\n",
    "\n",
    "voxel_size"
   ]
  },
  {
   "cell_type": "code",
   "execution_count": 24,
   "metadata": {},
   "outputs": [],
   "source": [
    "# Load blobs\n",
    "fixed_pts_path = 'round1/blobs_coarse.npy'\n",
    "moving_pts_path = 'round2/blobs.npy'\n",
    "\n",
    "fixed_pts = np.load(os.path.join(working_dir, fixed_pts_path))\n",
    "moving_pts = np.load(os.path.join(working_dir, moving_pts_path))"
   ]
  },
  {
   "cell_type": "code",
   "execution_count": 25,
   "metadata": {},
   "outputs": [],
   "source": [
    "# Convert to micron\n",
    "fixed_pts_um = np.asarray(voxel_size) * fixed_pts\n",
    "moving_pts_um = np.asarray(voxel_size) * moving_pts"
   ]
  },
  {
   "cell_type": "code",
   "execution_count": 26,
   "metadata": {},
   "outputs": [],
   "source": [
    "# Calculate geometric features\n",
    "nb_workers = 24\n",
    "\n",
    "fixed_features = geometric_features(fixed_pts_um, nb_workers)\n",
    "moving_features = geometric_features(moving_pts_um, nb_workers)"
   ]
  },
  {
   "cell_type": "code",
   "execution_count": 27,
   "metadata": {},
   "outputs": [],
   "source": [
    "# Save features\n",
    "fixed_features_path = 'round1/features.npy'\n",
    "moving_features_path = 'round2/features.npy'\n",
    "\n",
    "np.save(os.path.join(working_dir, fixed_features_path), \n",
    "        fixed_features)\n",
    "np.save(os.path.join(working_dir, moving_features_path), \n",
    "        moving_features)"
   ]
  },
  {
   "cell_type": "code",
   "execution_count": null,
   "metadata": {},
   "outputs": [],
   "source": []
  }
 ],
 "metadata": {
  "kernelspec": {
   "display_name": "Python (phathom)",
   "language": "python",
   "name": "phathom"
  },
  "language_info": {
   "codemirror_mode": {
    "name": "ipython",
    "version": 3
   },
   "file_extension": ".py",
   "mimetype": "text/x-python",
   "name": "python",
   "nbconvert_exporter": "python",
   "pygments_lexer": "ipython3",
   "version": "3.6.0"
  }
 },
 "nbformat": 4,
 "nbformat_minor": 2
}

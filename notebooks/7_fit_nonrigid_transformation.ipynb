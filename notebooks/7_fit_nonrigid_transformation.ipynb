{
 "cells": [
  {
   "cell_type": "markdown",
   "metadata": {},
   "source": [
    "# Step 7: Fit a nonrigid transformation"
   ]
  },
  {
   "cell_type": "code",
   "execution_count": null,
   "metadata": {},
   "outputs": [],
<<<<<<< HEAD
   "source": [
    "import os\n",
    "from functools import partial\n",
    "from skimage.external import tifffile\n",
    "from phathom.registration import registration as reg\n",
    "from phathom import plotting\n",
    "from phathom import io\n",
    "from phathom.utils import pickle_save"
   ]
  },
  {
   "cell_type": "code",
   "execution_count": null,
   "metadata": {},
   "outputs": [],
   "source": [
    "working_dir = '/home/jswaney/coregistration'\n",
    "voxel_size = (2.0, 1.6, 1.6)"
   ]
  },
  {
   "cell_type": "code",
   "execution_count": null,
   "metadata": {},
   "outputs": [],
   "source": [
    "# Load the affine transformation\n",
    "affine_path = 'affine_transformation.pkl'\n",
    "\n",
    "affine_transformation = pickle_load(os.path.join(working_dir, \n",
    "                                                 affine_path))"
   ]
  },
  {
   "cell_type": "code",
   "execution_count": null,
   "metadata": {},
   "outputs": [],
   "source": [
    "# Load the matching coordinates\n",
    "fixed_keypts_path = 'fixed_keypts.npy'\n",
    "affine_keypts_path = 'affine_keypts.npy'\n",
    "moving_keypts_path = 'moving_keypts.npy'\n",
    "\n",
    "fixed_keypts = np.load(os.path.join(working_dir, fixed_keypts_path))\n",
    "affine_keypts = np.load(os.path.join(working_dir, affine_keypts_path))\n",
    "moving_keypts = np.load(os.path.join(working_dir, moving_keypts_path))"
   ]
  },
  {
   "cell_type": "code",
   "execution_count": null,
   "metadata": {},
   "outputs": [],
   "source": [
    "# Fit the thin-plate spline\n",
    "smooth = 0\n",
    "\n",
    "rbf_z, rbf_y, rbf_x = reg.fit_rbf(affine_keypts, moving_keypts, smooth)"
   ]
  },
  {
   "cell_type": "code",
   "execution_count": null,
   "metadata": {},
   "outputs": [],
   "source": [
    "# Apply the thin-plate spline\n",
    "nonrigid_keypts = reg.rbf_transform(affine_keypts, rbf_z, rbf_y, rbf_x)"
   ]
  },
  {
   "cell_type": "code",
   "execution_count": null,
   "metadata": {},
   "outputs": [],
   "source": [
    "# Convert to um\n",
    "fixed_keypts_um = fixed_keypts * np.asarray(voxel_size)\n",
    "nonrigid_keypts_um = nonrigid_keypts * np.asarray(voxel_size)\n",
    "moving_keypts_um = moving_keypts * np.asarray(voxel_size)"
   ]
  },
  {
   "cell_type": "code",
   "execution_count": null,
   "metadata": {},
   "outputs": [],
   "source": [
    "# Show residuals after thin-plate spline\n",
    "nonrigid_residuals = reg.match_distance(nonrigid_keypts_um,\n",
    "                                        moving_keypts_um)\n",
    "plotting.plot_hist(nonrigid_residuals)\n",
    "print('Nonrigid ave. distance [um]:', nonrigid_residuals.mean())"
   ]
  },
  {
   "cell_type": "code",
   "execution_count": null,
   "metadata": {},
   "outputs": [],
   "source": [
    "# Make a nonrigid mapping from fixed to moving coordinates\n",
    "nonrigid_transform = partial(reg.nonrigid_transform,\n",
    "                             affine_transform=affine_transformation, \n",
    "                             rbf_z=rbf_z, \n",
    "                             rbf_y=rbf_y, \n",
    "                             rbf_x=rbf_x)"
   ]
  },
  {
   "cell_type": "code",
   "execution_count": null,
   "metadata": {},
   "outputs": [],
   "source": [
    "# Open images\n",
    "fixed_zarr_path = 'fixed/zarr_stack/1_1_1'\n",
    "moving_zarr_path = 'moving/zarr_stack/1_1_1'\n",
    "\n",
    "fixed_store = zarr.NestedDirectoryStore(os.path.join(working_dir,\n",
    "                                                     fixed_zarr_path))\n",
    "moving_store = zarr.NestedDirectoryStore(os.path.join(working_dir,\n",
    "                                                      moving_zarr_path))\n",
    "fixed_img = io.zarr.open(fixed_store)\n",
    "moving_img = io.zarr.open(moving_store)"
   ]
  },
  {
   "cell_type": "code",
   "execution_count": null,
   "metadata": {},
   "outputs": [],
   "source": [
    "# Fit a linear grid interpolator\n",
    "nb_pts = 50\n",
    "\n",
    "z = np.linspace(0, fixed_img.shape[0], np_pts)\n",
    "y = np.linspace(0, fixed_img.shape[1], np_pts)\n",
    "x = np.linspace(0, fixed_img.shape[2], np_pts)\n",
    "values = reg.warp_regular_grid(nb_pts, z, y, x, nonrigid_transform)\n",
    "interp = reg.fit_grid_interpolator(z, y, x, values)\n",
    "interpolator = partial(reg.interpolator, interp=interp)"
   ]
  },
  {
   "cell_type": "code",
   "execution_count": null,
   "metadata": {},
   "outputs": [],
   "source": [
    "# Show residuals after interpolator\n",
    "interp_keypts = interpolator(pts=fixed_keypts)\n",
    "interp_keypts_um = interp_keypts * np.asarray(voxel_size)\n",
    "interp_residuals = reg.match_distance(interp_keypts_um,\n",
    "                                      moving_keypts_um)\n",
    "plotting.plot_hist(interp_residuals)\n",
    "print('Interpolator ave. distance [um]:', interp_residuals.mean())"
   ]
  },
  {
   "cell_type": "code",
   "execution_count": null,
   "metadata": {},
   "outputs": [],
   "source": [
    "# Register a single slice to preview the result\n",
    "zslice = 1000\n",
    "batch_size = 10000\n",
    "padding = 4\n",
    "\n",
    "reg_slice = registration.register_slice(moving_img,\n",
    "                                        zslice=zslice,\n",
    "                                        output_shape=fixed_img.shape[1:],\n",
    "                                        transformation=interpolator,\n",
    "                                        batch_size=batch_size,\n",
    "                                        padding=padding)\n",
    "fixed_slice = fixed_img[zslice]"
   ]
  },
  {
   "cell_type": "code",
   "execution_count": null,
   "metadata": {},
   "outputs": [],
   "source": [
    "%matplotlib notebook\n",
    "# Show an overlay of the registered and fixed slices\n",
    "fixed_clim = [0, 2000]\n",
    "reg_clim = [0, 2000]\n",
    "figsize = (8, 8)\n",
    "\n",
    "plotting.plot_overlay(fixed_slice, reg_slice, fixed_clim, reg_clim, figsize)"
   ]
  },
  {
   "cell_type": "code",
   "execution_count": null,
   "metadata": {},
   "outputs": [],
   "source": [
    "# Save the registered and fixed slice\n",
    "fixed_slice_path = 'fixed_slice.tif'\n",
    "reg_slice_path = 'registered_slice_messedup.tif'\n",
    "\n",
    "tifffile.imsave(os.path.join(working_dir, fixed_slice_path), \n",
    "                fixed_slice)\n",
    "tifffile.imsave(os.path.join(working_dir, reg_slice_path), \n",
    "                reg_slice)"
   ]
  },
  {
   "cell_type": "code",
   "execution_count": null,
   "metadata": {},
   "outputs": [],
   "source": [
    "# Save the interpolator\n",
    "interpolator_path = 'interpolator.pkl'\n",
    "\n",
    "pickle_save(os.path.join(working_dir, interpolator_path), interpolator)"
   ]
=======
   "source": []
>>>>>>> refs/remotes/origin/master
  }
 ],
 "metadata": {
  "kernelspec": {
   "display_name": "Python (phathom)",
   "language": "python",
   "name": "phathom"
  },
  "language_info": {
   "codemirror_mode": {
    "name": "ipython",
    "version": 3
   },
   "file_extension": ".py",
   "mimetype": "text/x-python",
   "name": "python",
   "nbconvert_exporter": "python",
   "pygments_lexer": "ipython3",
   "version": "3.5.0"
  }
 },
 "nbformat": 4,
 "nbformat_minor": 2
}

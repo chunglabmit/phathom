{
 "cells": [
  {
   "cell_type": "markdown",
   "metadata": {},
   "source": [
    "# Step 5: Find matches within a search radius"
   ]
  },
  {
   "cell_type": "code",
   "execution_count": 11,
   "metadata": {},
   "outputs": [],
   "source": [
    "from functools import partial\n",
    "import numpy as np\n",
    "import os\n",
    "from phathom.utils import pickle_load\n",
    "from phathom.registration.coarse import rigid_transformation\n",
    "from phathom.registration.pcloud import radius_matching, rotation_matrix"
   ]
  },
  {
   "cell_type": "code",
   "execution_count": 5,
   "metadata": {},
   "outputs": [],
   "source": [
    "working_dir = '/home/jswaney/coregistration/'"
   ]
  },
  {
   "cell_type": "code",
   "execution_count": 6,
   "metadata": {},
   "outputs": [
    {
     "name": "stdout",
     "output_type": "stream",
     "text": [
      "keypoints: (23637704, 3) (21672500, 3)\n"
     ]
    }
   ],
   "source": [
    "# Load blobs\n",
    "fixed_blobs_path = 'fixed/blobs.npy'\n",
    "moving_blobs_path = 'moving/blobs.npy'\n",
    "\n",
    "fixed_blobs = np.load(os.path.join(working_dir, \n",
    "                                   fixed_blobs_path))\n",
    "moving_blobs = np.load(os.path.join(working_dir, \n",
    "                                    moving_blobs_path))\n",
    "print('keypoints:', fixed_blobs.shape, moving_blobs.shape)"
   ]
  },
  {
   "cell_type": "code",
   "execution_count": 7,
   "metadata": {},
   "outputs": [
    {
     "name": "stdout",
     "output_type": "stream",
     "text": [
      "features: (23637704, 6) (21672500, 6)\n"
     ]
    }
   ],
   "source": [
    "# Load features\n",
    "fixed_features_path = 'fixed/features.npy'\n",
    "moving_features_path = 'moving/features.npy'\n",
    "\n",
    "fixed_feat = np.load(os.path.join(working_dir, \n",
    "                                  fixed_features_path))\n",
    "moving_feat = np.load(os.path.join(working_dir, \n",
    "                                   moving_features_path))\n",
    "print('features:', fixed_feat.shape, moving_feat.shape)"
   ]
  },
  {
   "cell_type": "code",
   "execution_count": 8,
   "metadata": {},
   "outputs": [
    {
     "name": "stdout",
     "output_type": "stream",
     "text": [
      "Loaded rigid transformation for original image\n",
      "Rotation (deg): [-160.86788649 -180.         -180.        ]\n",
      "Center (px): [1989.03848673 5334.33099033 3145.78665711]\n",
      "Translation (px): [   2.90338001 -370.8526147  -191.62759004]\n"
     ]
    }
   ],
   "source": [
    "# Load the rigid transformation\n",
    "transformation_path = 'rigid_transformation.pkl'\n",
    "\n",
    "transformation_dict = pickle_load(os.path.join(working_dir, \n",
    "                                               transformation_path))\n",
    "t = transformation_dict['t']\n",
    "center = transformation_dict['center']\n",
    "theta = transformation_dict['theta']\n",
    "print('Loaded rigid transformation for original image')\n",
    "print('Rotation (deg):', theta*180/np.pi)\n",
    "print('Center (px):', center)\n",
    "print('Translation (px):', t)"
   ]
  },
  {
   "cell_type": "code",
   "execution_count": 15,
   "metadata": {},
   "outputs": [],
   "source": [
    "# Roghly align fixed_pts\n",
    "r = rotation_matrix(theta)\n",
    "transformation = partial(rigid_transformation, t=t, r=r, center=center)\n",
    "transformed_pts = transformation(pts=fixed_32cmstblobs)"
   ]
  },
  {
   "cell_type": "code",
   "execution_count": 17,
   "metadata": {},
   "outputs": [
    {
     "name": "stderr",
     "output_type": "stream",
     "text": [
      "                                                                      \r"
     ]
    },
    {
     "name": "stdout",
     "output_type": "stream",
     "text": [
      "Found 112742 matches\n"
     ]
    }
   ],
   "source": [
    "# Match to moving_pts within search radius\n",
    "radius = 180\n",
    "nb_workers = None\n",
    "batch_size = None\n",
    "matching_kwargs = {'max_fdist': 2,\n",
    "                   'prom_thresh': 0.3}\n",
    "\n",
    "idx_fixed, idx_moving = radius_matching(transformed_pts, \n",
    "                                        moving_blobs, \n",
    "                                        fixed_feat, \n",
    "                                        moving_feat, \n",
    "                                        radius, \n",
    "                                        nb_workers, \n",
    "                                        batch_size, \n",
    "                                        matching_kwargs)\n",
    "print('Found {} matches'.format(idx_fixed.shape[0]))"
   ]
  },
  {
   "cell_type": "code",
   "execution_count": 18,
   "metadata": {},
   "outputs": [],
   "source": [
    "# Save matching indices\n",
    "fixed_idx_path = 'fixed/match_idx.npy'\n",
    "moving_idx_path = 'moving/match_idx.npy'\n",
    "\n",
    "np.save(os.path.join(working_dir, fixed_idx_path), idx_fixed)\n",
    "np.save(os.path.join(working_dir, moving_idx_path), idx_moving)"
   ]
  },
  {
   "cell_type": "code",
   "execution_count": null,
   "metadata": {},
   "outputs": [],
   "source": []
  }
 ],
 "metadata": {
  "kernelspec": {
   "display_name": "Python 3",
   "language": "python",
   "name": "python3"
  },
  "language_info": {
   "codemirror_mode": {
    "name": "ipython",
    "version": 3
   },
   "file_extension": ".py",
   "mimetype": "text/x-python",
   "name": "python",
   "nbconvert_exporter": "python",
   "pygments_lexer": "ipython3",
   "version": "3.6.5"
  }
 },
 "nbformat": 4,
 "nbformat_minor": 2
}

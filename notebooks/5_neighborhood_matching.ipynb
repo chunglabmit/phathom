{
 "cells": [
  {
   "cell_type": "markdown",
   "metadata": {},
   "source": [
    "# Step 5: Find matches within a search radius"
   ]
  },
  {
   "cell_type": "code",
   "execution_count": null,
   "metadata": {},
   "outputs": [],
<<<<<<< HEAD
   "source": [
    "from functools import partial\n",
    "import numpy as np\n",
    "from phathom.utils import pickle_load\n",
    "from phathom.registration.coarse import rigid_transformation\n",
    "from phathom.registration.pcloud import radius_matching"
   ]
  },
  {
   "cell_type": "code",
   "execution_count": null,
   "metadata": {},
   "outputs": [],
   "source": [
    "working_dir = '/home/jswaney/coregistration/'"
   ]
  },
  {
   "cell_type": "code",
   "execution_count": null,
   "metadata": {},
   "outputs": [],
   "source": [
    "# Load blobs\n",
    "fixed_blobs_path = 'fixed_blobs.npy'\n",
    "moving_blobs_path = 'moving_blobs_1200.npy'\n",
    "\n",
    "fixed_blobs = np.load(os.path.join(working_dir, \n",
    "                                  fixed_blobs_path)\n",
    "moving_blobs = np.load(os.path.join(working_dir, \n",
    "                                   moving_blobs_path)\n",
    "print('keypoints:', fixed_blobs.shape, moving_blobs.shape)"
   ]
  },
  {
   "cell_type": "code",
   "execution_count": null,
   "metadata": {},
   "outputs": [],
   "source": [
    "# Load features\n",
    "fixed_features_path = 'fixed_features.npy'\n",
    "moving_features_path = 'moving_features_1200.npy'\n",
    "\n",
    "fixed_feat = np.load(os.path.join(working_dir, \n",
    "                                  fixed_features_path)\n",
    "moving_feat = np.load(os.path.join(working_dir, \n",
    "                                   moving_features_path)\n",
    "print('features:', fixed_feat.shape, moving_feat.shape)"
   ]
  },
  {
   "cell_type": "code",
   "execution_count": null,
   "metadata": {},
   "outputs": [],
   "source": [
    "# Load the rigid transformation\n",
    "transformation_path = 'rigid_transformation.pkl'\n",
    "\n",
    "transformation_dict = pickle_load(os.path.join(working_dir, \n",
    "                                               transformation_path))\n",
    "t = transformation_dict['t']\n",
    "center = transformation_dict['center']\n",
    "theta = transformation_dict['theta']\n",
    "print('Loaded rigid transformation for original image')\n",
    "print('Rotation (deg):', theta*180/np.pi)\n",
    "print('Center (px):', center)\n",
    "print('Translation (px):', t)"
   ]
  },
  {
   "cell_type": "code",
   "execution_count": null,
   "metadata": {},
   "outputs": [],
   "source": [
    "# Roghly align fixed_pts\n",
    "r = pcloud.rotation_matrix(theta)\n",
    "transformation = partial(rigid_transformation, t, r, center)\n",
    "transformed_pts = transformation(pts=fixed_pts)"
   ]
  },
  {
   "cell_type": "code",
   "execution_count": null,
   "metadata": {},
   "outputs": [],
   "source": [
    "# Match to moving_pts within search radius\n",
    "radius = 180\n",
    "nb_workers = None\n",
    "batch_size = None\n",
    "matching_kwargs = {'max_fdist': 2,\n",
    "                   'prom_thresh': 0.3}\n",
    "\n",
    "idx_fixed, idx_moving = radius_matching(transformed_pts, \n",
    "                                        moving_pts, \n",
    "                                        fixed_feat, \n",
    "                                        moving_feat, \n",
    "                                        radius, \n",
    "                                        nb_workers, \n",
    "                                        batch_size, \n",
    "                                        matching_kwargs)\n",
    "print('Found {} matches'.format(idx_fixed.shape[0]))"
   ]
  },
  {
   "cell_type": "code",
   "execution_count": null,
   "metadata": {},
   "outputs": [],
   "source": [
    "# Save matching indices\n",
    "fixed_idx_path = 'idx_fixed_180_2fdist.npy'\n",
    "moving_idx_path = 'idx_moving_180_2fdist.npy'\n",
    "\n",
    "np.save(os.path.join(working_dir, fixed_idx_path), idx_fixed)\n",
    "np.save(os.path.join(working_dir, moving_idx_path), idx_moving)"
   ]
=======
   "source": []
>>>>>>> refs/remotes/origin/master
  }
 ],
 "metadata": {
  "kernelspec": {
   "display_name": "Python (phathom)",
   "language": "python",
   "name": "phathom"
  },
  "language_info": {
   "codemirror_mode": {
    "name": "ipython",
    "version": 3
   },
   "file_extension": ".py",
   "mimetype": "text/x-python",
   "name": "python",
   "nbconvert_exporter": "python",
   "pygments_lexer": "ipython3",
   "version": "3.5.0"
  }
 },
 "nbformat": 4,
 "nbformat_minor": 2
}

{
 "cells": [
  {
   "cell_type": "code",
   "execution_count": null,
   "metadata": {},
   "outputs": [],
   "source": [
    "# Run CLAHE and match z-adjacent histograms"
   ]
  },
  {
   "cell_type": "code",
   "execution_count": 13,
   "metadata": {},
   "outputs": [],
   "source": [
    "from phathom.preprocess.filtering import preprocess\n",
    "from phathom.utils import tifs_in_dir, make_dir\n",
    "from phathom.io.conversion import tifs_to_zarr\n",
    "import os\n",
    "import multiprocessing"
   ]
  },
  {
   "cell_type": "code",
   "execution_count": 14,
   "metadata": {},
   "outputs": [],
   "source": [
    "working_dir = '/media/jswaney/Drive/Justin/marmoset'"
   ]
  },
  {
   "cell_type": "code",
   "execution_count": 8,
   "metadata": {},
   "outputs": [],
   "source": [
    "path_to_tifs = '20181206_eF9_A34_2/C1_ij'\n",
    "output_path = '20181206_eF9_A34_2/C1_bm4d_clahe'\n",
    "nb_workers = 12\n",
    "threshold = None\n",
    "kernel_size = 127"
   ]
  },
  {
   "cell_type": "code",
   "execution_count": 9,
   "metadata": {},
   "outputs": [],
   "source": [
    "paths, filenames = tifs_in_dir(os.path.join(working_dir, path_to_tifs))\n",
    "\n",
    "output_abspath = make_dir(os.path.join(working_dir, output_path))\n",
    "\n",
    "args_list = []\n",
    "for path, filename in zip(paths, filenames):\n",
    "    output_path = os.path.join(output_abspath, filename)\n",
    "    args = (path, output_path, threshold, kernel_size)\n",
    "    args_list.append(args)\n",
    "\n",
    "with multiprocessing.Pool(nb_workers) as pool:\n",
    "    pool.starmap(preprocess, args_list)"
   ]
  },
  {
   "cell_type": "code",
   "execution_count": 15,
   "metadata": {},
   "outputs": [],
   "source": [
    "chunks = (64, 64, 64)\n",
    "nb_workers = 4\n",
    "tif_dir = 'round1/syto16_clahe.tiffs'\n",
    "zarr_path = 'round1/syto16.zarr'"
   ]
  },
  {
   "cell_type": "code",
   "execution_count": 16,
   "metadata": {},
   "outputs": [],
   "source": [
    "tifs_to_zarr(os.path.join(working_dir, tif_dir), \n",
    "             os.path.join(working_dir, zarr_path), \n",
    "             chunks, \n",
    "             nb_workers=nb_workers)"
   ]
  },
  {
   "cell_type": "code",
   "execution_count": 17,
   "metadata": {},
   "outputs": [],
   "source": [
    "chunks = (64, 64, 64)\n",
    "nb_workers = 4\n",
    "tif_dir = 'round2/syto16_clahe.tiffs'\n",
    "zarr_path = 'round2/syto16.zarr'"
   ]
  },
  {
   "cell_type": "code",
   "execution_count": 18,
   "metadata": {},
   "outputs": [],
   "source": [
    "tifs_to_zarr(os.path.join(working_dir, tif_dir), \n",
    "             os.path.join(working_dir, zarr_path), \n",
    "             chunks, \n",
    "             nb_workers=nb_workers)"
   ]
  },
  {
   "cell_type": "code",
   "execution_count": null,
   "metadata": {},
   "outputs": [],
   "source": []
  }
 ],
 "metadata": {
  "kernelspec": {
   "display_name": "Python 3",
   "language": "python",
   "name": "python3"
  },
  "language_info": {
   "codemirror_mode": {
    "name": "ipython",
    "version": 3
   },
   "file_extension": ".py",
   "mimetype": "text/x-python",
   "name": "python",
   "nbconvert_exporter": "python",
   "pygments_lexer": "ipython3",
   "version": "3.6.0"
  }
 },
 "nbformat": 4,
 "nbformat_minor": 2
}

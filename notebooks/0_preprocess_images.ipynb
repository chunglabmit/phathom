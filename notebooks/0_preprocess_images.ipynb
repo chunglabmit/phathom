{
 "cells": [
  {
   "cell_type": "code",
   "execution_count": null,
   "metadata": {},
   "outputs": [],
   "source": [
    "# Run CLAHE and match z-adjacent histograms"
   ]
  },
  {
   "cell_type": "code",
   "execution_count": 12,
   "metadata": {},
   "outputs": [],
   "source": [
    "from phathom.preprocess.filtering import preprocess\n",
    "from phathom.utils import tifs_in_dir, make_dir\n",
    "from phathom.io.conversion import tifs_to_zarr\n",
    "import os\n",
    "import multiprocessing"
   ]
  },
  {
   "cell_type": "code",
   "execution_count": 9,
   "metadata": {},
   "outputs": [],
   "source": [
    "path_to_tifs = '/media/jswaney/Drive/Justin/coregistration/whole_brain_tde/fixed/processed_tiffs'\n",
    "output_path = '/media/jswaney/Drive/Justin/coregistration/whole_brain_tde/fixed/processed_tiffs2'\n",
    "nb_workers = 12\n",
    "threshold = 300\n",
    "kernel_size = 127"
   ]
  },
  {
   "cell_type": "code",
   "execution_count": 10,
   "metadata": {},
   "outputs": [],
   "source": [
    "paths, filenames = tifs_in_dir(path_to_tifs)\n",
    "\n",
    "output_abspath = make_dir(output_path)\n",
    "\n",
    "args_list = []\n",
    "for path, filename in zip(paths, filenames):\n",
    "    output_path = os.path.join(output_abspath, filename)\n",
    "    args = (path, output_path, threshold, kernel_size)\n",
    "    args_list.append(args)\n",
    "\n",
    "with multiprocessing.Pool(nb_workers) as pool:\n",
    "    pool.starmap(preprocess, args_list)"
   ]
  },
  {
   "cell_type": "code",
   "execution_count": 11,
   "metadata": {},
   "outputs": [],
   "source": [
    "chunks = (64, 64, 64)\n",
    "nb_workers = 4\n",
    "tif_dir = '/media/jswaney/Drive/Justin/whole_org/tiffs/syto16_processed'\n",
    "zarr_path = '/media/jswaney/Drive/Justin/whole_org/syto16_zarr'"
   ]
  },
  {
   "cell_type": "code",
   "execution_count": 13,
   "metadata": {},
   "outputs": [],
   "source": [
    "tifs_to_zarr(tif_dir, zarr_path, chunks, nb_workers=nb_workers)"
   ]
  },
  {
   "cell_type": "code",
   "execution_count": 17,
   "metadata": {},
   "outputs": [],
   "source": [
    "chunks = (64, 64, 64)\n",
    "nb_workers = 2\n",
    "tif_dir = '/media/jswaney/Drive/Justin/whole_org/tiffs/tubb3_processed'\n",
    "zarr_path = '/media/jswaney/Drive/Justin/whole_org/tubb3_zarr'"
   ]
  },
  {
   "cell_type": "code",
   "execution_count": 18,
   "metadata": {},
   "outputs": [],
   "source": [
    "tifs_to_zarr(tif_dir, zarr_path, chunks, nb_workers=nb_workers)"
   ]
  },
  {
   "cell_type": "code",
   "execution_count": null,
   "metadata": {},
   "outputs": [],
   "source": []
  }
 ],
 "metadata": {
  "kernelspec": {
   "display_name": "Python [conda env:phathom]",
   "language": "python",
   "name": "conda-env-phathom-py"
  },
  "language_info": {
   "codemirror_mode": {
    "name": "ipython",
    "version": 3
   },
   "file_extension": ".py",
   "mimetype": "text/x-python",
   "name": "python",
   "nbconvert_exporter": "python",
   "pygments_lexer": "ipython3",
   "version": "3.5.5"
  }
 },
 "nbformat": 4,
 "nbformat_minor": 2
}

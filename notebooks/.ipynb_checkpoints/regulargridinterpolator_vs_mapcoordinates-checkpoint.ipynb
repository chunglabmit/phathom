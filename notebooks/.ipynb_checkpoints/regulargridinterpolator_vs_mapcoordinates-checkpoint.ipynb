{
 "cells": [
  {
   "cell_type": "code",
   "execution_count": 46,
   "metadata": {},
   "outputs": [],
   "source": [
    "import numpy as np\n",
    "from scipy.ndimage import map_coordinates\n",
    "from scipy.interpolate import RegularGridInterpolator\n",
    "import time"
   ]
  },
  {
   "cell_type": "code",
   "execution_count": 6,
   "metadata": {},
   "outputs": [
    {
     "data": {
      "text/plain": [
       "(100, 100, 100)"
      ]
     },
     "execution_count": 6,
     "metadata": {},
     "output_type": "execute_result"
    }
   ],
   "source": [
    "img_shape = (100, 100, 100)\n",
    "\n",
    "data = np.random.rand(*img_shape)\n",
    "data.shape"
   ]
  },
  {
   "cell_type": "code",
   "execution_count": 36,
   "metadata": {},
   "outputs": [
    {
     "name": "stdout",
     "output_type": "stream",
     "text": [
      "(3, 40000000) (40000000, 3)\n"
     ]
    }
   ],
   "source": [
    "nb_pts = 40000000\n",
    "\n",
    "shape = (nb_pts, 3)\n",
    "idx = np.random.rand(*shape)\n",
    "coords = tuple(idx[:, i]*(data.shape[i]-1) for i in range(idx.shape[-1]))\n",
    "coords = np.asarray(coords)\n",
    "coords2 = coords.T\n",
    "print(coords.shape, coords2.shape)"
   ]
  },
  {
   "cell_type": "code",
   "execution_count": 37,
   "metadata": {},
   "outputs": [],
   "source": [
    "z = np.arange(img_shape[0])\n",
    "y = np.arange(img_shape[1])\n",
    "x = np.arange(img_shape[2])"
   ]
  },
  {
   "cell_type": "code",
   "execution_count": 38,
   "metadata": {},
   "outputs": [],
   "source": [
    "interp = RegularGridInterpolator((z, y, x), data)"
   ]
  },
  {
   "cell_type": "code",
   "execution_count": 47,
   "metadata": {},
   "outputs": [],
   "source": [
    "def timer(f, args, kwargs):\n",
    "    t0 = time.time()\n",
    "    result = f(*args, **kwargs)\n",
    "    t = time.time() - t0\n",
    "    return t, result"
   ]
  },
  {
   "cell_type": "code",
   "execution_count": 52,
   "metadata": {},
   "outputs": [
    {
     "name": "stdout",
     "output_type": "stream",
     "text": [
      "CPU times: user 1min 47s, sys: 18.2 s, total: 2min 6s\n",
      "Wall time: 28.8 s\n"
     ]
    }
   ],
   "source": [
    "%%time\n",
    "values1 = interp(coords.T)"
   ]
  },
  {
   "cell_type": "code",
   "execution_count": 41,
   "metadata": {},
   "outputs": [
    {
     "name": "stdout",
     "output_type": "stream",
     "text": [
      "CPU times: user 6.88 s, sys: 112 ms, total: 6.99 s\n",
      "Wall time: 6.99 s\n"
     ]
    }
   ],
   "source": [
    "%%time\n",
    "values2 = map_coordinates(data, coords, order=1)"
   ]
  },
  {
   "cell_type": "code",
   "execution_count": 42,
   "metadata": {},
   "outputs": [
    {
     "data": {
      "text/plain": [
       "True"
      ]
     },
     "execution_count": 42,
     "metadata": {},
     "output_type": "execute_result"
    }
   ],
   "source": [
    "np.allclose(values1, values2)"
   ]
  },
  {
   "cell_type": "code",
   "execution_count": 48,
   "metadata": {},
   "outputs": [
    {
     "name": "stdout",
     "output_type": "stream",
     "text": [
      "7.2035369873046875\n"
     ]
    }
   ],
   "source": [
    "t, v = timer(map_coordinates, (data, coords), {'order': 1})"
   ]
  },
  {
   "cell_type": "code",
   "execution_count": null,
   "metadata": {},
   "outputs": [],
   "source": [
    "def get_coords(n, bound):\n",
    "    shape = (nb_pts, 3)\n",
    "    idx = np.random.rand(*shape)\n",
    "    coords = tuple(idx[:, i]*(bound[i]-1) for i in range(idx.shape[-1]))\n",
    "    coords = np.asarray(coords)\n",
    "    return coords"
   ]
  },
  {
   "cell_type": "code",
   "execution_count": 51,
   "metadata": {},
   "outputs": [
    {
     "name": "stdout",
     "output_type": "stream",
     "text": [
      "10\n",
      "46\n",
      "215\n",
      "1000\n",
      "4641\n",
      "21544\n",
      "100000\n",
      "464158\n",
      "2154434\n",
      "10000000\n"
     ]
    }
   ],
   "source": [
    "N = np.logspace(1, 7, 10, dtype=np.int)\n",
    "\n",
    "t_list = []\n",
    "for n in N:\n",
    "    "
   ]
  },
  {
   "cell_type": "code",
   "execution_count": null,
   "metadata": {},
   "outputs": [],
   "source": []
  }
 ],
 "metadata": {
  "kernelspec": {
   "display_name": "Python [conda env:phathom]",
   "language": "python",
   "name": "conda-env-phathom-py"
  },
  "language_info": {
   "codemirror_mode": {
    "name": "ipython",
    "version": 3
   },
   "file_extension": ".py",
   "mimetype": "text/x-python",
   "name": "python",
   "nbconvert_exporter": "python",
   "pygments_lexer": "ipython3",
   "version": "3.5.5"
  }
 },
 "nbformat": 4,
 "nbformat_minor": 2
}

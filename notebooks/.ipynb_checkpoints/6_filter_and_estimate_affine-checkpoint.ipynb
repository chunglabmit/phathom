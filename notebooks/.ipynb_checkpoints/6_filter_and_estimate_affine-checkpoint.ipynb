{
 "cells": [
  {
   "cell_type": "markdown",
   "metadata": {},
   "source": [
    "# Step 6: Filter out incoherent matches"
   ]
  },
  {
   "cell_type": "code",
   "execution_count": null,
   "metadata": {},
   "outputs": [],
   "source": [
    "import os\n",
    "from functools import partial\n",
    "import numpy as np\n",
    "from phathom import plotting\n",
    "from phathom.registration import registration as reg\n",
    "from phathom.registration.pcloud import estimate_affine, register_pts\n",
    "from phathom.utils import pickle_save"
   ]
  },
  {
   "cell_type": "code",
   "execution_count": null,
   "metadata": {},
   "outputs": [],
   "source": [
    "working_dir = '/home/jswaney/coregistration'\n",
    "voxel_size = (2.0, 1.6, 1.6)  # z, y, x"
   ]
  },
  {
   "cell_type": "code",
   "execution_count": null,
   "metadata": {},
   "outputs": [],
   "source": [
    "# Load blobs\n",
    "fixed_pts_path = 'fixed_blobs.npy'\n",
    "moving_pts_path = 'moving_blobs_1200.npy'\n",
    "\n",
    "fixed_pts = np.load(os.path.join(working_dir, fixed_pts_path))\n",
    "moving_pts = np.load(os.path.join(working_dirmoving_pts_path)\n",
    "print('keypoints:', fixed_pts.shape, moving_pts.shape)"
   ]
  },
  {
   "cell_type": "code",
   "execution_count": null,
   "metadata": {},
   "outputs": [],
   "source": [
    "# Load matches\n",
    "idx_fixed_path = 'idx_fixed_180_2fdist.npy'\n",
    "idx_moving_path = 'idx_moving_180_2fdist.npy'\n",
    "\n",
    "idx_fixed = np.load(os.path.join(working_dir, idx_fixed_path))\n",
    "idx_moving = np.load(os.path.joing(working_dir, idx_moving_path))\n",
    "print('# matches loaded:', idx_fixed.shape[0])"
   ]
  },
  {
   "cell_type": "code",
   "execution_count": null,
   "metadata": {},
   "outputs": [],
   "source": [
    "# Extract matching coordinates\n",
    "fixed_keypts = fixed_pts[idx_fixed]\n",
    "moving_keypts = moving_pts[idx_moving]"
   ]
  },
  {
   "cell_type": "code",
   "execution_count": null,
   "metadata": {},
   "outputs": [],
   "source": [
    "# Convert to um\n",
    "fixed_keypts_um = fixed_keypts * np.asarray(voxel_size)\n",
    "moving_keypts_um = moving_keypts * np.asarray(voxel_size)"
   ]
  },
  {
   "cell_type": "code",
   "execution_count": null,
   "metadata": {},
   "outputs": [],
   "source": [
    "# Show starting coordinate similarity\n",
    "plotting.plot_correspondence(fixed_keypts_um, moving_keypts_um)"
   ]
  },
  {
   "cell_type": "code",
   "execution_count": null,
   "metadata": {},
   "outputs": [],
   "source": [
    "# Show starting residuals\n",
    "starting_residuals = reg.match_distance(fixed_keypts_um,\n",
    "                                        moving_keypts_um)\n",
    "plotting.plot_hist(starting_residuals)\n",
    "print('Starting ave. distance [um]:', starting_residuals.mean())"
   ]
  },
  {
   "cell_type": "code",
   "execution_count": null,
   "metadata": {},
   "outputs": [],
   "source": [
    "# Use RANSAC to estimate affine transformation\n",
    "resid_thresh = None\n",
    "min_samples = 30\n",
    "\n",
    "ransac, ransac_inliers = estimate_affine(fixed_keypts_um,\n",
    "                                         moving_keypts_um,\n",
    "                                         'ransac',\n",
    "                                         min_samples,\n",
    "                                         resid_thresh)"
   ]
  },
  {
   "cell_type": "code",
   "execution_count": null,
   "metadata": {},
   "outputs": [],
   "source": [
    "# Apply affine transformation\n",
    "ransac_keypts_um = register_pts(fixed_keypts_um, ransac)"
   ]
  },
  {
   "cell_type": "code",
   "execution_count": null,
   "metadata": {},
   "outputs": [],
   "source": [
    "# Show ransac coordinate similarity\n",
    "plotting.plot_correspondence(ransac_keypts_um, moving_keypts_um)"
   ]
  },
  {
   "cell_type": "code",
   "execution_count": null,
   "metadata": {},
   "outputs": [],
   "source": [
    "# Show residuals after ransac\n",
    "ransac_residuals = reg.match_distance(ransac_keypts_um,\n",
    "                                      moving_keypts_um)\n",
    "plotting.plot_hist(ransac_residuals)\n",
    "print('RANSAC ave. distance [um]:', ransac_residuals.mean())"
   ]
  },
  {
   "cell_type": "code",
   "execution_count": null,
   "metadata": {},
   "outputs": [],
   "source": [
    "# Filter on distance\n",
    "max_distance = 80\n",
    "\n",
    "inlier_idx = np.where(nonrigid_residuals < max_distance)\n",
    "fixed_keypts_dist = fixed_keypts[inlier_idx]\n",
    "moving_keypts_dist = moving_keypts[inlier_idx]\n",
    "fixed_keypts_dist_um = fixed_keypts_um[inlier_idx]\n",
    "moving_keypts_dist_um = moving_keypts_um[inlier_idx]"
   ]
  },
  {
   "cell_type": "code",
   "execution_count": null,
   "metadata": {},
   "outputs": [],
   "source": [
    "# Use sklearn for faster affine transformation, without outliers\n",
    "degree = 1\n",
    "\n",
    "model = reg.fit_polynomial_transform(fixed_keypts_dist,\n",
    "                                     moving_keypts_dist,\n",
    "                                     degree)\n",
    "model_z, model_y, model_x = model\n",
    "affine_transformation = partial(reg.polynomial_transform, \n",
    "                                degree=degree,\n",
    "                                model_z=model_z, \n",
    "                                model_y=model_y,\n",
    "                                model_x=model_x)"
   ]
  },
  {
   "cell_type": "code",
   "execution_count": null,
   "metadata": {},
   "outputs": [],
   "source": [
    "# Transform the fixed keypoints in pixel units\n",
    "affine_keypts = affine_transformation(pts=fixed_keypts)\n",
    "affine_keypts_dist = affine_keypts[inlier_idx]"
   ]
  },
  {
   "cell_type": "code",
   "execution_count": null,
   "metadata": {},
   "outputs": [],
   "source": [
    "# Convert to micron\n",
    "affine_keypts_um = affine_keypts * np.asarray(voxel_size)\n",
    "affine_keypts_dist_um = affine_keypts_um[inlier_idx]"
   ]
  },
  {
   "cell_type": "code",
   "execution_count": null,
   "metadata": {},
   "outputs": [],
   "source": [
    "# Show affine coordinate similarity\n",
    "plotting.plot_correspondence(affine_keypts_um, moving_keypts_um)"
   ]
  },
  {
   "cell_type": "code",
   "execution_count": null,
   "metadata": {},
   "outputs": [],
   "source": [
    "# Show residuals after affine\n",
    "affine_residuals = reg.match_distance(affine_keypts_um,\n",
    "                                      moving_keypts_um)\n",
    "plotting.plot_hist(affine_residuals)\n",
    "print('Affine ave. distance [um]:', affine_residuals.mean())"
   ]
  },
  {
   "cell_type": "code",
   "execution_count": null,
   "metadata": {},
   "outputs": [],
   "source": [
    "# Calculate displacement coherence\n",
    "n_neighbors = 3\n",
    "\n",
    "coherences = reg.coherence(n_neighbors, \n",
    "                           affine_keypts_dist_um, \n",
    "                           moving_keypts_dist_um)\n",
    "plotting.plot_hist(coherences, bins=512, xlim=[0, 0.8], ylim=[0, 400])\n",
    "print('Average coherence: {}'.format(coherences.mean()))"
   ]
  },
  {
   "cell_type": "code",
   "execution_count": null,
   "metadata": {},
   "outputs": [],
   "source": [
    "# Filter out incoherent matches\n",
    "min_coherence = 0.98\n",
    "\n",
    "coherent_idx = np.where(coherence > min_coherence)\n",
    "print('Found {} outliers'.format(len(coherence)-len(coherent_idx[0])))\n",
    "\n",
    "fixed_keypts_coherent = fixed_keypts_dist[coherent_idx]\n",
    "affine_keypts_coherent = affine_keypts_dist[coherent_idx]\n",
    "moving_keypts_coherent = moving_keypts_dist[coherent_idx]\n",
    "\n",
    "fixed_keypts_coherent_um = fixed_keypts__dist_um[coherent_idx]\n",
    "affine_keypts_coherent_um = affine_keypts_dist_um[coherent_idx]\n",
    "moving_keypts_coherent_um = moving_keypts__dist_um[coherent_idx]"
   ]
  },
  {
   "cell_type": "code",
   "execution_count": null,
   "metadata": {},
   "outputs": [],
   "source": [
    "# Plot filtered matches\n",
    "plotting.plot_pts(affine_keypts_coherent_um,\n",
    "                  moving_keypts_coherent_um,\n",
    "                  0.05,\n",
    "                  affine_keypts_coherent_um,\n",
    "                  moving_keypts_coherent_um)"
   ]
  },
  {
   "cell_type": "code",
   "execution_count": null,
   "metadata": {},
   "outputs": [],
   "source": [
    "# Save the affine transformation\n",
    "affine_path = 'affine_transformation.pkl'\n",
    "\n",
    "pickle_save(os.path.join(working_dir, affine_path), \n",
    "            affine_transformation)"
   ]
  },
  {
   "cell_type": "code",
   "execution_count": null,
   "metadata": {},
   "outputs": [],
   "source": [
    "# Save the filtered match coordinates\n",
    "fixed_keypts_path = 'fixed_keypts.npy'\n",
    "affine_keypts_path = 'affine_keypts.npy'\n",
    "moving_keypts_path = 'moving_keypts.npy'\n",
    "\n",
    "np.save(os.path.join(working_dir, fixed_keypts_path), \n",
    "        fixed_keypts_coherent)\n",
    "np.save(os.path.join(working_dir, affine_keypts_path), \n",
    "        affine_keypts_coherent)\n",
    "np.save(os.path.join(working_dir, moving_keypts_path), \n",
    "        moving_keypts_coherent)"
   ]
  }
 ],
 "metadata": {
  "kernelspec": {
   "display_name": "Python (phathom)",
   "language": "python",
   "name": "phathom"
  },
  "language_info": {
   "codemirror_mode": {
    "name": "ipython",
    "version": 3
   },
   "file_extension": ".py",
   "mimetype": "text/x-python",
   "name": "python",
   "nbconvert_exporter": "python",
   "pygments_lexer": "ipython3",
   "version": "3.5.0"
  }
 },
 "nbformat": 4,
 "nbformat_minor": 2
}

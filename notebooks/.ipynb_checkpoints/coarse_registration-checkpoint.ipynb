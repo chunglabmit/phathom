{
 "cells": [
  {
   "cell_type": "code",
   "execution_count": 1,
   "metadata": {},
   "outputs": [
    {
     "data": {
      "text/html": [
       "<a href=\"http://127.0.0.1:40127/v/a8c3ad274f58e3566c1f8e6d740dff4e1313d544/\" target=\"_blank\">Viewer</a>"
      ],
      "text/plain": [
       "http://127.0.0.1:40127/v/a8c3ad274f58e3566c1f8e6d740dff4e1313d544/"
      ]
     },
     "execution_count": 1,
     "metadata": {},
     "output_type": "execute_result"
    }
   ],
   "source": [
    "import neuroglancer\n",
    "# Use this in IPython to allow external viewing\n",
    "# neuroglancer.set_server_bind_address(bind_address='192.168.158.128',\n",
    "#                                      bind_port=80)\n",
    "from nuggt.utils import ngutils\n",
    "\n",
    "viewer = neuroglancer.Viewer()\n",
    "viewer"
   ]
  },
  {
   "cell_type": "code",
   "execution_count": 1,
   "metadata": {},
   "outputs": [
    {
     "name": "stdout",
     "output_type": "stream",
     "text": [
      "(4506, 12374, 7337)\n",
      "(4058, 12385, 7310)\n"
     ]
    }
   ],
   "source": [
    "import numpy as np\n",
    "import zarr\n",
    "import os\n",
    "\n",
    "working_dir = '/media/jswaney/Drive/Justin/coregistration/whole_brain_tde'\n",
    "\n",
    "fixed_path = 'fixed/zarr_uint16'\n",
    "moving_path = 'moving/zarr_uint16'\n",
    "\n",
    "fixed_store = zarr.NestedDirectoryStore(os.path.join(working_dir, fixed_path))\n",
    "moving_store = zarr.NestedDirectoryStore(os.path.join(working_dir, moving_path))\n",
    "\n",
    "fixed_img = zarr.open(fixed_store, mode='r')\n",
    "moving_img = zarr.open(moving_store, mode='r')\n",
    "\n",
    "print(fixed_img.shape)\n",
    "print(moving_img.shape)"
   ]
  },
  {
   "cell_type": "code",
   "execution_count": 3,
   "metadata": {},
   "outputs": [],
   "source": [
    "normalization = 2000\n",
    "\n",
    "def plot_image(img, viewer, layer, shader):\n",
    "    with viewer.txn() as txn:\n",
    "        source = neuroglancer.LocalVolume(img.astype(np.float32))\n",
    "        txn.layers[layer] = neuroglancer.ImageLayer(source=source, shader=shader)\n",
    "\n",
    "def plot_fixed(fixed_img, viewer):\n",
    "    fixed_shader = ngutils.red_shader % (1 / normalization)\n",
    "    plot_image(fixed_img, viewer, 'fixed', fixed_shader)\n",
    "    \n",
    "def plot_moving(moving_img, viewer):\n",
    "    moving_shader = ngutils.green_shader % (1 / normalization)\n",
    "    plot_image(moving_img, viewer, 'moving', moving_shader)\n",
    "    \n",
    "def plot_both(fixed_img, moving_img, viewer):\n",
    "    plot_fixed(fixed_img, viewer)\n",
    "    plot_moving(moving_img, viewer)\n",
    "    \n",
    "plot_both(fixed_img, moving_img, viewer)"
   ]
  },
  {
   "cell_type": "markdown",
   "metadata": {},
   "source": [
    "# Downsampling"
   ]
  },
  {
   "cell_type": "code",
   "execution_count": 2,
   "metadata": {},
   "outputs": [
    {
     "name": "stderr",
     "output_type": "stream",
     "text": [
      "/home/jswaney/anaconda3/envs/phathom/lib/python3.5/site-packages/h5py/__init__.py:36: FutureWarning: Conversion of the second argument of issubdtype from `float` to `np.floating` is deprecated. In future, it will be treated as `np.float64 == np.dtype(float).type`.\n",
      "  from ._conv import register_converters as _register_converters\n"
     ]
    }
   ],
   "source": [
    "from phathom.io.zarr import downsample_zarr"
   ]
  },
  {
   "cell_type": "code",
   "execution_count": null,
   "metadata": {},
   "outputs": [
    {
     "name": "stderr",
     "output_type": "stream",
     "text": [
      "  0%|          | 1792/360064 [00:45<2:30:59, 39.55it/s]"
     ]
    }
   ],
   "source": [
    "factors = (8, 8, 8)\n",
    "output_path = os.path.join(working_dir, 'moving/zarr_down8')\n",
    "nb_workers = 1\n",
    "\n",
    "downsample_zarr(moving_img, factors, output_path, nb_workers)"
   ]
  },
  {
   "cell_type": "code",
   "execution_count": 4,
   "metadata": {},
   "outputs": [],
   "source": [
    "from skimage.measure import block_reduce\n",
    "\n",
    "factors = (10, 10, 10)\n",
    "\n",
    "def downsample_mean(img, factors):\n",
    "    return block_reduce(img, factors, np.mean, 0)\n",
    "\n",
    "def downsample_max(img, factors):\n",
    "    return block_reduce(img, factors, np.max, 0)\n",
    "\n",
    "fixed_downsample = downsample_mean(fixed_img, factors)\n",
    "moving_downsample = downsample_mean(moving_img, factors)\n",
    "\n",
    "plot_both(fixed_downsample, moving_downsample, viewer)"
   ]
  },
  {
   "cell_type": "markdown",
   "metadata": {},
   "source": [
    "# Gaussian smoothing"
   ]
  },
  {
   "cell_type": "code",
   "execution_count": 10,
   "metadata": {},
   "outputs": [],
   "source": [
    "from skimage.filters import gaussian\n",
    "\n",
    "sigma = 1.0\n",
    "\n",
    "fixed_smooth = gaussian(fixed_downsample, sigma, preserve_range=True)\n",
    "moving_smooth = gaussian(moving_downsample, sigma, preserve_range=True)\n",
    "\n",
    "plot_both(fixed_smooth, moving_smooth, viewer)"
   ]
  },
  {
   "cell_type": "markdown",
   "metadata": {},
   "source": [
    "# Destriping"
   ]
  },
  {
   "cell_type": "code",
   "execution_count": 11,
   "metadata": {},
   "outputs": [
    {
     "name": "stderr",
     "output_type": "stream",
     "text": [
      "100%|██████████| 6/6 [00:00<00:00, 870.73it/s]\n",
      "100%|██████████| 7/7 [00:00<00:00, 151.45it/s]\n",
      "9it [00:00, 1582.42it/s]             \n",
      "9it [00:00, 14855.86it/s]            \n"
     ]
    }
   ],
   "source": [
    "import pystripe\n",
    "import multiprocessing\n",
    "import tqdm\n",
    "\n",
    "bandwidth = [64, 64]\n",
    "wavelet = 'db4'\n",
    "\n",
    "def _filter_streaks(img):\n",
    "    return pystripe.filter_streaks(img, sigma=bandwidth, wavelet=wavelet)\n",
    "\n",
    "with multiprocessing.Pool(12) as pool:\n",
    "    rf = list(tqdm.tqdm(pool.imap(_filter_streaks, fixed_smooth), total=len(fixed_smooth)))\n",
    "    rm = list(tqdm.tqdm(pool.imap(_filter_streaks, moving_smooth), total=len(moving_smooth)))\n",
    "\n",
    "fixed_destripe = np.array(rf).T\n",
    "moving_destripe = np.array(rm).T\n",
    "\n",
    "with multiprocessing.Pool(12) as pool:\n",
    "    rf = list(tqdm.tqdm(pool.imap(_filter_streaks, fixed_destripe), total=len(fixed_smooth)))\n",
    "    rm = list(tqdm.tqdm(pool.imap(_filter_streaks, moving_destripe), total=len(moving_smooth)))\n",
    "\n",
    "fixed_destripe = np.array(rf).T\n",
    "moving_destripe = np.array(rm).T\n",
    "    \n",
    "plot_both(fixed_destripe, moving_destripe, viewer)"
   ]
  },
  {
   "cell_type": "markdown",
   "metadata": {},
   "source": [
    "# Rigid transformation"
   ]
  },
  {
   "cell_type": "code",
   "execution_count": 12,
   "metadata": {},
   "outputs": [
    {
     "name": "stderr",
     "output_type": "stream",
     "text": [
      "/home/jswaney/anaconda3/envs/phathom/lib/python3.5/site-packages/h5py/__init__.py:36: FutureWarning: Conversion of the second argument of issubdtype from `float` to `np.floating` is deprecated. In future, it will be treated as `np.float64 == np.dtype(float).type`.\n",
      "  from ._conv import register_converters as _register_converters\n"
     ]
    }
   ],
   "source": [
    "from phathom.registration import coarse, pcloud\n",
    "from phathom import utils\n",
    "from scipy.ndimage import map_coordinates\n",
    "\n",
    "t = np.array([0, 0, 0])\n",
    "thetas = np.array([np.pi/4, 0, 0])\n",
    "\n",
    "def rigid_warp(img, t, thetas, center, output_shape):\n",
    "    r = pcloud.rotation_matrix(thetas)\n",
    "    idx = np.indices(output_shape)\n",
    "    pts = np.reshape(idx, (idx.shape[0], idx.size//idx.shape[0])).T\n",
    "    warped_pts = coarse.rigid_transformation(t, r, pts, center)\n",
    "    interp_values = map_coordinates(img, warped_pts.T)\n",
    "    transformed = np.reshape(interp_values, output_shape)\n",
    "    return transformed\n",
    "\n",
    "transformed = rigid_warp(fixed_img, t, thetas, np.zeros(3), moving_img.shape)\n",
    "\n",
    "plot_fixed(transformed, viewer)"
   ]
  },
  {
   "cell_type": "code",
   "execution_count": 24,
   "metadata": {},
   "outputs": [
    {
     "name": "stdout",
     "output_type": "stream",
     "text": [
      "[25.03411834 53.90004765 43.91989229]\n",
      "[29.90676412 56.61492163 42.61590589]\n"
     ]
    }
   ],
   "source": [
    "from scipy.ndimage.measurements import center_of_mass\n",
    "\n",
    "def center_mass(img):\n",
    "    return np.asarray(center_of_mass(img))\n",
    "\n",
    "fixed_com = center_mass(fixed_img)\n",
    "moving_com = center_mass(moving_img)\n",
    "\n",
    "print(fixed_com)\n",
    "print(moving_com)"
   ]
  },
  {
   "cell_type": "markdown",
   "metadata": {},
   "source": [
    "# Optimization"
   ]
  },
  {
   "cell_type": "code",
   "execution_count": 28,
   "metadata": {},
   "outputs": [],
   "source": [
    "def ncc(fixed, transformed, nonzero=False):\n",
    "    if nonzero:\n",
    "        idx = np.where(transformed)\n",
    "        a = fixed[idx]\n",
    "        b = transformed[idx]\n",
    "    else:\n",
    "        a = fixed\n",
    "        b = transformed\n",
    "    return np.sum((a-a.mean())*(b-b.mean())/((a.size-1)*a.std()*b.std()))\n",
    "\n",
    "def ssd(fixed, transformed):\n",
    "    return np.mean((fixed-transformed)**2)\n",
    "\n",
    "def registration_objective(x, fixed_img, moving_img, t):\n",
    "    transformed_img = rigid_warp(fixed_img, \n",
    "                                 t=t, \n",
    "                                 thetas=x,\n",
    "                                 center=fixed_com,\n",
    "                                 output_shape=moving_img.shape)\n",
    "    return ssd(moving_img, transformed_img)\n",
    "\n",
    "def callback(x, f, accept):\n",
    "    pass"
   ]
  },
  {
   "cell_type": "code",
   "execution_count": 86,
   "metadata": {
    "scrolled": true
   },
   "outputs": [
    {
     "name": "stdout",
     "output_type": "stream",
     "text": [
      "basinhopping step 0: f -0.580548\n",
      "basinhopping step 1: f -0.584613 trial_f -0.584613 accepted 1  lowest_f -0.584613\n",
      "found new global minimum on step 1 with function value -0.584613\n",
      "basinhopping step 2: f -0.584613 trial_f -0.454478 accepted 0  lowest_f -0.584613\n",
      "basinhopping step 3: f -0.580548 trial_f -0.580548 accepted 1  lowest_f -0.584613\n",
      "basinhopping step 4: f -0.584938 trial_f -0.584938 accepted 1  lowest_f -0.584938\n",
      "found new global minimum on step 4 with function value -0.584938\n",
      "                        fun: -0.5849382125048649\n",
      " lowest_optimization_result:       fun: -0.5849382125048649\n",
      " hess_inv: <3x3 LbfgsInvHessProduct with dtype=float64>\n",
      "      jac: array([0.00121516, 0.16166298, 0.02240939])\n",
      "  message: b'CONVERGENCE: REL_REDUCTION_OF_F_<=_FACTR*EPSMCH'\n",
      "     nfev: 20\n",
      "      nit: 4\n",
      "   status: 0\n",
      "  success: True\n",
      "        x: array([0.00256195, 0.        , 0.24721074])\n",
      "                    message: ['requested number of basinhopping iterations completed successfully']\n",
      "      minimization_failures: 0\n",
      "                       nfev: 76\n",
      "                        nit: 4\n",
      "                          x: array([0.00256195, 0.        , 0.24721074])\n"
     ]
    }
   ],
   "source": [
    "from scipy.optimize import basinhopping\n",
    "\n",
    "niter = 4\n",
    "\n",
    "t_star = moving_com-fixed_com\n",
    "bounds = [(0, np.pi/2) for _ in range(3)]\n",
    "\n",
    "res = basinhopping(registration_objective,\n",
    "                       x0=np.zeros(3),\n",
    "                       niter=niter,\n",
    "                       T=1.0,\n",
    "                       stepsize=1.0,\n",
    "                       interval=5,\n",
    "                       minimizer_kwargs={\n",
    "                           'method': 'L-BFGS-B',\n",
    "#                            'method': 'Nelder-Mead',\n",
    "                           'args': (fixed_smooth, \n",
    "                                    moving_smooth, \n",
    "                                    t_star),\n",
    "                           'bounds': bounds,\n",
    "                           'tol': 0.01,\n",
    "                           'options': {'disp': False}\n",
    "                       },\n",
    "                       disp=True)\n",
    "\n",
    "theta_star = res.x\n",
    "print(res)"
   ]
  },
  {
   "cell_type": "code",
   "execution_count": 87,
   "metadata": {},
   "outputs": [],
   "source": [
    "registered = rigid_warp(fixed_smooth, t_star, theta_star, fixed_com, moving_destripe.shape)\n",
    "\n",
    "plot_fixed(registered, viewer)"
   ]
  },
  {
   "cell_type": "markdown",
   "metadata": {},
   "source": [
    "# Contour"
   ]
  },
  {
   "cell_type": "code",
   "execution_count": 128,
   "metadata": {},
   "outputs": [
    {
     "data": {
      "image/png": "[encoded data removed]",
      "text/plain": [
       "<Figure size 432x288 with 1 Axes>"
      ]
     },
     "metadata": {},
     "output_type": "display_data"
    },
    {
     "data": {
      "image/png": "[encoded data removed]",
      "text/plain": [
       "<Figure size 432x288 with 1 Axes>"
      ]
     },
     "metadata": {},
     "output_type": "display_data"
    }
   ],
   "source": [
    "import matplotlib.pyplot as plt\n",
    "\n",
    "plt.hist(fixed_downsample.ravel(), bins=100)\n",
    "plt.xlim([0, 500])\n",
    "plt.show()\n",
    "\n",
    "plt.hist(moving_downsample.ravel(), bins=100)\n",
    "plt.xlim([0, 500])\n",
    "plt.show()"
   ]
  },
  {
   "cell_type": "code",
   "execution_count": 22,
   "metadata": {},
   "outputs": [],
   "source": [
    "threshold = 200\n",
    "\n",
    "fixed_mask = fixed_img > threshold\n",
    "moving_mask = moving_img > threshold\n",
    "\n",
    "plot_both(1000*fixed_mask, 1000*moving_mask, viewer)"
   ]
  },
  {
   "cell_type": "markdown",
   "metadata": {},
   "source": [
    "# Convex hull"
   ]
  },
  {
   "cell_type": "code",
   "execution_count": 19,
   "metadata": {},
   "outputs": [
    {
     "name": "stderr",
     "output_type": "stream",
     "text": [
      "100%|██████████| 60/60 [00:00<00:00, 413.72it/s]\n",
      "100%|██████████| 64/64 [00:00<00:00, 443.02it/s]\n"
     ]
    }
   ],
   "source": [
    "from skimage.morphology import convex_hull_image\n",
    "\n",
    "fixed_hull = np.zeros_like(fixed_mask)\n",
    "\n",
    "for i, f in enumerate(tqdm.tqdm(fixed_mask)):\n",
    "    if not np.all(f == 0):\n",
    "        fixed_hull[i] = convex_hull_image(f)\n",
    "\n",
    "moving_hull = np.zeros_like(moving_mask)\n",
    "        \n",
    "for i, m in enumerate(tqdm.tqdm(moving_mask)):\n",
    "    if not np.all(m == 0):\n",
    "        moving_hull[i] = convex_hull_image(m)\n",
    "\n",
    "plot_both(1000*fixed_hull, 1000*moving_hull, viewer)"
   ]
  },
  {
   "cell_type": "code",
   "execution_count": 36,
   "metadata": {},
   "outputs": [],
   "source": [
    "from scipy.ndimage.morphology import distance_transform_edt\n",
    "\n",
    "fixed_distance = distance_transform_edt(fixed_mask)\n",
    "moving_distance = distance_transform_edt(moving_mask)\n",
    "\n",
    "plot_both(100*fixed_distance, 100*moving_distance, viewer)"
   ]
  },
  {
   "cell_type": "code",
   "execution_count": 43,
   "metadata": {
    "scrolled": true
   },
   "outputs": [
    {
     "name": "stdout",
     "output_type": "stream",
     "text": [
      "                        fun: 0.5437810933156467\n",
      " lowest_optimization_result:       fun: 0.5437810933156467\n",
      " hess_inv: <6x6 LbfgsInvHessProduct with dtype=float64>\n",
      "      jac: array([-1.60067626e-02, -3.68219455e-02, -1.40379930e-03,  1.67784120e-02,\n",
      "        2.34368234e+00,  7.24821092e-02])\n",
      "  message: b'CONVERGENCE: REL_REDUCTION_OF_F_<=_FACTR*EPSMCH'\n",
      "     nfev: 112\n",
      "      nit: 10\n",
      "   status: 0\n",
      "  success: True\n",
      "        x: array([-5.64787159, -6.16261404,  2.01413291,  0.15468104,  0.        ,\n",
      "        0.        ])\n",
      "                    message: ['requested number of basinhopping iterations completed successfully']\n",
      "      minimization_failures: 0\n",
      "                       nfev: 931\n",
      "                        nit: 10\n",
      "                          x: array([-5.64787159, -6.16261404,  2.01413291,  0.15468104,  0.        ,\n",
      "        0.        ])\n"
     ]
    }
   ],
   "source": [
    "niter = 10\n",
    "\n",
    "from scipy.optimize import basinhopping\n",
    "\n",
    "fixed_com = center_mass(fixed_img)\n",
    "moving_com = center_mass(moving_img)\n",
    "\n",
    "t0 = moving_com-fixed_com\n",
    "bounds = [(-s, s) for s in moving_hull.shape]+[(0, 2*np.pi) for _ in range(3)]\n",
    "\n",
    "def registration_objective(x, fixed_img, moving_img):\n",
    "    transformed_img = rigid_warp(fixed_img, \n",
    "                                 t=x[:3], \n",
    "                                 thetas=x[3:],\n",
    "                                 center=fixed_com,\n",
    "                                 output_shape=moving_img.shape)\n",
    "    return ssd(moving_img, transformed_img)\n",
    "\n",
    "def callback(x, f, accept):\n",
    "    print(x)\n",
    "\n",
    "# res = basinhopping(registration_objective,\n",
    "#                        x0=np.concatenate((t0, np.zeros(3))),\n",
    "#                        niter=niter,\n",
    "#                        T=0.5,\n",
    "#                        stepsize=0.5,\n",
    "#                        interval=5,\n",
    "#                        minimizer_kwargs={\n",
    "#                            'method': 'L-BFGS-B',\n",
    "#                            'args': (fixed_distance, \n",
    "#                                     moving_distance),\n",
    "#                            'bounds': bounds,\n",
    "#                            'tol': 0.001,\n",
    "#                            'options': {'disp': False}\n",
    "#                        },\n",
    "#                        callback=callback,\n",
    "#                        disp=True)\n",
    "\n",
    "t_star = res.x[:3]\n",
    "theta_star = res.x[3:]\n",
    "print(res)\n",
    "\n",
    "reg_distance = rigid_warp(fixed_distance, t_star, theta_star, fixed_com, moving_hull.shape)\n",
    "\n",
    "plot_fixed(100*reg_distance, viewer)"
   ]
  },
  {
   "cell_type": "markdown",
   "metadata": {},
   "source": [
    "Sum of squared differences seems to provide slightly better registration than Normalized cross-correlation in the case of distance transformed convex hulls. This might be because NCC is indifferent to intensity difference and only considers correlations in the intensities, whereas SSD will penalize for any difference in intensity. In a multi-modal setting, this is usually not desired, but since we are dealing with the same brain in both images, the overall shape (and therefore distance transforms) should take similar values (not just correlated).\n",
    "\n",
    "Also, it was necessary to include the translation component in the optimization procedure because our center of mass estimate for the center of rotation is not accurate. This causes the optimization for our rigid transformation to be partially constrained to inaccurate values, making it hard to converge to a rotation"
   ]
  },
  {
   "cell_type": "markdown",
   "metadata": {},
   "source": [
    "# Coarse Registration"
   ]
  },
  {
   "cell_type": "code",
   "execution_count": 44,
   "metadata": {},
   "outputs": [],
   "source": [
    "registered = rigid_warp(fixed_img, t_star, theta_star, fixed_com, moving_img.shape)\n",
    "\n",
    "plot_both(registered, moving_img, viewer)"
   ]
  },
  {
   "cell_type": "markdown",
   "metadata": {},
   "source": [
    "We need to convert the downsampled transformation into an approprate transformation for the original resolution image. The rotation matrix is scale invariant, but we need to make sure the center of rotation and translation are upsampled by the same amount that we downsampled"
   ]
  },
  {
   "cell_type": "code",
   "execution_count": 224,
   "metadata": {
    "scrolled": true
   },
   "outputs": [
    {
     "name": "stdout",
     "output_type": "stream",
     "text": [
      "Converged rigid transformation for downsampled image\n",
      "Rotation (deg): [8.8504357  0.         0.33946629]\n",
      "Center (px): [15.25629845 35.8288206  27.41352436]\n",
      "Translation (px): [-3.35849976 -3.66652947  0.84083039]\n"
     ]
    }
   ],
   "source": [
    "print('Converged rigid transformation for downsampled image')\n",
    "print('Rotation (deg):', theta_star*180/np.pi)\n",
    "print('Center (px):', fixed_com)\n",
    "print('Translation (px):', t_star)"
   ]
  },
  {
   "cell_type": "code",
   "execution_count": 225,
   "metadata": {},
   "outputs": [
    {
     "name": "stdout",
     "output_type": "stream",
     "text": [
      "Converged rigid transformation for original image\n",
      "Rotation (deg): [8.8504357  0.         0.33946629]\n",
      "Center (px): [152.5629845  358.28820598 274.13524363]\n",
      "Translation (px): [-33.58499759 -36.66529471   8.4083039 ]\n"
     ]
    }
   ],
   "source": [
    "theta = theta_star\n",
    "center = fixed_com * np.asarray(factors)\n",
    "t = t_star * np.asarray(factors)\n",
    "\n",
    "print('Converged rigid transformation for original image')\n",
    "print('Rotation (deg):', theta*180/np.pi)\n",
    "print('Center (px):', center)\n",
    "print('Translation (px):', t)"
   ]
  },
  {
   "cell_type": "code",
   "execution_count": 226,
   "metadata": {},
   "outputs": [],
   "source": [
    "plot_both(fixed_img, moving_img, viewer)"
   ]
  },
  {
   "cell_type": "code",
   "execution_count": 228,
   "metadata": {},
   "outputs": [],
   "source": [
    "registered = rigid_warp(fixed_img, t, theta, center, moving_img.shape)\n",
    "\n",
    "plot_fixed(registered, viewer)"
   ]
  },
  {
   "cell_type": "code",
   "execution_count": null,
   "metadata": {},
   "outputs": [],
   "source": []
  }
 ],
 "metadata": {
  "kernelspec": {
   "display_name": "Python [conda env:phathom]",
   "language": "python",
   "name": "conda-env-phathom-py"
  },
  "language_info": {
   "codemirror_mode": {
    "name": "ipython",
    "version": 3
   },
   "file_extension": ".py",
   "mimetype": "text/x-python",
   "name": "python",
   "nbconvert_exporter": "python",
   "pygments_lexer": "ipython3",
   "version": "3.5.5"
  }
 },
 "nbformat": 4,
 "nbformat_minor": 2
}

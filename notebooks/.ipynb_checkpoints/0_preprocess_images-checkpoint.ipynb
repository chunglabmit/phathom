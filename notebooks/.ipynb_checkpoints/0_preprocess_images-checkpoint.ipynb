{
 "cells": [
  {
   "cell_type": "code",
   "execution_count": null,
   "metadata": {},
   "outputs": [],
   "source": [
    "# Run CLAHE and match z-adjacent histograms"
   ]
  },
  {
   "cell_type": "code",
   "execution_count": 1,
   "metadata": {},
   "outputs": [],
   "source": [
    "from phathom.preprocess.filtering import preprocess\n",
    "from phathom.utils import tifs_in_dir, make_dir\n",
    "from phathom.io.conversion import tifs_to_zarr\n",
    "import os\n",
    "import multiprocessing"
   ]
  },
  {
   "cell_type": "code",
   "execution_count": 2,
   "metadata": {},
   "outputs": [],
   "source": [
    "path_to_tifs = '/media/jswaney/Drive/Justin/coregistration/gabi_pv/pvtdtomato_tiffs'\n",
    "output_path = '/media/jswaney/Drive/Justin/coregistration/gabi_pv/pvtdtomato_tiffs_clahe'\n",
    "nb_workers = 12\n",
    "threshold = None\n",
    "kernel_size = 127"
   ]
  },
  {
   "cell_type": "code",
   "execution_count": null,
   "metadata": {},
   "outputs": [],
   "source": [
    "paths, filenames = tifs_in_dir(path_to_tifs)\n",
    "\n",
    "output_abspath = make_dir(output_path)\n",
    "\n",
    "args_list = []\n",
    "for path, filename in zip(paths, filenames):\n",
    "    output_path = os.path.join(output_abspath, filename)\n",
    "    args = (path, output_path, threshold, kernel_size)\n",
    "    args_list.append(args)\n",
    "\n",
    "with multiprocessing.Pool(nb_workers) as pool:\n",
    "    pool.starmap(preprocess, args_list)"
   ]
  },
  {
   "cell_type": "code",
   "execution_count": 6,
   "metadata": {},
   "outputs": [],
   "source": [
    "chunks = (64, 64, 64)\n",
    "nb_workers = 4\n",
    "tif_dir = '/media/jswaney/Drive/Justin/coregistration/gabi_pv/syto16_tiffs_processed2'\n",
    "zarr_path = '/media/jswaney/Drive/Justin/coregistration/gabi_pv/syto16_zarr'"
   ]
  },
  {
   "cell_type": "code",
   "execution_count": 7,
   "metadata": {},
   "outputs": [],
   "source": [
    "tifs_to_zarr(tif_dir, zarr_path, chunks, nb_workers=nb_workers)"
   ]
  },
  {
   "cell_type": "code",
   "execution_count": 8,
   "metadata": {},
   "outputs": [],
   "source": [
    "chunks = (64, 64, 64)\n",
    "nb_workers = 4\n",
    "tif_dir = '/media/jswaney/Drive/Justin/coregistration/gabi_pv/endogenous_pv_tiffs_processed2'\n",
    "zarr_path = '/media/jswaney/Drive/Justin/coregistration/gabi_pv/endogenous_pv_zarr'"
   ]
  },
  {
   "cell_type": "code",
   "execution_count": 9,
   "metadata": {},
   "outputs": [],
   "source": [
    "tifs_to_zarr(tif_dir, zarr_path, chunks, nb_workers=nb_workers)"
   ]
  },
  {
   "cell_type": "code",
   "execution_count": null,
   "metadata": {},
   "outputs": [],
   "source": []
  }
 ],
 "metadata": {
  "kernelspec": {
   "display_name": "Python [conda env:phathom]",
   "language": "python",
   "name": "conda-env-phathom-py"
  },
  "language_info": {
   "codemirror_mode": {
    "name": "ipython",
    "version": 3
   },
   "file_extension": ".py",
   "mimetype": "text/x-python",
   "name": "python",
   "nbconvert_exporter": "python",
   "pygments_lexer": "ipython3",
   "version": "3.6.5"
  }
 },
 "nbformat": 4,
 "nbformat_minor": 2
}

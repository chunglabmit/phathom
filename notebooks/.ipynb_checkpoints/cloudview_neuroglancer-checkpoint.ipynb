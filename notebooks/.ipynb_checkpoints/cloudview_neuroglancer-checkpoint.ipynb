{
 "cells": [
  {
   "cell_type": "code",
   "execution_count": 3,
   "metadata": {},
   "outputs": [
    {
     "name": "stdout",
     "output_type": "stream",
     "text": [
      "(128, 256, 256) uint16\n"
     ]
    }
   ],
   "source": [
    "from skimage.external import tifffile\n",
    "from cloudvolume import CloudVolume\n",
    "\n",
    "img_path = '/home/jswaney/Desktop/syto16.tif'\n",
    "\n",
    "img = tifffile.imread(img_path)\n",
    "\n",
    "print(img.shape, img.dtype)"
   ]
  },
  {
   "cell_type": "code",
   "execution_count": 5,
   "metadata": {},
   "outputs": [
    {
     "name": "stderr",
     "output_type": "stream",
     "text": [
      "\n",
      "\n",
      "Rechunking image:   0%|          | 0/256 [00:00<?, ?it/s]\u001b[A\u001b[A\n",
      "\n",
      "Rechunking image:   7%|▋         | 17/256 [00:00<00:01, 154.27it/s]\u001b[A\u001b[A\n",
      "\n",
      "Rechunking image:  13%|█▎        | 33/256 [00:00<00:01, 154.39it/s]\u001b[A\u001b[A\n",
      "\n",
      "Rechunking image:  18%|█▊        | 45/256 [00:00<00:01, 143.73it/s]\u001b[A\u001b[A\n",
      "\n",
      "Rechunking image:  24%|██▍       | 61/256 [00:00<00:01, 145.08it/s]\u001b[A\u001b[A\n",
      "\n",
      "Rechunking image:  29%|██▊       | 73/256 [00:00<00:01, 136.64it/s]\u001b[A\u001b[A\n",
      "\n",
      "Rechunking image:  33%|███▎      | 84/256 [00:00<00:01, 130.59it/s]\u001b[A\u001b[A\n",
      "\n",
      "Rechunking image:  39%|███▊      | 99/256 [00:00<00:01, 130.96it/s]\u001b[A\u001b[A\n",
      "\n",
      "Rechunking image:  45%|████▍     | 115/256 [00:00<00:01, 134.28it/s]\u001b[A\u001b[A\n",
      "\n",
      "Rechunking image:  52%|█████▏    | 133/256 [00:00<00:00, 138.84it/s]\u001b[A\u001b[A\n",
      "\n",
      "Rechunking image:  60%|█████▉    | 153/256 [00:01<00:00, 142.84it/s]\u001b[A\u001b[A\n",
      "\n",
      "Rechunking image:  67%|██████▋   | 172/256 [00:01<00:00, 147.77it/s]\u001b[A\u001b[A\n",
      "\n",
      "Rechunking image:  74%|███████▍  | 189/256 [00:01<00:00, 140.92it/s]\u001b[A\u001b[A\n",
      "\n",
      "Rechunking image:  80%|███████▉  | 204/256 [00:01<00:00, 138.36it/s]\u001b[A\u001b[A\n",
      "\n",
      "Rechunking image:  85%|████████▌ | 218/256 [00:01<00:00, 138.65it/s]\u001b[A\u001b[A\n",
      "\n",
      "Rechunking image:  92%|█████████▏| 235/256 [00:01<00:00, 140.47it/s]\u001b[A\u001b[A\n",
      "\n",
      "Rechunking image:  99%|█████████▉| 253/256 [00:01<00:00, 142.50it/s]\u001b[A\u001b[A\n",
      "\n",
      "Rechunking image: 100%|██████████| 256/256 [00:01<00:00, 142.04it/s]\u001b[A\u001b[A\n",
      "\n",
      "Uploading:   0%|          | 0/256 [00:00<?, ?it/s]\u001b[A\u001b[A\n",
      "\n",
      "\u001b[A\u001b[A"
     ]
    }
   ],
   "source": [
    "import numpy as np\n",
    "\n",
    "cv_path = 'file:///home/jswaney/Desktop/syto16_gzip'\n",
    "\n",
    "info = CloudVolume.create_new_info(\n",
    "    num_channels    = 1,\n",
    "    layer_type      = 'image',\n",
    "    data_type       = 'uint16',\n",
    "    encoding        = 'raw',\n",
    "    resolution      = [2000, 1600, 1600], # nanometers\n",
    "    voxel_offset    = [0, 0, 0], # x,y,z offset in voxels from the origin\n",
    "    mesh            = 'mesh',\n",
    "    chunk_size      = [32, 32, 32], # voxels\n",
    "    volume_size     = [256, 256, 128], # e.g. a cubic millimeter dataset\n",
    ")\n",
    "\n",
    "vol = CloudVolume(cv_path, info=info, compress=None)\n",
    "vol.commit_info()\n",
    "\n",
    "img_xyz = np.zeros((img.shape[2], img.shape[1], img.shape[0]), dtype=img.dtype)\n",
    "for z, data in enumerate(img):\n",
    "    img_xyz[:,:,z] = data.T\n",
    "\n",
    "vol[:,:,:] = img_xyz"
   ]
  },
  {
   "cell_type": "code",
   "execution_count": 1,
   "metadata": {},
   "outputs": [
    {
     "data": {
      "text/html": [
       "<a href=\"http://127.0.0.1:35075/v/f3eb8e5d484ccd8e37429aeac8305fcd7d863b55/\" target=\"_blank\">Viewer</a>"
      ],
      "text/plain": [
       "http://127.0.0.1:35075/v/f3eb8e5d484ccd8e37429aeac8305fcd7d863b55/"
      ]
     },
     "execution_count": 1,
     "metadata": {},
     "output_type": "execute_result"
    }
   ],
   "source": [
    "import neuroglancer\n",
    "\n",
    "viewer = neuroglancer.Viewer()\n",
    "viewer"
   ]
  },
  {
   "cell_type": "code",
   "execution_count": 2,
   "metadata": {},
   "outputs": [],
   "source": [
    "source = 'precomputed://http://127.0.0.1:9000'\n",
    "with viewer.txn() as s:\n",
    "    s.layers['image'] = neuroglancer.ImageLayer(source=source)"
   ]
  },
  {
   "cell_type": "code",
   "execution_count": null,
   "metadata": {},
   "outputs": [],
   "source": []
  }
 ],
 "metadata": {
  "kernelspec": {
   "display_name": "Python [conda env:phathom]",
   "language": "python",
   "name": "conda-env-phathom-py"
  },
  "language_info": {
   "codemirror_mode": {
    "name": "ipython",
    "version": 3
   },
   "file_extension": ".py",
   "mimetype": "text/x-python",
   "name": "python",
   "nbconvert_exporter": "python",
   "pygments_lexer": "ipython3",
   "version": "3.5.5"
  }
 },
 "nbformat": 4,
 "nbformat_minor": 2
}

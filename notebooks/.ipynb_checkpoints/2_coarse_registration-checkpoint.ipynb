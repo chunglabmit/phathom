{
 "cells": [
  {
   "cell_type": "markdown",
   "metadata": {},
   "source": [
    "# Step 2: Perform coarse rigid registration"
   ]
  },
  {
   "cell_type": "code",
   "execution_count": 1,
   "metadata": {},
   "outputs": [],
   "source": [
    "import neuroglancer\n",
    "from phathom import plotting\n",
    "import zarr\n",
    "import os\n",
    "import matplotlib.pyplot as plt\n",
    "import numpy as np\n",
    "from phathom.registration import coarse\n",
    "from phathom.utils import pickle_save"
   ]
  },
  {
   "cell_type": "code",
   "execution_count": 2,
   "metadata": {},
   "outputs": [
    {
     "data": {
      "text/html": [
       "<a href=\"http://127.0.0.1:40066/v/eef18c4ae840e8485bc0c8f6c54e3bb600710fcd/\" target=\"_blank\">Viewer</a>"
      ],
      "text/plain": [
       "http://127.0.0.1:40066/v/eef18c4ae840e8485bc0c8f6c54e3bb600710fcd/"
      ]
     },
     "execution_count": 2,
     "metadata": {},
     "output_type": "execute_result"
    }
   ],
   "source": [
    "viewer = neuroglancer.Viewer()\n",
    "viewer"
   ]
  },
  {
   "cell_type": "markdown",
   "metadata": {},
   "source": [
    "Use this in IPython to allow external viewing (from VM)\n",
    "```\n",
    "neuroglancer.set_server_bind_address(bind_address='192.168.158.128', bind_port=80)\n",
    "```"
   ]
  },
  {
   "cell_type": "code",
   "execution_count": 3,
   "metadata": {},
   "outputs": [],
   "source": [
    "working_dir = '/home/jswaney/org_registration'"
   ]
  },
  {
   "cell_type": "code",
   "execution_count": 4,
   "metadata": {},
   "outputs": [
    {
     "name": "stdout",
     "output_type": "stream",
     "text": [
      "Downsampled shapes: (19, 74, 89) (19, 73, 75)\n"
     ]
    }
   ],
   "source": [
    "fixed_path = 'round1/syto16.zarr/32_32_32'\n",
    "moving_path = 'round2/syto16.zarr/32_32_32'\n",
    "fixed_voxel_size = (1, 1, 2)\n",
    "moving_voxel_size = (1, 1, 2)\n",
    "downsample_factor = 16\n",
    "\n",
    "fixed_store = zarr.NestedDirectoryStore(os.path.join(working_dir, \n",
    "                                                     fixed_path))\n",
    "moving_store = zarr.NestedDirectoryStore(os.path.join(working_dir,\n",
    "                                                      moving_path))\n",
    "\n",
    "fixed_down = zarr.load(fixed_store)\n",
    "moving_down = zarr.load(moving_store)\n",
    "\n",
    "print('Downsampled shapes:', fixed_down.shape, moving_down.shape)\n",
    "\n",
    "plotting.plot_both(fixed_down, \n",
    "                   moving_down, \n",
    "                   viewer, \n",
    "                   normalization=3000,\n",
    "                   fixed_voxel_size=tuple(x*downsample_factor for x in fixed_voxel_size),\n",
    "                   moving_voxel_size=tuple(x*downsample_factor for x in fixed_voxel_size))"
   ]
  },
  {
   "cell_type": "markdown",
   "metadata": {},
   "source": [
    "# Set a threshold for tissue foreground"
   ]
  },
  {
   "cell_type": "code",
   "execution_count": 12,
   "metadata": {},
   "outputs": [
    {
     "data": {
      "image/png": "[encoded data removed]",
      "text/plain": [
       "<matplotlib.figure.Figure at 0x7f5046ca7630>"
      ]
     },
     "metadata": {
      "needs_background": "light"
     },
     "output_type": "display_data"
    },
    {
     "data": {
      "image/png": "[encoded data removed]",
      "text/plain": [
       "<matplotlib.figure.Figure at 0x7f50440e77b8>"
      ]
     },
     "metadata": {
      "needs_background": "light"
     },
     "output_type": "display_data"
    }
   ],
   "source": [
    "threshold = 1000\n",
    "\n",
    "bins = 256\n",
    "xmax = 2e3\n",
    "ymax = 2000\n",
    "\n",
    "plt.hist(fixed_down.ravel(), bins, alpha=0.5, label='fixed')\n",
    "plt.hist(moving_down.ravel(), bins, alpha=0.5, label='moving')\n",
    "plt.plot([threshold, threshold], [0, ymax], 'r-')\n",
    "plt.xlim([0, xmax])\n",
    "plt.ylim([0, ymax])\n",
    "plt.legend()\n",
    "plt.show()\n",
    "\n",
    "fixed_mask = (fixed_down > threshold)\n",
    "moving_mask = (moving_down > threshold)\n",
    "\n",
    "plt.figure(figsize=(12, 8))\n",
    "plt.imshow(fixed_mask[fixed_mask.shape[0] // 2], alpha=0.5, cmap='Reds')\n",
    "plt.imshow(moving_mask[moving_mask.shape[0] // 2], alpha=0.5, cmap='Greens')\n",
    "plt.legend()\n",
    "plt.show()"
   ]
  },
  {
   "cell_type": "code",
   "execution_count": 13,
   "metadata": {},
   "outputs": [
    {
     "name": "stdout",
     "output_type": "stream",
     "text": [
      "basinhopping step 0: f 0.185014\n",
      "basinhopping step 1: f 0.182029 trial_f 0.182029 accepted 1  lowest_f 0.182029\n",
      "found new global minimum on step 1 with function value 0.182029\n",
      "basinhopping step 2: f 0.180653 trial_f 0.180653 accepted 1  lowest_f 0.180653\n",
      "found new global minimum on step 2 with function value 0.180653\n",
      "basinhopping step 3: f 0.182267 trial_f 0.182267 accepted 1  lowest_f 0.180653\n",
      "basinhopping step 4: f 0.184125 trial_f 0.184125 accepted 1  lowest_f 0.180653\n",
      "adaptive stepsize: acceptance rate 0.800000 target 0.500000 new stepsize 0.111111 old stepsize 0.1\n",
      "basinhopping step 5: f 0.182756 trial_f 0.182756 accepted 1  lowest_f 0.180653\n",
      "basinhopping step 6: f 0.182005 trial_f 0.182005 accepted 1  lowest_f 0.180653\n",
      "basinhopping step 7: f 0.180655 trial_f 0.180655 accepted 1  lowest_f 0.180653\n",
      "basinhopping step 8: f 0.178829 trial_f 0.178829 accepted 1  lowest_f 0.178829\n",
      "found new global minimum on step 8 with function value 0.178829\n",
      "basinhopping step 9: f 0.181622 trial_f 0.181622 accepted 1  lowest_f 0.178829\n",
      "adaptive stepsize: acceptance rate 0.900000 target 0.500000 new stepsize 0.123457 old stepsize 0.111111\n",
      "basinhopping step 10: f 0.181031 trial_f 0.181031 accepted 1  lowest_f 0.178829\n"
     ]
    }
   ],
   "source": [
    "optim_kwargs = {'niter': 10,\n",
    "                't0': np.zeros(3),\n",
    "                'theta0': np.array([0, 0, np.pi]),\n",
    "                's0': 1}\n",
    "min_size = 5\n",
    "use_hull = False\n",
    "\n",
    "t_down, theta, center_down, s = coarse.coarse_registration(moving_down, \n",
    "                                                        fixed_down, \n",
    "                                                        threshold,\n",
    "                                                        optim_kwargs,\n",
    "                                                        min_size=min_size,\n",
    "                                                        use_hull=use_hull)"
   ]
  },
  {
   "cell_type": "markdown",
   "metadata": {},
   "source": [
    "# Warp downsampled image"
   ]
  },
  {
   "cell_type": "code",
   "execution_count": 14,
   "metadata": {},
   "outputs": [
    {
     "data": {
      "text/plain": [
       "0.91060705592231006"
      ]
     },
     "execution_count": 14,
     "metadata": {},
     "output_type": "execute_result"
    }
   ],
   "source": [
    "s"
   ]
  },
  {
   "cell_type": "code",
   "execution_count": 15,
   "metadata": {},
   "outputs": [],
   "source": [
    "registered_down = coarse.rigid_warp(moving_down, \n",
    "                                    t_down, \n",
    "                                    theta,\n",
    "                                    s,\n",
    "                                    center_down, \n",
    "                                    fixed_down.shape)\n",
    "\n",
    "plotting.plot_both(fixed_down, \n",
    "                   registered_down, \n",
    "                   viewer, \n",
    "                   normalization=3000,\n",
    "                   fixed_voxel_size=tuple(x*downsample_factor for x in fixed_voxel_size),\n",
    "                   moving_voxel_size=tuple(x*downsample_factor for x in fixed_voxel_size))"
   ]
  },
  {
   "cell_type": "markdown",
   "metadata": {},
   "source": [
    "# Convert to fullres transformation"
   ]
  },
  {
   "cell_type": "code",
   "execution_count": 19,
   "metadata": {},
   "outputs": [
    {
     "name": "stdout",
     "output_type": "stream",
     "text": [
      "Fullres: [  24.24411203  -55.5794457  -253.94595048] [  247.65819329  1121.17414496  1059.80450192] [ 27.70162517  29.06559278  29.05757347]\n",
      "(578, 2362, 2840)\n",
      "(19, 74, 89)\n"
     ]
    }
   ],
   "source": [
    "fixed_fullres_path = 'round1/syto16.zarr/1_1_1'\n",
    "moving_fullres_path = 'round2/syto16.zarr/1_1_1'\n",
    "\n",
    "fixed_fullres_store = zarr.NestedDirectoryStore(os.path.join(working_dir, \n",
    "                                                             fixed_fullres_path))\n",
    "moving_fullres_store = zarr.NestedDirectoryStore(os.path.join(working_dir,\n",
    "                                                              moving_fullres_path))\n",
    "fixed_img = zarr.open(fixed_fullres_store, mode='r')\n",
    "moving_img = zarr.open(moving_fullres_store, mode='r')\n",
    "\n",
    "true_factors = np.array(fixed_img.shape) / np.array(fixed_down.shape)\n",
    "t, center = coarse._scale_rigid_params(t_down, \n",
    "                                          center_down,\n",
    "                                          true_factors)\n",
    "\n",
    "print('Fullres:', t, center)\n",
    "print(fixed_img.shape)\n",
    "print(fixed_down.shape)"
   ]
  },
  {
   "cell_type": "markdown",
   "metadata": {},
   "source": [
    "# Save the fullres transformation"
   ]
  },
  {
   "cell_type": "code",
   "execution_count": 12,
   "metadata": {},
   "outputs": [],
   "source": [
    "rigid_path = 'rigid_transformation.pkl'\n",
    "\n",
    "transformation_dict = {'t': t,\n",
    "                       'theta': theta,\n",
    "                       'center': center,\n",
    "                       's': s}\n",
    "\n",
    "pickle_save(os.path.join(working_dir, rigid_path), transformation_dict)"
   ]
  },
  {
   "cell_type": "code",
   "execution_count": null,
   "metadata": {},
   "outputs": [],
   "source": []
  }
 ],
 "metadata": {
  "kernelspec": {
   "display_name": "Python 3",
   "language": "python",
   "name": "python3"
  },
  "language_info": {
   "codemirror_mode": {
    "name": "ipython",
    "version": 3
   },
   "file_extension": ".py",
   "mimetype": "text/x-python",
   "name": "python",
   "nbconvert_exporter": "python",
   "pygments_lexer": "ipython3",
   "version": "3.6.0"
  }
 },
 "nbformat": 4,
 "nbformat_minor": 2
}

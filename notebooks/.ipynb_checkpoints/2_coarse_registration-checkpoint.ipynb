{
<<<<<<< HEAD
 "cells": [
  {
   "cell_type": "markdown",
   "metadata": {},
   "source": [
    "# Step 2: Perform coarse rigid registration"
   ]
  },
  {
   "cell_type": "code",
   "execution_count": 1,
   "metadata": {},
   "outputs": [],
   "source": [
    "import neuroglancer\n",
    "from phathom import plotting\n",
    "import zarr\n",
    "import os\n",
    "import matplotlib.pyplot as plt\n",
    "import numpy as np\n",
    "from phathom.registration import coarse\n",
    "from phathom.utils import pickle_save"
   ]
  },
  {
   "cell_type": "code",
   "execution_count": 2,
   "metadata": {},
   "outputs": [
    {
     "data": {
      "text/html": [
       "<a href=\"http://127.0.0.1:33355/v/edf46912e91631385a155f474baf0fc27b4481b0/\" target=\"_blank\">Viewer</a>"
      ],
      "text/plain": [
       "http://127.0.0.1:33355/v/edf46912e91631385a155f474baf0fc27b4481b0/"
      ]
     },
     "execution_count": 2,
     "metadata": {},
     "output_type": "execute_result"
    }
   ],
   "source": [
    "viewer = neuroglancer.Viewer()\n",
    "viewer"
   ]
  },
  {
   "cell_type": "markdown",
   "metadata": {},
   "source": [
    "Use this in IPython to allow external viewing (from VM)\n",
    "```\n",
    "neuroglancer.set_server_bind_address(bind_address='192.168.158.128', bind_port=80)\n",
    "```"
   ]
  },
  {
   "cell_type": "code",
   "execution_count": 3,
   "metadata": {},
   "outputs": [],
   "source": [
    "working_dir = '/home/jswaney/coregistration'"
   ]
  },
  {
   "cell_type": "code",
   "execution_count": 4,
   "metadata": {},
   "outputs": [
    {
     "name": "stdout",
     "output_type": "stream",
     "text": [
      "Downsampled shapes: (71, 194, 115) (64, 194, 115)\n"
     ]
    }
   ],
   "source": [
    "fixed_path = 'fixed/zarr_stack/64_64_64'\n",
    "moving_path = 'moving/zarr_stack/64_64_64'\n",
    "\n",
    "fixed_store = zarr.NestedDirectoryStore(os.path.join(working_dir, \n",
    "                                                     fixed_path))\n",
    "moving_store = zarr.NestedDirectoryStore(os.path.join(working_dir,\n",
    "                                                      moving_path))\n",
    "\n",
    "fixed_down = zarr.load(fixed_store)\n",
    "moving_down = zarr.load(moving_store)\n",
    "\n",
    "print('Downsampled shapes:', fixed_down.shape, moving_down.shape)\n",
    "\n",
    "plotting.plot_both(fixed_down, moving_down, viewer, normalization=1000)"
   ]
  },
  {
   "cell_type": "markdown",
   "metadata": {},
   "source": [
    "# Set a threshold for tissue foreground"
   ]
  },
  {
   "cell_type": "code",
   "execution_count": 5,
   "metadata": {},
   "outputs": [
    {
     "data": {
      "image/png": "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\n",
      "text/plain": [
       "<Figure size 432x288 with 1 Axes>"
      ]
     },
     "metadata": {},
     "output_type": "display_data"
    },
    {
     "data": {
      "image/png": "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\n",
      "text/plain": [
       "<Figure size 864x576 with 1 Axes>"
      ]
     },
     "metadata": {},
     "output_type": "display_data"
    }
   ],
   "source": [
    "threshold = 250\n",
    "\n",
    "bins = 256\n",
    "xmax = 2e3\n",
    "ymax = 5e4\n",
    "\n",
    "plt.hist(fixed_down.ravel(), bins, alpha=0.5)\n",
    "plt.hist(moving_down.ravel(), bins, alpha=0.5)\n",
    "plt.plot([threshold, threshold], [0, ymax], 'r-')\n",
    "plt.xlim([0, xmax])\n",
    "plt.ylim([0, ymax])\n",
    "plt.show()\n",
    "\n",
    "fixed_mask = (fixed_down > threshold)\n",
    "moving_mask = (moving_down > threshold)\n",
    "\n",
    "plt.figure(figsize=(12, 8))\n",
    "plt.imshow(fixed_mask[fixed_mask.shape[0] // 2], alpha=0.5, cmap='Reds')\n",
    "plt.imshow(moving_mask[moving_mask.shape[0] // 2], alpha=0.5, cmap='Greens')\n",
    "plt.show()"
   ]
  },
  {
   "cell_type": "code",
   "execution_count": 9,
   "metadata": {},
   "outputs": [
    {
     "name": "stdout",
     "output_type": "stream",
     "text": [
      "basinhopping step 0: f 0.528181\n",
      "basinhopping step 1: f 0.604992 trial_f 0.604992 accepted 1  lowest_f 0.528181\n",
      "basinhopping step 2: f 0.569272 trial_f 0.569272 accepted 1  lowest_f 0.528181\n",
      "basinhopping step 3: f 0.552324 trial_f 0.552324 accepted 1  lowest_f 0.528181\n",
      "basinhopping step 4: f 0.604443 trial_f 0.604443 accepted 1  lowest_f 0.528181\n",
      "adaptive stepsize: acceptance rate 0.800000 target 0.500000 new stepsize 1.11111 old stepsize 1\n",
      "basinhopping step 5: f 0.523507 trial_f 0.523507 accepted 1  lowest_f 0.523507\n",
      "found new global minimum on step 5 with function value 0.523507\n",
      "basinhopping step 6: f 0.579947 trial_f 0.579947 accepted 1  lowest_f 0.523507\n",
      "basinhopping step 7: f 0.547939 trial_f 0.547939 accepted 1  lowest_f 0.523507\n",
      "basinhopping step 8: f 0.517242 trial_f 0.517242 accepted 1  lowest_f 0.517242\n",
      "found new global minimum on step 8 with function value 0.517242\n",
      "basinhopping step 9: f 0.520123 trial_f 0.520123 accepted 1  lowest_f 0.517242\n",
      "adaptive stepsize: acceptance rate 0.900000 target 0.500000 new stepsize 1.23457 old stepsize 1.11111\n",
      "basinhopping step 10: f 0.65808 trial_f 0.65808 accepted 1  lowest_f 0.517242\n"
     ]
    }
   ],
   "source": [
    "optim_kwargs = {'niter': 10,\n",
    "                't0': np.zeros(3),\n",
    "                'theta0': np.zeros(3)}\n",
    "min_size = 10\n",
    "use_hull = False\n",
    "\n",
    "t_down, theta, center_down = coarse.coarse_registration(moving_down, \n",
    "                                                        fixed_down, \n",
    "                                                        threshold,\n",
    "                                                        optim_kwargs,\n",
    "                                                        min_size=min_size,\n",
    "                                                        use_hull=use_hull)"
   ]
  },
  {
   "cell_type": "markdown",
   "metadata": {},
   "source": [
    "# Warp"
   ]
  },
  {
   "cell_type": "code",
   "execution_count": 10,
   "metadata": {},
   "outputs": [],
   "source": [
    "registered_down = coarse.rigid_warp(moving_down, \n",
    "                                    t_down, \n",
    "                                    theta, \n",
    "                                    center_down, \n",
    "                                    fixed_down.shape)\n",
    "\n",
    "plotting.plot_both(fixed_down, \n",
    "                   registered_down, \n",
    "                   viewer, \n",
    "                   normalization=2000)"
   ]
  },
  {
   "cell_type": "markdown",
   "metadata": {},
   "source": [
    "# Convert to fullres transformation"
   ]
  },
  {
   "cell_type": "code",
   "execution_count": 11,
   "metadata": {},
   "outputs": [
    {
     "name": "stdout",
     "output_type": "stream",
     "text": [
      "Original [   2.90338001 -370.8526147  -191.62759004] [1989.03848673 5334.33099033 3145.78665711]\n",
      "(4506, 12374, 7337)\n",
      "(71, 194, 115)\n"
     ]
    }
   ],
   "source": [
    "fixed_fullres_path = 'fixed/zarr_stack/1_1_1'\n",
    "moving_fullres_path = 'moving/zarr_stack/1_1_1'\n",
    "\n",
    "fixed_fullres_store = zarr.NestedDirectoryStore(os.path.join(working_dir, \n",
    "                                                             fixed_fullres_path))\n",
    "moving_fullres_store = zarr.NestedDirectoryStore(os.path.join(working_dir,\n",
    "                                                              moving_fullres_path))\n",
    "fixed_img = zarr.open(fixed_fullres_store, mode='r')\n",
    "moving_img = zarr.open(moving_fullres_store, mode='r')\n",
    "\n",
    "true_factors = np.array(fixed_img.shape) / np.array(fixed_down.shape)\n",
    "t, center = coarse._scale_rigid_params(t_down, \n",
    "                                       center_down, \n",
    "                                       true_factors)\n",
    "\n",
    "print('Fullres:', t, center)\n",
    "print(fixed_img.shape)\n",
    "print(fixed_down.shape)"
   ]
  },
  {
   "cell_type": "markdown",
   "metadata": {},
   "source": [
    "# Save the fullres transformation"
   ]
  },
  {
   "cell_type": "code",
   "execution_count": 12,
   "metadata": {},
   "outputs": [],
   "source": [
    "rigid_path = 'rigid_transformation.pkl'\n",
    "\n",
    "transformation_dict = {'t': t,\n",
    "                       'theta': theta,\n",
    "                       'center': center}\n",
    "\n",
    "pickle_save(os.path.join(working_dir, rigid_path), transformation_dict)"
   ]
  },
  {
   "cell_type": "code",
   "execution_count": null,
   "metadata": {},
   "outputs": [],
   "source": []
  }
 ],
 "metadata": {
  "kernelspec": {
   "display_name": "Python (phathom)",
   "language": "python",
   "name": "phathom"
  },
  "language_info": {
   "codemirror_mode": {
    "name": "ipython",
    "version": 3
   },
   "file_extension": ".py",
   "mimetype": "text/x-python",
   "name": "python",
   "nbconvert_exporter": "python",
   "pygments_lexer": "ipython3",
   "version": "3.5.0"
  }
 },
=======
 "cells": [],
 "metadata": {},
>>>>>>> refs/remotes/origin/master
 "nbformat": 4,
 "nbformat_minor": 2
}

{
 "cells": [
  {
   "cell_type": "code",
   "execution_count": 76,
   "metadata": {},
   "outputs": [],
   "source": [
    "import numpy as np\n",
    "from scipy.ndimage import map_coordinates\n",
    "from scipy.interpolate import RegularGridInterpolator\n",
    "import time\n",
    "from tqdm import tqdm"
   ]
  },
  {
   "cell_type": "code",
   "execution_count": 102,
   "metadata": {},
   "outputs": [],
   "source": [
    "import matplotlib.pyplot as plt"
   ]
  },
  {
   "cell_type": "code",
   "execution_count": 77,
   "metadata": {},
   "outputs": [
    {
     "data": {
      "text/plain": [
       "(100, 100, 100)"
      ]
     },
     "execution_count": 77,
     "metadata": {},
     "output_type": "execute_result"
    }
   ],
   "source": [
    "img_shape = (100, 100, 100)\n",
    "\n",
    "data = np.random.rand(*img_shape)\n",
    "data.shape"
   ]
  },
  {
   "cell_type": "code",
   "execution_count": 78,
   "metadata": {},
   "outputs": [
    {
     "name": "stdout",
     "output_type": "stream",
     "text": [
      "(3, 10000000) (10000000, 3)\n"
     ]
    }
   ],
   "source": [
    "nb_pts = 10000000\n",
    "\n",
    "shape = (nb_pts, 3)\n",
    "idx = np.random.rand(*shape)\n",
    "coords = tuple(idx[:, i]*(data.shape[i]-1) for i in range(idx.shape[-1]))\n",
    "coords = np.asarray(coords)\n",
    "coords2 = coords.T\n",
    "print(coords.shape, coords2.shape)"
   ]
  },
  {
   "cell_type": "code",
   "execution_count": 79,
   "metadata": {},
   "outputs": [],
   "source": [
    "z = np.arange(img_shape[0])\n",
    "y = np.arange(img_shape[1])\n",
    "x = np.arange(img_shape[2])"
   ]
  },
  {
   "cell_type": "code",
   "execution_count": 80,
   "metadata": {},
   "outputs": [],
   "source": [
    "interp = RegularGridInterpolator((z, y, x), data)"
   ]
  },
  {
   "cell_type": "code",
   "execution_count": 90,
   "metadata": {},
   "outputs": [],
   "source": [
    "def timer(f, args, **kwargs):\n",
    "    t0 = time.time()\n",
    "    result = f(*args, **kwargs)\n",
    "    t = time.time() - t0\n",
    "    return t, result"
   ]
  },
  {
   "cell_type": "code",
   "execution_count": 52,
   "metadata": {},
   "outputs": [
    {
     "name": "stdout",
     "output_type": "stream",
     "text": [
      "CPU times: user 1min 47s, sys: 18.2 s, total: 2min 6s\n",
      "Wall time: 28.8 s\n"
     ]
    }
   ],
   "source": [
    "%%time\n",
    "values1 = interp(coords.T)"
   ]
  },
  {
   "cell_type": "code",
   "execution_count": 41,
   "metadata": {},
   "outputs": [
    {
     "name": "stdout",
     "output_type": "stream",
     "text": [
      "CPU times: user 6.88 s, sys: 112 ms, total: 6.99 s\n",
      "Wall time: 6.99 s\n"
     ]
    }
   ],
   "source": [
    "%%time\n",
    "values2 = map_coordinates(data, coords, order=1)"
   ]
  },
  {
   "cell_type": "code",
   "execution_count": 42,
   "metadata": {},
   "outputs": [
    {
     "data": {
      "text/plain": [
       "True"
      ]
     },
     "execution_count": 42,
     "metadata": {},
     "output_type": "execute_result"
    }
   ],
   "source": [
    "np.allclose(values1, values2)"
   ]
  },
  {
   "cell_type": "code",
   "execution_count": 92,
   "metadata": {},
   "outputs": [],
   "source": [
    "t, v = timer(map_coordinates, (data, coords), order=1)"
   ]
  },
  {
   "cell_type": "code",
   "execution_count": 95,
   "metadata": {},
   "outputs": [],
   "source": [
    "def get_coords(n, bound):\n",
    "    idx = np.random.rand(n, 3)\n",
    "    coords = tuple(idx[:, i]*(bound[i]-1) for i in range(idx.shape[-1]))\n",
    "    coords = np.asarray(coords)\n",
    "    return coords"
   ]
  },
  {
   "cell_type": "code",
   "execution_count": 110,
   "metadata": {},
   "outputs": [
    {
     "name": "stderr",
     "output_type": "stream",
     "text": [
      "100%|██████████| 10/10 [00:13<00:00,  1.39s/it]"
     ]
    },
    {
     "name": "stdout",
     "output_type": "stream",
     "text": [
      "[True, True, True, True, True, True, True, True, True, True]\n"
     ]
    },
    {
     "name": "stderr",
     "output_type": "stream",
     "text": [
      "\n"
     ]
    }
   ],
   "source": [
    "N = np.logspace(1, 7, 10, dtype=np.int)\n",
    "\n",
    "t_rgi = []\n",
    "t_mc = []\n",
    "close = []\n",
    "for n in tqdm(N):\n",
    "    coords = get_coords(n, data.shape)\n",
    "    t1, v1 = timer(interp, (coords.T,))\n",
    "    t_rgi.append(t1)\n",
    "    t2, v2 = timer(map_coordinates, (data, coords), order=1)\n",
    "    t_mc.append(t2)\n",
    "    close.append(np.allclose(v1, v2))\n",
    "t1 = np.array(t_rgi)\n",
    "t2 = np.array(t_mc)\n",
    "print(close)"
   ]
  },
  {
   "cell_type": "code",
   "execution_count": 116,
   "metadata": {},
   "outputs": [
    {
     "data": {
      "image/png": "[encoded data removed]",
      "text/plain": [
       "<Figure size 432x288 with 1 Axes>"
      ]
     },
     "metadata": {},
     "output_type": "display_data"
    }
   ],
   "source": [
    "plt.plot(N, t1, 'r-', label='RegGridInterp')\n",
    "plt.plot(N, t2, 'b-', label='linear mapcoords')\n",
    "plt.xlabel('N')\n",
    "plt.ylabel('time (sec)')\n",
    "plt.legend()\n",
    "plt.show()"
   ]
  },
  {
   "cell_type": "code",
   "execution_count": 123,
   "metadata": {},
   "outputs": [
    {
     "name": "stderr",
     "output_type": "stream",
     "text": [
      "100%|██████████| 10/10 [00:55<00:00,  5.51s/it]"
     ]
    },
    {
     "name": "stdout",
     "output_type": "stream",
     "text": [
      "[True, True, True, True, True, True, True, True, True, True]\n"
     ]
    },
    {
     "name": "stderr",
     "output_type": "stream",
     "text": [
      "\n"
     ]
    }
   ],
   "source": [
    "N = np.linspace(1, 10000000, 10, dtype=np.int)\n",
    "\n",
    "t_rgi = []\n",
    "t_mc = []\n",
    "close = []\n",
    "for n in tqdm(N):\n",
    "    coords = get_coords(n, data.shape)\n",
    "    t1, v1 = timer(interp, (coords.T,))\n",
    "    t_rgi.append(t1)\n",
    "    t2, v2 = timer(map_coordinates, (data, coords), order=1)\n",
    "    t_mc.append(t2)\n",
    "    close.append(np.allclose(v1, v2))\n",
    "t1 = np.array(t_rgi)\n",
    "t2 = np.array(t_mc)\n",
    "print(close)"
   ]
  },
  {
   "cell_type": "code",
   "execution_count": 124,
   "metadata": {},
   "outputs": [
    {
     "data": {
      "image/png": "[encoded data removed]",
      "text/plain": [
       "<Figure size 432x288 with 1 Axes>"
      ]
     },
     "metadata": {},
     "output_type": "display_data"
    }
   ],
   "source": [
    "plt.plot(N, t1, 'r-', label='RegGridInterp')\n",
    "plt.plot(N, t2, 'b-', label='linear mapcoords')\n",
    "plt.xlabel('N')\n",
    "plt.ylabel('time (sec)')\n",
    "plt.legend()\n",
    "plt.show()"
   ]
  },
  {
   "cell_type": "code",
   "execution_count": null,
   "metadata": {},
   "outputs": [],
   "source": []
  }
 ],
 "metadata": {
  "kernelspec": {
   "display_name": "Python [conda env:phathom]",
   "language": "python",
   "name": "conda-env-phathom-py"
  },
  "language_info": {
   "codemirror_mode": {
    "name": "ipython",
    "version": 3
   },
   "file_extension": ".py",
   "mimetype": "text/x-python",
   "name": "python",
   "nbconvert_exporter": "python",
   "pygments_lexer": "ipython3",
   "version": "3.5.5"
  }
 },
 "nbformat": 4,
 "nbformat_minor": 2
}

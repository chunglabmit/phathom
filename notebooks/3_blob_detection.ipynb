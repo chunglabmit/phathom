{
 "cells": [
  {
   "cell_type": "markdown",
   "metadata": {},
   "source": [
    "# Step 3: Detect blobs"
   ]
  },
  {
   "cell_type": "markdown",
   "metadata": {},
   "source": [
    "Should show the detected blobs before moving on..."
   ]
  },
  {
   "cell_type": "code",
<<<<<<< HEAD
   "execution_count": 2,
   "metadata": {},
   "outputs": [],
   "source": [
    "import os\n",
    "import zarr\n",
    "from phathom.registration.registration import detect_blobs_parallel"
   ]
  },
  {
   "cell_type": "code",
   "execution_count": 1,
   "metadata": {},
   "outputs": [],
   "source": [
    "working_dir = '/home/jswaney/coregistration/'"
   ]
  },
  {
   "cell_type": "code",
   "execution_count": null,
   "metadata": {},
   "outputs": [],
   "source": [
    "# Open images\n",
    "fixed_zarr_path = 'fixed/zarr_stack/1_1_1'\n",
    "moving_zarr_path =  'moving/zarr_stack/1_1_1'\n",
    "\n",
    "fixed_store = zarr.NestedDirectoryStore(os.path.join(working_dir, \n",
    "                                                     fixed_zarr_path))\n",
    "moving_store = zarr.NestedDirectoryStore(os.path.join(working_dir,\n",
    "                                                      moving_zarr_path))\n",
    "fixed_img = zarr.open(fixed_store, mode='r')\n",
    "moving_img = zarr.open(moving_store, mode='r')\n",
    "\n",
    "print('Opened fixed image:', fixed_img.shape)\n",
    "print('Opened moving image:', moving_img.shape)"
   ]
  },
  {
   "cell_type": "code",
   "execution_count": null,
   "metadata": {},
   "outputs": [],
   "source": [
    "# Detect blobs\n",
    "sigma = (1.2, 2.0, 2.0)\n",
    "min_distance = 3\n",
    "min_intensity = 600\n",
    "nb_workers = 48\n",
    "overlap = 8\n",
    "\n",
    "\n",
    "fixed_pts = detect_blobs_parallel(fixed_img, \n",
    "                                  sigma, \n",
    "                                  min_distance, \n",
    "                                  min_intensity, \n",
    "                                  nb_workers, \n",
    "                                  overlap)\n",
    "\n",
    "moving_pts = detect_blobs_parallel(moving_img, \n",
    "                                   sigma, \n",
    "                                   min_distance, \n",
    "                                   min_intensity, \n",
    "                                   nb_workers, \n",
    "                                   overlap)\n",
    "\n",
    "print('  found {} keypoints in fixed image'.format(len(fixed_pts)))\n",
    "print('  found {} keypoints in moving image'.format(len(moving_pts)))"
   ]
  },
  {
   "cell_type": "code",
   "execution_count": null,
   "metadata": {},
   "outputs": [],
   "source": [
    "# Save blobs\n",
    "fixed_pts_path = 'fixed/blobs.npy'\n",
    "moving_pts_path = 'moving/blobs.npy'\n",
    "\n",
    "np.save(os.path.join(working_dir,fixed_pts_path), \n",
    "        fixed_pts)\n",
    "np.save(os.path.join(working_dir, moving_pts_path), \n",
    "        moving_pts)"
   ]
=======
   "execution_count": null,
   "metadata": {},
   "outputs": [],
   "source": []
>>>>>>> refs/remotes/origin/master
  }
 ],
 "metadata": {
  "kernelspec": {
   "display_name": "Python (phathom)",
   "language": "python",
   "name": "phathom"
  },
  "language_info": {
   "codemirror_mode": {
    "name": "ipython",
    "version": 3
   },
   "file_extension": ".py",
   "mimetype": "text/x-python",
   "name": "python",
   "nbconvert_exporter": "python",
   "pygments_lexer": "ipython3",
   "version": "3.5.0"
  }
 },
 "nbformat": 4,
 "nbformat_minor": 2
}
